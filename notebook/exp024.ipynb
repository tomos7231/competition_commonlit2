{
 "cells": [
  {
   "cell_type": "code",
   "execution_count": 1,
   "id": "6c4d61fc-85c1-41a5-a90a-8f7d3cef5f28",
   "metadata": {},
   "outputs": [
    {
     "name": "stdout",
     "output_type": "stream",
     "text": [
      "Mon Oct  2 02:01:38 2023       \n",
      "+-----------------------------------------------------------------------------+\n",
      "| NVIDIA-SMI 525.116.04   Driver Version: 525.116.04   CUDA Version: 12.0     |\n",
      "|-------------------------------+----------------------+----------------------+\n",
      "| GPU  Name        Persistence-M| Bus-Id        Disp.A | Volatile Uncorr. ECC |\n",
      "| Fan  Temp  Perf  Pwr:Usage/Cap|         Memory-Usage | GPU-Util  Compute M. |\n",
      "|                               |                      |               MIG M. |\n",
      "|===============================+======================+======================|\n",
      "|   0  NVIDIA RTX A6000    Off  | 00000000:00:05.0 Off |                  Off |\n",
      "| 30%   35C    P8    17W / 300W |      1MiB / 49140MiB |      0%      Default |\n",
      "|                               |                      |                  N/A |\n",
      "+-------------------------------+----------------------+----------------------+\n",
      "                                                                               \n",
      "+-----------------------------------------------------------------------------+\n",
      "| Processes:                                                                  |\n",
      "|  GPU   GI   CI        PID   Type   Process name                  GPU Memory |\n",
      "|        ID   ID                                                   Usage      |\n",
      "|=============================================================================|\n",
      "|  No running processes found                                                 |\n",
      "+-----------------------------------------------------------------------------+\n"
     ]
    }
   ],
   "source": [
    "!nvidia-smi"
   ]
  },
  {
   "cell_type": "code",
   "execution_count": 2,
   "id": "5f92ca95-0c1c-43f9-a49e-7b09d343d014",
   "metadata": {},
   "outputs": [
    {
     "name": "stdout",
     "output_type": "stream",
     "text": [
      "\u001b[33mWARNING: Running pip as the 'root' user can result in broken permissions and conflicting behaviour with the system package manager. It is recommended to use a virtual environment instead: https://pip.pypa.io/warnings/venv\u001b[0m\u001b[33m\n",
      "\u001b[0m"
     ]
    }
   ],
   "source": [
    "!pip install -q pyspellchecker textstat"
   ]
  },
  {
   "cell_type": "code",
   "execution_count": 3,
   "id": "61a04b3f-d4dd-47cc-82e2-b7c61264b271",
   "metadata": {},
   "outputs": [
    {
     "name": "stdout",
     "output_type": "stream",
     "text": [
      "Collecting lightgbm==3.3.2\n",
      "  Downloading lightgbm-3.3.2-py3-none-manylinux1_x86_64.whl (2.0 MB)\n",
      "\u001b[2K     \u001b[90m━━━━━━━━━━━━━━━━━━━━━━━━━━━━━━━━━━━━━━━━\u001b[0m \u001b[32m2.0/2.0 MB\u001b[0m \u001b[31m49.3 MB/s\u001b[0m eta \u001b[36m0:00:00\u001b[0m00:01\u001b[0m\n",
      "\u001b[?25hCollecting xgboost==1.7.6\n",
      "  Downloading xgboost-1.7.6-py3-none-manylinux2014_x86_64.whl (200.3 MB)\n",
      "\u001b[2K     \u001b[90m━━━━━━━━━━━━━━━━━━━━━━━━━━━━━━━━━━━━━━\u001b[0m \u001b[32m200.3/200.3 MB\u001b[0m \u001b[31m11.3 MB/s\u001b[0m eta \u001b[36m0:00:00\u001b[0m00:01\u001b[0m00:01\u001b[0m\n",
      "\u001b[?25hCollecting catboost==1.2.1\n",
      "  Downloading catboost-1.2.1-cp39-cp39-manylinux2014_x86_64.whl (98.7 MB)\n",
      "\u001b[2K     \u001b[90m━━━━━━━━━━━━━━━━━━━━━━━━━━━━━━━━━━━━━━━━\u001b[0m \u001b[32m98.7/98.7 MB\u001b[0m \u001b[31m12.7 MB/s\u001b[0m eta \u001b[36m0:00:00\u001b[0m00:01\u001b[0m0:01\u001b[0mm\n",
      "\u001b[?25hRequirement already satisfied: wheel in /usr/local/lib/python3.9/dist-packages (from lightgbm==3.3.2) (0.35.1)\n",
      "Requirement already satisfied: numpy in /usr/local/lib/python3.9/dist-packages (from lightgbm==3.3.2) (1.23.4)\n",
      "Requirement already satisfied: scipy in /usr/local/lib/python3.9/dist-packages (from lightgbm==3.3.2) (1.9.2)\n",
      "Requirement already satisfied: scikit-learn!=0.22.0 in /usr/local/lib/python3.9/dist-packages (from lightgbm==3.3.2) (1.1.2)\n",
      "Requirement already satisfied: six in /usr/lib/python3/dist-packages (from catboost==1.2.1) (1.14.0)\n",
      "Collecting graphviz\n",
      "  Downloading graphviz-0.20.1-py3-none-any.whl (47 kB)\n",
      "\u001b[2K     \u001b[90m━━━━━━━━━━━━━━━━━━━━━━━━━━━━━━━━━━━━━━━━\u001b[0m \u001b[32m47.0/47.0 kB\u001b[0m \u001b[31m13.6 MB/s\u001b[0m eta \u001b[36m0:00:00\u001b[0m\n",
      "\u001b[?25hRequirement already satisfied: pandas>=0.24 in /usr/local/lib/python3.9/dist-packages (from catboost==1.2.1) (1.5.0)\n",
      "Collecting plotly\n",
      "  Downloading plotly-5.17.0-py2.py3-none-any.whl (15.6 MB)\n",
      "\u001b[2K     \u001b[90m━━━━━━━━━━━━━━━━━━━━━━━━━━━━━━━━━━━━━━━━\u001b[0m \u001b[32m15.6/15.6 MB\u001b[0m \u001b[31m76.3 MB/s\u001b[0m eta \u001b[36m0:00:00\u001b[0m00:01\u001b[0m00:01\u001b[0m\n",
      "\u001b[?25hRequirement already satisfied: matplotlib in /usr/local/lib/python3.9/dist-packages (from catboost==1.2.1) (3.6.1)\n",
      "Requirement already satisfied: python-dateutil>=2.8.1 in /usr/local/lib/python3.9/dist-packages (from pandas>=0.24->catboost==1.2.1) (2.8.2)\n",
      "Requirement already satisfied: pytz>=2020.1 in /usr/local/lib/python3.9/dist-packages (from pandas>=0.24->catboost==1.2.1) (2022.7.1)\n",
      "Requirement already satisfied: joblib>=1.0.0 in /usr/local/lib/python3.9/dist-packages (from scikit-learn!=0.22.0->lightgbm==3.3.2) (1.2.0)\n",
      "Requirement already satisfied: threadpoolctl>=2.0.0 in /usr/local/lib/python3.9/dist-packages (from scikit-learn!=0.22.0->lightgbm==3.3.2) (3.1.0)\n",
      "Requirement already satisfied: kiwisolver>=1.0.1 in /usr/local/lib/python3.9/dist-packages (from matplotlib->catboost==1.2.1) (1.4.4)\n",
      "Requirement already satisfied: fonttools>=4.22.0 in /usr/local/lib/python3.9/dist-packages (from matplotlib->catboost==1.2.1) (4.38.0)\n",
      "Requirement already satisfied: pillow>=6.2.0 in /usr/local/lib/python3.9/dist-packages (from matplotlib->catboost==1.2.1) (9.2.0)\n",
      "Requirement already satisfied: packaging>=20.0 in /usr/local/lib/python3.9/dist-packages (from matplotlib->catboost==1.2.1) (23.0)\n",
      "Requirement already satisfied: pyparsing>=2.2.1 in /usr/local/lib/python3.9/dist-packages (from matplotlib->catboost==1.2.1) (3.0.9)\n",
      "Requirement already satisfied: cycler>=0.10 in /usr/local/lib/python3.9/dist-packages (from matplotlib->catboost==1.2.1) (0.11.0)\n",
      "Requirement already satisfied: contourpy>=1.0.1 in /usr/local/lib/python3.9/dist-packages (from matplotlib->catboost==1.2.1) (1.0.7)\n",
      "Collecting tenacity>=6.2.0\n",
      "  Downloading tenacity-8.2.3-py3-none-any.whl (24 kB)\n",
      "Installing collected packages: tenacity, graphviz, xgboost, plotly, lightgbm, catboost\n",
      "  Attempting uninstall: xgboost\n",
      "    Found existing installation: xgboost 1.6.2\n",
      "    Uninstalling xgboost-1.6.2:\n",
      "      Successfully uninstalled xgboost-1.6.2\n",
      "Successfully installed catboost-1.2.1 graphviz-0.20.1 lightgbm-3.3.2 plotly-5.17.0 tenacity-8.2.3 xgboost-1.7.6\n",
      "\u001b[33mWARNING: Running pip as the 'root' user can result in broken permissions and conflicting behaviour with the system package manager. It is recommended to use a virtual environment instead: https://pip.pypa.io/warnings/venv\u001b[0m\u001b[33m\n",
      "\u001b[0m"
     ]
    }
   ],
   "source": [
    "!pip install lightgbm==3.3.2 xgboost==1.7.6 catboost==1.2.1"
   ]
  },
  {
   "cell_type": "code",
   "execution_count": 4,
   "id": "ef23f706-f84a-4274-a21f-62d3ceb0b4dc",
   "metadata": {},
   "outputs": [],
   "source": [
    "import os\n",
    "\n",
    "class Config:\n",
    "    AUTHOR = \"wanwan7123\"\n",
    "\n",
    "    NAME = \"commonlit-exp024-deberta-v3-large\"\n",
    "    MODEL_PATH = \"/notebooks/output/commonlit-mlm-deberta-v3-large/model\"\n",
    "    ROOT = \"/notebooks\"\n",
    "\n",
    "    apex=True\n",
    "    seed = 42\n",
    "    num_fold = 4\n",
    "    trn_fold = [0, 1, 2, 3]\n",
    "    batch_size = 16\n",
    "    n_epochs = 3\n",
    "    max_len = 1024\n",
    "    target_list = [\"content\", \"wording\"]\n",
    "    \n",
    "    weight_decay = 0.01\n",
    "    scheduler='cosine'\n",
    "    betas = (0.9, 0.999)\n",
    "    encoder_lr = 2e-5\n",
    "    decoder_lr = 3e-5\n",
    "    lr_weight_decay = 0.98\n",
    "    min_lr = 1e-6\n",
    "    eps = 1e-6\n",
    "    eval_step = 60\n",
    "    num_cycles=0.5\n",
    "    num_warmup_steps_rate=0.1\n",
    "    gradient_accumulation_steps = 1\n",
    "    \n",
    "    # GPU Optimize Settings\n",
    "    gpu_optimize_config= {\n",
    "        \"freezing\": True,\n",
    "        \"gradient_checkpoint\": True\n",
    "    }\n",
    "        \n",
    "    lgb_model_params = {\n",
    "        \"objective\": \"rmse\",\n",
    "        \"metric\": \"regression\",\n",
    "        \"verbosity\": -1,\n",
    "        \"learning_rate\": 0.01,\n",
    "        \"random_state\": seed,\n",
    "        \"feature_fraction\": 0.9\n",
    "    }\n",
    "    \n",
    "    lgb_train_params = {\n",
    "        \"num_boost_round\": 999999,\n",
    "    }\n",
    "    \n",
    "        \n",
    "    xgb_stopping_rounds = 50\n",
    "    xgb_log_evaluation = False\n",
    "    xgb_model_params = {\n",
    "        \"objective\": \"reg:squarederror\",\n",
    "        \"eval_metric\": \"rmse\",\n",
    "        \"random_state\": seed,\n",
    "        \"learning_rate\": 0.01,\n",
    "        \"max_depth\": 4,\n",
    "        \"subsample\": 0.8,\n",
    "        \"colsample_bytree\": 0.4,\n",
    "        }\n",
    "    xgb_train_params = {\n",
    "        \"num_boost_round\": 99999,\n",
    "        \"verbose_eval\": 1000,\n",
    "    }\n",
    "    \n",
    "    cbt_model_params = {\n",
    "        \"loss_function\": \"RMSE\",\n",
    "        \"eval_metric\": \"RMSE\",\n",
    "        \"iterations\": 100000,\n",
    "        \"learning_rate\": 0.01,\n",
    "        \"depth\": 4,\n",
    "        \"l2_leaf_reg\": 10,\n",
    "        \"random_seed\": seed,\n",
    "        \"od_type\": \"Iter\",\n",
    "        \"od_wait\": 100,\n",
    "        \"verbose\": 100,\n",
    "    }"
   ]
  },
  {
   "cell_type": "code",
   "execution_count": 5,
   "id": "e005db68-c9ac-4d8f-9cf0-0ad993be0bc3",
   "metadata": {},
   "outputs": [
    {
     "name": "stdout",
     "output_type": "stream",
     "text": [
      "Looking in links: https://download.pytorch.org/whl/torch_stable.html\n",
      "Collecting torch==1.10.1+cu113\n",
      "  Downloading https://download.pytorch.org/whl/cu113/torch-1.10.1%2Bcu113-cp39-cp39-linux_x86_64.whl (1821.5 MB)\n",
      "\u001b[2K     \u001b[90m━━━━━━━━━━━━━━━━━━━━━━━━━━━━━━━━━━━━━━━━\u001b[0m \u001b[32m1.8/1.8 GB\u001b[0m \u001b[31m1.4 MB/s\u001b[0m eta \u001b[36m0:00:00\u001b[0m:00:01\u001b[0m00:02\u001b[0mm\n",
      "\u001b[?25hRequirement already satisfied: typing-extensions in /usr/local/lib/python3.9/dist-packages (from torch==1.10.1+cu113) (4.4.0)\n",
      "Installing collected packages: torch\n",
      "  Attempting uninstall: torch\n",
      "    Found existing installation: torch 1.12.1+cu116\n",
      "    Uninstalling torch-1.12.1+cu116:\n",
      "      Successfully uninstalled torch-1.12.1+cu116\n",
      "\u001b[31mERROR: pip's dependency resolver does not currently take into account all the packages that are installed. This behaviour is the source of the following dependency conflicts.\n",
      "torchvision 0.13.1+cu116 requires torch==1.12.1, but you have torch 1.10.1+cu113 which is incompatible.\n",
      "torchaudio 0.12.1+cu116 requires torch==1.12.1, but you have torch 1.10.1+cu113 which is incompatible.\u001b[0m\u001b[31m\n",
      "\u001b[0mSuccessfully installed torch-1.10.1+cu113\n",
      "\u001b[33mWARNING: Running pip as the 'root' user can result in broken permissions and conflicting behaviour with the system package manager. It is recommended to use a virtual environment instead: https://pip.pypa.io/warnings/venv\u001b[0m\u001b[33m\n",
      "\u001b[0mCollecting text-unidecode\n",
      "  Downloading text_unidecode-1.3-py2.py3-none-any.whl (78 kB)\n",
      "\u001b[2K     \u001b[90m━━━━━━━━━━━━━━━━━━━━━━━━━━━━━━━━━━━━━━━━\u001b[0m \u001b[32m78.2/78.2 kB\u001b[0m \u001b[31m19.7 MB/s\u001b[0m eta \u001b[36m0:00:00\u001b[0m\n",
      "\u001b[?25hInstalling collected packages: text-unidecode\n",
      "Successfully installed text-unidecode-1.3\n",
      "\u001b[33mWARNING: Running pip as the 'root' user can result in broken permissions and conflicting behaviour with the system package manager. It is recommended to use a virtual environment instead: https://pip.pypa.io/warnings/venv\u001b[0m\u001b[33m\n",
      "\u001b[0m"
     ]
    }
   ],
   "source": [
    "import os\n",
    "import re\n",
    "import gc\n",
    "import sys\n",
    "import json\n",
    "import time\n",
    "import shutil\n",
    "import joblib\n",
    "import random\n",
    "import requests\n",
    "import warnings\n",
    "warnings.filterwarnings('ignore')\n",
    "from ast import literal_eval\n",
    "from tqdm.auto import tqdm\n",
    "from pathlib import Path\n",
    "from glob import glob\n",
    "\n",
    "import numpy as np\n",
    "import pandas as pd\n",
    "import scipy \n",
    "import itertools\n",
    "import matplotlib.pyplot as plt\n",
    "import seaborn as sns\n",
    "from sklearn.model_selection import (\n",
    "    StratifiedKFold, \n",
    "    KFold, \n",
    "    GroupKFold,\n",
    "    StratifiedGroupKFold\n",
    ")\n",
    "from sklearn.metrics import mean_squared_error\n",
    "\n",
    "from spellchecker import SpellChecker\n",
    "import textstat\n",
    "import lightgbm as lgb\n",
    "\n",
    "! pip install torch==1.10.1+cu113 -f https://download.pytorch.org/whl/torch_stable.html\n",
    "import torch\n",
    "import torch.nn as nn\n",
    "from torch.utils.data import Dataset, DataLoader, Subset\n",
    "from torch.utils.checkpoint import checkpoint\n",
    "from torch.cuda.amp import autocast, GradScaler\n",
    "import torch.nn.functional as F\n",
    "\n",
    "!pip install text-unidecode"
   ]
  },
  {
   "cell_type": "markdown",
   "id": "5dab3cbd-a73c-4b3f-aee6-cf7b3bb3e257",
   "metadata": {},
   "source": [
    "# utils"
   ]
  },
  {
   "cell_type": "code",
   "execution_count": 6,
   "id": "14a32846-749b-4981-bd31-94c4beeb650a",
   "metadata": {},
   "outputs": [],
   "source": [
    "def setup(cfg):\n",
    "    cfg.device = torch.device('cuda' if torch.cuda.is_available() else 'cpu')\n",
    "    \n",
    "    # pip install\n",
    "    ! pip install -qq transformers==4.16.2\n",
    "    ! pip install -qq tokenizers==0.11.6\n",
    "    ! pip install -qq transformers[sentencepiece]\n",
    "\n",
    "    # set dirs    \n",
    "    cfg.INPUT = Path(f\"{cfg.ROOT}/input\")\n",
    "    cfg.OUTPUT = Path(f\"{cfg.ROOT}/output\")\n",
    "    cfg.EXP = cfg.OUTPUT / cfg.NAME\n",
    "\n",
    "    cfg.api_path = f\"{cfg.ROOT}/kaggle.json\"\n",
    "\n",
    "    cfg.EXP_MODEL = cfg.EXP / \"model\"\n",
    "    cfg.EXP_FIG = cfg.EXP / \"fig\"\n",
    "    cfg.EXP_PREDS = cfg.EXP / \"preds\"\n",
    "\n",
    "    # make dirs\n",
    "    for d in [cfg.EXP, cfg.EXP_MODEL, cfg.EXP_FIG, cfg.EXP_PREDS]:\n",
    "        d.mkdir(exist_ok=True)\n",
    "        \n",
    "    # use kaggle api (need kaggle token)\n",
    "    f = open(cfg.api_path, 'r')\n",
    "    json_data = json.load(f) \n",
    "    os.environ['KAGGLE_USERNAME'] = json_data['username']\n",
    "    os.environ['KAGGLE_KEY'] = json_data['key']\n",
    "    \n",
    "    return cfg\n",
    "\n",
    "def dataset_create_new(dataset_name, upload_dir):\n",
    "    dataset_metadata = {}\n",
    "    dataset_metadata['id'] = f'{os.environ[\"KAGGLE_USERNAME\"]}/{dataset_name}'\n",
    "    dataset_metadata['licenses'] = [{'name': 'CC0-1.0'}]\n",
    "    dataset_metadata['title'] = dataset_name\n",
    "    with open(os.path.join(upload_dir, 'dataset-metadata.json'), 'w') as f:\n",
    "        json.dump(dataset_metadata, f, indent=4)\n",
    "    api = KaggleApi()\n",
    "    api.authenticate()\n",
    "    api.dataset_create_new(folder=upload_dir, convert_to_csv=False, dir_mode='tar')"
   ]
  },
  {
   "cell_type": "code",
   "execution_count": 7,
   "id": "19b9b321-c43a-4428-99d5-430ca1917b82",
   "metadata": {},
   "outputs": [],
   "source": [
    "# =====================\n",
    "# Utils\n",
    "# =====================\n",
    "# Seed\n",
    "def set_seed(seed=42):\n",
    "    random.seed(seed)\n",
    "    os.environ['PYTHONHASHSEED'] = str(seed)\n",
    "    np.random.seed(seed)\n",
    "    torch.manual_seed(seed)\n",
    "    torch.cuda.manual_seed(seed)\n",
    "    torch.backends.cudnn.deterministic = True\n",
    "\n",
    "# KFold\n",
    "def get_kfold(train, n_splits, seed):\n",
    "    kf = KFold(n_splits=n_splits, shuffle=True, random_state=seed)\n",
    "    generator = kf.split(train)\n",
    "    fold_series = []\n",
    "    for fold, (idx_train, idx_valid) in enumerate(generator):\n",
    "        fold_series.append(pd.Series(fold, index=idx_valid))\n",
    "    fold_series = pd.concat(fold_series).sort_index()\n",
    "    return fold_series\n",
    "\n",
    "def get_stratifiedkfold(train, target_col, n_splits, seed):\n",
    "    kf = StratifiedKFold(n_splits=n_splits, shuffle=True, random_state=seed)\n",
    "    generator = kf.split(train, train[target_col])\n",
    "    fold_series = []\n",
    "    for fold, (idx_train, idx_valid) in enumerate(generator):\n",
    "        fold_series.append(pd.Series(fold, index=idx_valid))\n",
    "    fold_series = pd.concat(fold_series).sort_index()\n",
    "    return fold_series\n",
    "\n",
    "def get_groupkfold(train, target_col, group_col, n_splits):\n",
    "    kf = GroupKFold(n_splits=n_splits)\n",
    "    generator = kf.split(train, train[target_col], train[group_col])\n",
    "    fold_series = []\n",
    "    for fold, (idx_train, idx_valid) in enumerate(generator):\n",
    "        fold_series.append(pd.Series(fold, index=idx_valid))\n",
    "    fold_series = pd.concat(fold_series).sort_index()\n",
    "    return fold_series\n",
    "\n",
    "def get_groupstratifiedkfold(train, target_col, group_col, n_splits, seed):\n",
    "    kf = StratifiedGroupKFold(n_splits=n_splits, shuffle=True, random_state=seed)\n",
    "    generator = kf.split(train, train[target_col], train[group_col])\n",
    "    fold_series = []\n",
    "    for fold, (idx_train, idx_valid) in enumerate(generator):\n",
    "        fold_series.append(pd.Series(fold, index=idx_valid))\n",
    "    fold_series = pd.concat(fold_series).sort_index()\n",
    "    return fold_series\n",
    "\n",
    "def get_multilabelstratifiedkfold(train, target_col, n_splits, seed):\n",
    "    kf = MultilabelStratifiedKFold(n_splits=n_splits, shuffle=True, random_state=seed)\n",
    "    generator = kf.split(train, train[target_col])\n",
    "    fold_series = []\n",
    "    for fold, (idx_train, idx_valid) in enumerate(generator):\n",
    "        fold_series.append(pd.Series(fold, index=idx_valid))\n",
    "    fold_series = pd.concat(fold_series).sort_index()\n",
    "    return fold_series\n",
    "\n",
    "def get_commonlit_fold(train):\n",
    "    id2fold = {\n",
    "        \"814d6b\": 0,\n",
    "        \"39c16e\": 1,\n",
    "        \"3b9047\": 2,\n",
    "        \"ebad26\": 3,\n",
    "    }\n",
    "    train[\"fold\"] = train[\"prompt_id\"].map(id2fold)\n",
    "    return train[\"fold\"]"
   ]
  },
  {
   "cell_type": "code",
   "execution_count": 8,
   "id": "e0215b90-d40f-4e2b-bccb-c516afb12c2c",
   "metadata": {},
   "outputs": [],
   "source": [
    "def mcrmse(cfg, preds, df, verbose = True):\n",
    "    scores = []\n",
    "    all_score = 0\n",
    "    for i, column in enumerate(cfg.target_list):\n",
    "        score = np.sqrt(mean_squared_error(preds[:, i], df[column]))\n",
    "        if verbose:\n",
    "            print(f\"{column} rmse:\", score)\n",
    "        all_score += score/len(cfg.target_list)\n",
    "        scores.append(score)\n",
    "    return all_score, scores[0], scores[1]"
   ]
  },
  {
   "cell_type": "code",
   "execution_count": 9,
   "id": "0c1c319c-f529-4f59-b045-03c7dcb78d50",
   "metadata": {},
   "outputs": [],
   "source": [
    "# def mcrmse(cfg, preds, df, verbose = True):\n",
    "#     all_score = 0\n",
    "#     for i, column in enumerate(cfg.target_list):\n",
    "#         score = np.sqrt(mean_squared_error(preds[:, i], df[column]))\n",
    "#         if verbose:\n",
    "#             print(f\"{column} rmse:\", score)\n",
    "#         all_score += score/len(cfg.target_list)\n",
    "#     return all_score"
   ]
  },
  {
   "cell_type": "markdown",
   "id": "b6334798-8f53-419e-a378-63d8daeda473",
   "metadata": {},
   "source": [
    "# preprocess"
   ]
  },
  {
   "cell_type": "code",
   "execution_count": 10,
   "id": "f0b7b941-e196-4349-8aac-c3e3ca796033",
   "metadata": {},
   "outputs": [],
   "source": [
    "from text_unidecode import unidecode\n",
    "from typing import Dict, List, Tuple\n",
    "import codecs\n",
    "\n",
    "def replace_encoding_with_utf8(error: UnicodeError) -> Tuple[bytes, int]:\n",
    "    return error.object[error.start : error.end].encode(\"utf-8\"), error.end\n",
    "\n",
    "\n",
    "def replace_decoding_with_cp1252(error: UnicodeError) -> Tuple[str, int]:\n",
    "    return error.object[error.start : error.end].decode(\"cp1252\"), error.end\n",
    "\n",
    "# Register the encoding and decoding error handlers for `utf-8` and `cp1252`.\n",
    "codecs.register_error(\"replace_encoding_with_utf8\", replace_encoding_with_utf8)\n",
    "codecs.register_error(\"replace_decoding_with_cp1252\", replace_decoding_with_cp1252)\n",
    "\n",
    "def resolve_encodings_and_normalize(text: str) -> str:\n",
    "    \"\"\"Resolve the encoding problems and normalize the abnormal characters.\"\"\"\n",
    "    text = (\n",
    "        text.encode(\"raw_unicode_escape\")\n",
    "        .decode(\"utf-8\", errors=\"replace_decoding_with_cp1252\")\n",
    "        .encode(\"cp1252\", errors=\"replace_encoding_with_utf8\")\n",
    "        .decode(\"utf-8\", errors=\"replace_decoding_with_cp1252\")\n",
    "    )\n",
    "    text = unidecode(text)\n",
    "    return text"
   ]
  },
  {
   "cell_type": "code",
   "execution_count": 11,
   "id": "da9fd712-5bd1-45b0-b5b9-c7f5d623cfe6",
   "metadata": {},
   "outputs": [],
   "source": [
    "misspell_mapping = {\n",
    "    'studentdesigned': 'student designed',\n",
    "    'teacherdesigned': 'teacher designed',\n",
    "    'genericname': 'generic name',\n",
    "    'winnertakeall': 'winner take all',\n",
    "    'studentname': 'student name',\n",
    "    'driveless': 'driverless',\n",
    "    'teachername': 'teacher name',\n",
    "    'propername': 'proper name',\n",
    "    'bestlaid': 'best laid',\n",
    "    'genericschool': 'generic school',\n",
    "    'schoolname': 'school name',\n",
    "    'winnertakesall': 'winner take all',\n",
    "    'elctoral': 'electoral',\n",
    "    'eletoral': 'electoral',\n",
    "    'genericcity': 'generic city',\n",
    "    'elctors': 'electoral',\n",
    "    'venuse': 'venue',\n",
    "    'blimplike': 'blimp like',\n",
    "    'selfdriving': 'self driving',\n",
    "    'electorals': 'electoral',\n",
    "    'nearrecord': 'near record',\n",
    "    'egyptianstyle': 'egyptian style',\n",
    "    'oddnumbered': 'odd numbered',\n",
    "    'carintensive': 'car intensive',\n",
    "    'elecoral': 'electoral',\n",
    "    'oction': 'auction',\n",
    "    'electroal': 'electoral',\n",
    "    'evennumbered': 'even numbered',\n",
    "    'mesalandforms': 'mesa landforms',\n",
    "    'electoralvote': 'electoral vote',\n",
    "    'relativename': 'relative name',\n",
    "    '22euro': 'twenty two euro',\n",
    "    'ellectoral': 'electoral',\n",
    "    'thirtyplus': 'thirty plus',\n",
    "    'collegewon': 'college won',\n",
    "    'hisher': 'higher',\n",
    "    'teacherbased': 'teacher based',\n",
    "    'computeranimated': 'computer animated',\n",
    "    'canadidate': 'candidate',\n",
    "    'studentbased': 'student based',\n",
    "    'gorethanks': 'gore thanks',\n",
    "    'clouddraped': 'cloud draped',\n",
    "    'edgarsnyder': 'edgar snyder',\n",
    "    'emotionrecognition': 'emotion recognition',\n",
    "    'landfrom': 'land form',\n",
    "    'fivedays': 'five days',\n",
    "    'electoal': 'electoral',\n",
    "    'lanform': 'land form',\n",
    "    'electral': 'electoral',\n",
    "    'presidentbut': 'president but',\n",
    "    'teacherassigned': 'teacher assigned',\n",
    "    'beacuas': 'because',\n",
    "    'positionestimating': 'position estimating',\n",
    "    'selfeducation': 'self education',\n",
    "    'diverless': 'driverless',\n",
    "    'computerdriven': 'computer driven',\n",
    "    'outofcontrol': 'out of control',\n",
    "    'faultthe': 'fault the',\n",
    "    'unfairoutdated': 'unfair outdated',\n",
    "    'aviods': 'avoid',\n",
    "    'momdad': 'mom dad',\n",
    "    'statesbig': 'states big',\n",
    "    'presidentswing': 'president swing',\n",
    "    'inconclusion': 'in conclusion',\n",
    "    'handsonlearning': 'hands on learning',\n",
    "    'electroral': 'electoral',\n",
    "    'carowner': 'car owner',\n",
    "    'elecotral': 'electoral',\n",
    "    'studentassigned': 'student assigned',\n",
    "    'collegefive': 'college five',\n",
    "    'presidant': 'president',\n",
    "    'unfairoutdatedand': 'unfair outdated and',\n",
    "    'nixonjimmy': 'nixon jimmy',\n",
    "    'canadates': 'candidate',\n",
    "    'tabletennis': 'table tennis',\n",
    "    'himher': 'him her',\n",
    "    'studentsummerpacketdesigners': 'student summer packet designers',\n",
    "    'studentdesign': 'student designed',\n",
    "    'limting': 'limiting',\n",
    "    'electrol': 'electoral',\n",
    "    'campaignto': 'campaign to',\n",
    "    'presendent': 'president',\n",
    "    'thezebra': 'the zebra',\n",
    "    'landformation': 'land formation',\n",
    "    'eyetoeye': 'eye to eye',\n",
    "    'selfreliance': 'self reliance',\n",
    "    'studentdriven': 'student driven',\n",
    "    'winnertake': 'winner take',\n",
    "    'alliens': 'aliens',\n",
    "    '2000but': '2000 but',\n",
    "    'electionto': 'election to',\n",
    "    'candidatesas': 'candidates as',\n",
    "    'electers': 'electoral',\n",
    "    'winnertakes': 'winner takes',\n",
    "    'isfeet': 'is feet',\n",
    "    'incar': 'incur',\n",
    "    'wellconstructed': 'well constructed',\n",
    "    'craftsmenwomen': 'crafts men women',\n",
    "    'freelunch': 'free lunch',\n",
    "    'twothousandrevolutions': 'two thousand revolutions',\n",
    "    'ushistoryorg': 'us history org',\n",
    "    'pharohs': 'pharaohs',\n",
    "    'whitehot': 'white hot',\n",
    "    'vizers': 'visors',\n",
    "    'mrjones': 'mr jones',\n",
    "    'aminute': 'a minute',\n",
    "    'spoiledmeat': 'spoiled meat',\n",
    "    'farmersgave': 'farmers gave',\n",
    "    'spolied': 'spoiled',\n",
    "    'tradgey': 'tragedy',\n",
    "    'pyrimid': 'pyramid',\n",
    "    'pyrimad': 'pyramid',\n",
    "    'egyptiansfrom': 'egyptians from',\n",
    "    'harvestthats': 'harvest that',\n",
    "    'expierment': 'experiment',\n",
    "    'jestthat': 'jest that',\n",
    "    'twothousandrevolutionsaminute': 'two thousand revolutions a minute',\n",
    "    'expirament': 'experiment',\n",
    "    'nonspoiled': 'non spoiled',\n",
    "    'egyptains': 'egyptians',\n",
    "    'tragedys': 'tragedy',\n",
    "    'pyrmaid': 'pyramid',\n",
    "    'expirment': 'experiment',\n",
    "    'whiteit': 'grade there',\n",
    "    'gradethere': 'tragedy',\n",
    "    'goverement': 'government',\n",
    "    'godsthe': 'gods the',\n",
    "    'paraoh': 'pharaoh',\n",
    "    'classesupper': 'classes upper',\n",
    "    'pharoes': 'pharaohs',\n",
    "    'noblespriests': 'noble priests',\n",
    "    'farmersslaves': 'farmers slaves',\n",
    "    'harvestâ€”thatâ€™s': 'harvest that',\n",
    "    'tradedy': 'tragedy',\n",
    "    'paraohs': 'pharaohs',\n",
    "    'paragrapgh': 'paragraph',\n",
    "    'expieriment': 'experiment',\n",
    "    'tragdey': 'tragedy',\n",
    "    'pyramaid': 'pyramid',\n",
    "    'pyrmid': 'pyramid',\n",
    "    'prists': 'priests',\n",
    "    'pharoas': 'pharaohs',\n",
    "    'priets': 'priests',\n",
    "    'pharoph': 'pharaohs',\n",
    "    'pharaoah': 'pharaohs',\n",
    "    'pharahos': 'pharaohs',\n",
    "    'pharaohthe': 'pharaohs'\n",
    "}"
   ]
  },
  {
   "cell_type": "code",
   "execution_count": 12,
   "id": "65299cf6-03db-404e-91ec-b6edd6878757",
   "metadata": {},
   "outputs": [],
   "source": [
    "def decontraction(phrase):\n",
    "    phrase = re.sub(r\"won\\'t\", \"will not\", phrase)\n",
    "    phrase = re.sub(r\"can\\'t\", \"can not\", phrase)\n",
    "    phrase = re.sub(r\"n\\'t\", \" not\", phrase)\n",
    "    phrase = re.sub(r\"\\'re\", \" are\", phrase)\n",
    "    phrase = re.sub(r\"\\'s\", \" is\", phrase)\n",
    "    phrase = re.sub(r\"\\'d\", \" would\", phrase)\n",
    "    phrase = re.sub(r\"\\'ll\", \" will\", phrase)\n",
    "    phrase = re.sub(r\"\\'t\", \" not\", phrase)\n",
    "    phrase = re.sub(r\"\\'ve\", \" have\", phrase)\n",
    "    phrase = re.sub(r\"\\'m\", \" am\", phrase)\n",
    "    phrase = re.sub(r\"he's\", \"he is\", phrase)\n",
    "    phrase = re.sub(r\"there's\", \"there is\", phrase)\n",
    "    phrase = re.sub(r\"We're\", \"We are\", phrase)\n",
    "    phrase = re.sub(r\"That's\", \"That is\", phrase)\n",
    "    phrase = re.sub(r\"won't\", \"will not\", phrase)\n",
    "    phrase = re.sub(r\"they're\", \"they are\", phrase)\n",
    "    phrase = re.sub(r\"Can't\", \"Cannot\", phrase)\n",
    "    phrase = re.sub(r\"wasn't\", \"was not\", phrase)\n",
    "    phrase = re.sub(r\"don\\x89Ûªt\", \"do not\", phrase)\n",
    "    phrase = re.sub(r\"donãât\", \"do not\", phrase)\n",
    "    phrase = re.sub(r\"aren't\", \"are not\", phrase)\n",
    "    phrase = re.sub(r\"isn't\", \"is not\", phrase)\n",
    "    phrase = re.sub(r\"What's\", \"What is\", phrase)\n",
    "    phrase = re.sub(r\"haven't\", \"have not\", phrase)\n",
    "    phrase = re.sub(r\"hasn't\", \"has not\", phrase)\n",
    "    phrase = re.sub(r\"There's\", \"There is\", phrase)\n",
    "    phrase = re.sub(r\"He's\", \"He is\", phrase)\n",
    "    phrase = re.sub(r\"It's\", \"It is\", phrase)\n",
    "    phrase = re.sub(r\"You're\", \"You are\", phrase)\n",
    "    phrase = re.sub(r\"I'M\", \"I am\", phrase)\n",
    "    phrase = re.sub(r\"shouldn't\", \"should not\", phrase)\n",
    "    phrase = re.sub(r\"wouldn't\", \"would not\", phrase)\n",
    "    phrase = re.sub(r\"i'm\", \"I am\", phrase)\n",
    "    phrase = re.sub(r\"I\\x89Ûªm\", \"I am\", phrase)\n",
    "    phrase = re.sub(r\"I'm\", \"I am\", phrase)\n",
    "    phrase = re.sub(r\"Isn't\", \"is not\", phrase)\n",
    "    phrase = re.sub(r\"Here's\", \"Here is\", phrase)\n",
    "    phrase = re.sub(r\"you've\", \"you have\", phrase)\n",
    "    phrase = re.sub(r\"you\\x89Ûªve\", \"you have\", phrase)\n",
    "    phrase = re.sub(r\"we're\", \"we are\", phrase)\n",
    "    phrase = re.sub(r\"what's\", \"what is\", phrase)\n",
    "    phrase = re.sub(r\"couldn't\", \"could not\", phrase)\n",
    "    phrase = re.sub(r\"we've\", \"we have\", phrase)\n",
    "    phrase = re.sub(r\"it\\x89Ûªs\", \"it is\", phrase)\n",
    "    phrase = re.sub(r\"doesn\\x89Ûªt\", \"does not\", phrase)\n",
    "    phrase = re.sub(r\"It\\x89Ûªs\", \"It is\", phrase)\n",
    "    phrase = re.sub(r\"Here\\x89Ûªs\", \"Here is\", phrase)\n",
    "    phrase = re.sub(r\"who's\", \"who is\", phrase)\n",
    "    phrase = re.sub(r\"I\\x89Ûªve\", \"I have\", phrase)\n",
    "    phrase = re.sub(r\"y'all\", \"you all\", phrase)\n",
    "    phrase = re.sub(r\"can\\x89Ûªt\", \"cannot\", phrase)\n",
    "    phrase = re.sub(r\"would've\", \"would have\", phrase)\n",
    "    phrase = re.sub(r\"it'll\", \"it will\", phrase)\n",
    "    phrase = re.sub(r\"we'll\", \"we will\", phrase)\n",
    "    phrase = re.sub(r\"wouldn\\x89Ûªt\", \"would not\", phrase)\n",
    "    phrase = re.sub(r\"We've\", \"We have\", phrase)\n",
    "    phrase = re.sub(r\"he'll\", \"he will\", phrase)\n",
    "    phrase = re.sub(r\"Y'all\", \"You all\", phrase)\n",
    "    phrase = re.sub(r\"Weren't\", \"Were not\", phrase)\n",
    "    phrase = re.sub(r\"Didn't\", \"Did not\", phrase)\n",
    "    phrase = re.sub(r\"they'll\", \"they will\", phrase)\n",
    "    phrase = re.sub(r\"they'd\", \"they would\", phrase)\n",
    "    phrase = re.sub(r\"DON'T\", \"DO NOT\", phrase)\n",
    "    phrase = re.sub(r\"That\\x89Ûªs\", \"That is\", phrase)\n",
    "    phrase = re.sub(r\"they've\", \"they have\", phrase)\n",
    "    phrase = re.sub(r\"i'd\", \"I would\", phrase)\n",
    "    phrase = re.sub(r\"should've\", \"should have\", phrase)\n",
    "    phrase = re.sub(r\"You\\x89Ûªre\", \"You are\", phrase)\n",
    "    phrase = re.sub(r\"where's\", \"where is\", phrase)\n",
    "    phrase = re.sub(r\"Don\\x89Ûªt\", \"Do not\", phrase)\n",
    "    phrase = re.sub(r\"we'd\", \"we would\", phrase)\n",
    "    phrase = re.sub(r\"i'll\", \"I will\", phrase)\n",
    "    phrase = re.sub(r\"weren't\", \"were not\", phrase)\n",
    "    phrase = re.sub(r\"They're\", \"They are\", phrase)\n",
    "    phrase = re.sub(r\"Can\\x89Ûªt\", \"Cannot\", phrase)\n",
    "    phrase = re.sub(r\"you\\x89Ûªll\", \"you will\", phrase)\n",
    "    phrase = re.sub(r\"I\\x89Ûªd\", \"I would\", phrase)\n",
    "    phrase = re.sub(r\"let's\", \"let us\", phrase)\n",
    "    phrase = re.sub(r\"it's\", \"it is\", phrase)\n",
    "    phrase = re.sub(r\"can't\", \"cannot\", phrase)\n",
    "    phrase = re.sub(r\"don't\", \"do not\", phrase)\n",
    "    phrase = re.sub(r\"you're\", \"you are\", phrase)\n",
    "    phrase = re.sub(r\"i've\", \"I have\", phrase)\n",
    "    phrase = re.sub(r\"that's\", \"that is\", phrase)\n",
    "    phrase = re.sub(r\"i'll\", \"I will\", phrase)\n",
    "    phrase = re.sub(r\"doesn't\", \"does not\",phrase)\n",
    "    phrase = re.sub(r\"i'd\", \"I would\", phrase)\n",
    "    phrase = re.sub(r\"didn't\", \"did not\", phrase)\n",
    "    phrase = re.sub(r\"ain't\", \"am not\", phrase)\n",
    "    phrase = re.sub(r\"you'll\", \"you will\", phrase)\n",
    "    phrase = re.sub(r\"I've\", \"I have\", phrase)\n",
    "    phrase = re.sub(r\"Don't\", \"do not\", phrase)\n",
    "    phrase = re.sub(r\"I'll\", \"I will\", phrase)\n",
    "    phrase = re.sub(r\"I'd\", \"I would\", phrase)\n",
    "    phrase = re.sub(r\"Let's\", \"Let us\", phrase)\n",
    "    phrase = re.sub(r\"you'd\", \"You would\", phrase)\n",
    "    phrase = re.sub(r\"It's\", \"It is\", phrase)\n",
    "    phrase = re.sub(r\"Ain't\", \"am not\", phrase)\n",
    "    phrase = re.sub(r\"Haven't\", \"Have not\", phrase)\n",
    "    phrase = re.sub(r\"Could've\", \"Could have\", phrase)\n",
    "    phrase = re.sub(r\"youve\", \"you have\", phrase)  \n",
    "    phrase = re.sub(r\"donå«t\", \"do not\", phrase)\n",
    "    return phrase"
   ]
  },
  {
   "cell_type": "code",
   "execution_count": 13,
   "id": "10d16c39-14e8-48e8-912f-87b54df22fc8",
   "metadata": {},
   "outputs": [],
   "source": [
    "def clean_text(text):\n",
    "    text = decontraction(text)\n",
    "    return text"
   ]
  },
  {
   "cell_type": "code",
   "execution_count": 14,
   "id": "92d285c1-8e8f-4fa9-8bd3-2a42e6cfca7c",
   "metadata": {},
   "outputs": [],
   "source": [
    "def clean_misspell(text):\n",
    "    for bad_word in misspell_mapping:\n",
    "        if bad_word in text:\n",
    "            text = text.replace(bad_word, misspell_mapping[bad_word])\n",
    "    return text"
   ]
  },
  {
   "cell_type": "code",
   "execution_count": 15,
   "id": "82e4c1c0-9232-4d4b-87ff-bec7d91653f7",
   "metadata": {},
   "outputs": [],
   "source": [
    "def processing_features(df):\n",
    "    df['processed_text'] = df['text'].apply(lambda x : resolve_encodings_and_normalize(x))\n",
    "    df['processed_text'] = df['processed_text'].apply(lambda x : clean_text(x))\n",
    "    df['processed_text'] = df['processed_text'].apply(lambda x : clean_misspell(x))\n",
    "    df['full_text'] = \"content wording\" + \" [TITLE] \" + df[\"prompt_title\"] + \" [QUESTION] \" + df[\"prompt_question\"] + \" [ANSWER] \" + df[\"processed_text\"]\n",
    "    return df"
   ]
  },
  {
   "cell_type": "code",
   "execution_count": 16,
   "id": "92e8582c-a8d7-4a89-a1b5-88d89a27c2e2",
   "metadata": {},
   "outputs": [],
   "source": [
    "%load_ext Cython"
   ]
  },
  {
   "cell_type": "code",
   "execution_count": 17,
   "id": "e4e943a3-ea72-4601-97f6-f08167dc0e2d",
   "metadata": {},
   "outputs": [
    {
     "name": "stderr",
     "output_type": "stream",
     "text": [
      "In file included from /usr/local/lib/python3.9/dist-packages/numpy/core/include/numpy/ndarraytypes.h:1948,\n",
      "                 from /usr/local/lib/python3.9/dist-packages/numpy/core/include/numpy/ndarrayobject.h:12,\n",
      "                 from /usr/local/lib/python3.9/dist-packages/numpy/core/include/numpy/arrayobject.h:5,\n",
      "                 from /root/.cache/ipython/cython/_cython_magic_0507ba6f7af5325357e70c61fd0cf3f5.c:769:\n",
      "/usr/local/lib/python3.9/dist-packages/numpy/core/include/numpy/npy_1_7_deprecated_api.h:17:2: warning: #warning \"Using deprecated NumPy API, disable it with \" \"#define NPY_NO_DEPRECATED_API NPY_1_7_API_VERSION\" [-Wcpp]\n",
      "   17 | #warning \"Using deprecated NumPy API, disable it with \" \\\n",
      "      |  ^~~~~~~\n"
     ]
    }
   ],
   "source": [
    "%%cython\n",
    "\n",
    "import numpy as np\n",
    "cimport numpy as cnp\n",
    "cimport cython\n",
    "\n",
    "@cython.boundscheck(False)  # Arrayの境界チェックを無効化\n",
    "@cython.wraparound(False)   # 負のインデックスを無効化\n",
    "def longest_common_substring(str s1, str s2):\n",
    "    cdef int m, n, i, j, longest\n",
    "    m, n = len(s1), len(s2)\n",
    "    \n",
    "    # Using numpy to initialize the 2D array\n",
    "    cdef cnp.ndarray[int, ndim=2] dp = np.zeros((m+1, n+1), dtype=np.int32)\n",
    "    \n",
    "    longest = 0\n",
    "    for i in range(m + 1):\n",
    "        for j in range(n + 1):\n",
    "            if i == 0 or j == 0:\n",
    "                dp[i, j] = 0\n",
    "            elif s1[i - 1] == s2[j - 1]:\n",
    "                dp[i, j] = dp[i - 1, j - 1] + 1\n",
    "                longest = max(longest, dp[i, j])\n",
    "            else:\n",
    "                dp[i, j] = 0\n",
    "    return longest"
   ]
  },
  {
   "cell_type": "code",
   "execution_count": 18,
   "id": "89533e9c-e9dd-4b40-bae7-475d26bc0ddd",
   "metadata": {},
   "outputs": [],
   "source": [
    "def quotes_count(row):\n",
    "    text = row['text']\n",
    "    prompt_text = row['prompt_text']\n",
    "    quotes_from_text = re.findall(r'\"([^\"]*)\"', text)\n",
    "    if len(quotes_from_text)>0:\n",
    "        return [quote in prompt_text for quote in quotes_from_text].count(True)\n",
    "    else:\n",
    "        return 0\n",
    "    \n",
    "def ngram_co_occurrence(row, n=3):\n",
    "    text = row[\"text\"]\n",
    "    prompt_text = row[\"prompt_text\"]\n",
    "\n",
    "    text_ngram = set(zip(*[text[i:] for i in range(n)]))\n",
    "    prompt_ngram = set(zip(*[prompt_text[i:] for i in range(n)]))\n",
    "    return len(text_ngram & prompt_ngram)\n",
    "\n",
    "def feature_engineering(input_df: pd.DataFrame) -> pd.DataFrame:\n",
    "    output_df = pd.DataFrame()\n",
    "\n",
    "    # basic\n",
    "    output_df[\"n_words\"] = input_df[\"text\"].apply(lambda x: len(x.split()))\n",
    "    output_df[\"n_unique_words\"] = input_df[\"text\"].apply(lambda x: len(set(x.split())))\n",
    "    output_df[\"num_sentences\"] = input_df[\"text\"].apply(lambda x: len(x.split('.')))\n",
    "    output_df[\"is_upper\"] = input_df[\"text\"].apply(lambda x: x[0].isupper())\n",
    "    output_df[\"mean_num_words\"] = input_df[\"text\"].apply(lambda x: np.mean([len(e.split()) for e in x.split('.')]))\n",
    "    output_df[\"mean_num_unique_words\"] = input_df[\"text\"].apply(lambda x: np.mean([len(set(e.split())) for e in x.split('.')]))\n",
    "    output_df[\"num_slash\"] = input_df[\"text\"].apply(lambda x: x.count(\"\\n\"))\n",
    "    output_df[\"paragraph_count\"] = input_df[\"text\"].apply(lambda x: x.count(\"\\n\\n\"))\n",
    "    output_df[\"upper_count\"] = input_df[\"text\"].apply(lambda x: np.sum([w.isupper() for w in x.split()])/len(x.split()))\n",
    "    output_df[\"syntax_count\"] = input_df[\"text\"].apply(lambda x: x.count(\",\") + x.count(\"-\") + x.count(\";\") + x.count(\":\"))\n",
    "    output_df[\"vocab_strength\"] = output_df[\"n_unique_words\"] / output_df[\"n_words\"]\n",
    "    output_df[\"new_vocab\"] = input_df.apply(lambda x: len(set(x[\"text\"].split()) - set(x[\"prompt_text\"].split())), axis=1)\n",
    "\n",
    "    # compare\n",
    "    # overwrap word\n",
    "    output_df[\"n_overwrap_unique_word\"] = input_df.apply(lambda x: len(set(x[\"text\"].split()) & set(x[\"prompt_text\"].split())), axis=1)\n",
    "    # longest common substring\n",
    "    output_df[\"longest_common_substring\"] = input_df.apply(lambda x: longest_common_substring(x[\"text\"], x[\"prompt_text\"]), axis=1)\n",
    "    # quote\n",
    "    output_df[\"quote_count\"] = input_df.apply(quotes_count, axis=1)\n",
    "    # ngram co occurrence\n",
    "    for n in [3, 4, 5, 6, 7, 8]:\n",
    "        output_df[f\"n_co_occurrence_{n}\"] = input_df.apply(ngram_co_occurrence, n=n, axis=1) / output_df[\"n_words\"]\n",
    "    \n",
    "    \n",
    "    # misspell\n",
    "    spell = SpellChecker()\n",
    "    output_df[\"n_misspell\"] = input_df[\"text\"].apply(lambda x: len(spell.unknown(x.split())))\n",
    "\n",
    "\n",
    "    output_df['automated_readability_index'] = input_df[\"text\"].apply(lambda x: textstat.automated_readability_index(x))\n",
    "    output_df['coleman_liau_index'] = input_df[\"text\"].apply(lambda x: textstat.coleman_liau_index(x))\n",
    "    output_df['smog_index'] = input_df[\"text\"].apply(textstat.smog_index)\n",
    "    output_df['dale_chall_readability_score'] = input_df[\"text\"].apply(lambda x: textstat.dale_chall_readability_score(x))\n",
    "    output_df['linsear_write_formula'] = input_df[\"text\"].apply(lambda x: textstat.linsear_write_formula(x))\n",
    "    output_df['gunning_fog'] = input_df[\"text\"].apply(textstat.gunning_fog)\n",
    "    output_df['text_standard_float'] = input_df[\"text\"].apply(textstat.text_standard, float_output=True)\n",
    "    output_df['spache_readability'] = input_df[\"text\"].apply(textstat.spache_readability)\n",
    "    output_df['rix'] = input_df[\"text\"].apply(textstat.rix)\n",
    "    output_df['lix'] = input_df[\"text\"].apply(textstat.lix)\n",
    "\n",
    "\n",
    "    return output_df"
   ]
  },
  {
   "cell_type": "markdown",
   "id": "c49940cc-886e-4f5f-a17e-14ad2a007857",
   "metadata": {},
   "source": [
    "# dataset"
   ]
  },
  {
   "cell_type": "code",
   "execution_count": 19,
   "id": "7a44555a-ba86-4e10-9295-4bc5a5b8c52b",
   "metadata": {},
   "outputs": [],
   "source": [
    "class TrainDataset(Dataset):\n",
    "    def __init__(self, cfg, df):\n",
    "        self.cfg = cfg\n",
    "        self.texts = df['full_text'].to_numpy()\n",
    "        self.labels = df[cfg.target_list].to_numpy()\n",
    "\n",
    "    def __len__(self):\n",
    "        return len(self.labels)\n",
    "\n",
    "    def __getitem__(self, index):\n",
    "        inputs = self.prepare_input(self.cfg, self.texts[index])\n",
    "        labels = torch.tensor(self.labels[index], dtype=torch.float)\n",
    "        return inputs, labels\n",
    "\n",
    "    @staticmethod\n",
    "    def prepare_input(cfg, text):\n",
    "        inputs = cfg.tokenizer(text,\n",
    "                               add_special_tokens=True,\n",
    "                               max_length=cfg.max_len,\n",
    "                               padding=\"max_length\",\n",
    "                               truncation=True,\n",
    "                               return_offsets_mapping=False)\n",
    "        inputs['input_ids'] = torch.tensor(\n",
    "            inputs['input_ids'],\n",
    "            dtype=torch.long\n",
    "        )\n",
    "        inputs['attention_mask'] = torch.tensor(\n",
    "            inputs['attention_mask'],\n",
    "            dtype=torch.long\n",
    "        )\n",
    "        inputs = {\n",
    "            'input_ids': inputs['input_ids'],\n",
    "            'attention_mask': inputs['attention_mask'],\n",
    "        }\n",
    "        return inputs\n",
    "\n",
    "def collate(inputs):\n",
    "    mask_len = int(inputs[\"attention_mask\"].sum(axis=1).max())\n",
    "    for k, v in inputs.items():\n",
    "        inputs[k] = inputs[k][:,:mask_len]\n",
    "    return inputs"
   ]
  },
  {
   "cell_type": "markdown",
   "id": "943a4ac4-3afd-4793-944a-2f30ad185dc7",
   "metadata": {},
   "source": [
    "# model"
   ]
  },
  {
   "cell_type": "code",
   "execution_count": 20,
   "id": "461de207-3071-4297-a47f-c87148200602",
   "metadata": {},
   "outputs": [],
   "source": [
    "def freeze(module):\n",
    "    \"\"\"\n",
    "    Freezes module's parameters.\n",
    "    \"\"\"\n",
    "    \n",
    "    for parameter in module.parameters():\n",
    "        parameter.requires_grad = False\n",
    "\n",
    "class AttentionPooling(nn.Module):\n",
    "    def __init__(self, in_dim):\n",
    "        super().__init__()\n",
    "        self.attention = nn.Sequential(\n",
    "        nn.Linear(in_dim, in_dim),\n",
    "        nn.LayerNorm(in_dim),\n",
    "        nn.GELU(),\n",
    "        nn.Linear(in_dim, 1),\n",
    "        )\n",
    "        \n",
    "        self._init_weights(self.attention)\n",
    "        \n",
    "    def _init_weights(self, module):\n",
    "        if isinstance(module, nn.Linear):\n",
    "            module.weight.data.normal_(mean=0.0, std=self.config.initializer_range)\n",
    "            if module.bias is not None:\n",
    "                module.bias.data.zero_()\n",
    "        elif isinstance(module, nn.Embedding):\n",
    "            module.weight.data.normal_(mean=0.0, std=self.config.initializer_range)\n",
    "            if module.padding_idx is not None:\n",
    "                module.weight.data[module.padding_idx].zero_()\n",
    "        elif isinstance(module, nn.LayerNorm):\n",
    "            module.bias.data.zero_()\n",
    "            module.weight.data.fill_(1.0)\n",
    "\n",
    "    def forward(self, last_hidden_state, attention_mask):\n",
    "        w = self.attention(last_hidden_state).float()\n",
    "        w[attention_mask==0]=float('-inf')\n",
    "        w = torch.softmax(w,1)\n",
    "        attention_embeddings = torch.sum(w * last_hidden_state, dim=1)\n",
    "        return attention_embeddings\n",
    "\n",
    "class CustomModel(nn.Module):\n",
    "    def __init__(self, cfg): \n",
    "        super().__init__()\n",
    "        self.cfg = cfg\n",
    "        self.gpu_optimize_config = cfg.gpu_optimize_config\n",
    "        self.config = AutoConfig.from_pretrained(\n",
    "            cfg.MODEL_PATH,\n",
    "            output_hidden_states=True\n",
    "        )\n",
    "        self.config.update(\n",
    "            {\n",
    "                \"output_hidden_states\": True,\n",
    "                \"hidden_dropout\": 0.,\n",
    "                \"hidden_dropout_prob\": 0.,\n",
    "                \"attention_dropout\": 0.,\n",
    "                \"attention_probs_dropout_prob\": 0,\n",
    "            }\n",
    "        )\n",
    "        self.backbone = AutoModel.from_pretrained(\n",
    "            cfg.MODEL_PATH,\n",
    "            config=self.config\n",
    "        )\n",
    "\n",
    "        self.pool1 = AttentionPooling(self.config.hidden_size)\n",
    "        self.pool2 = AttentionPooling(self.config.hidden_size)\n",
    "        self.fc1 = nn.Linear(self.config.hidden_size, 1)\n",
    "        self.fc2 = nn.Linear(self.config.hidden_size, 1)\n",
    "        self._init_weights(self.fc1)\n",
    "        self._init_weights(self.fc2)\n",
    "        self.ln1 = nn.LayerNorm(self.config.hidden_size)\n",
    "        self.ln2 = nn.LayerNorm(self.config.hidden_size)\n",
    "        self._init_weights(self.ln1)\n",
    "        self._init_weights(self.ln2)\n",
    "\n",
    "        # Freeze\n",
    "        if self.gpu_optimize_config['freezing']:\n",
    "            freeze(self.backbone.embeddings)\n",
    "            freeze(self.backbone.encoder.layer[:6])\n",
    "\n",
    "        # Gradient Checkpointing\n",
    "        if self.gpu_optimize_config['gradient_checkpoint']:\n",
    "            self.backbone.gradient_checkpointing_enable()\n",
    "\n",
    "    def _init_weights(self, module):\n",
    "        if isinstance(module, nn.Linear):\n",
    "            module.weight.data.normal_(mean=0.0, std=self.config.initializer_range)\n",
    "            if module.bias is not None:\n",
    "                module.bias.data.zero_()\n",
    "        elif isinstance(module, nn.Embedding):\n",
    "            module.weight.data.normal_(mean=0.0, std=self.config.initializer_range)\n",
    "            if module.padding_idx is not None:\n",
    "                module.weight.data[module.padding_idx].zero_()\n",
    "        elif isinstance(module, nn.LayerNorm):\n",
    "            module.bias.data.zero_()\n",
    "            module.weight.data.fill_(1.0)\n",
    "\n",
    "    def feature(self, inputs):\n",
    "        outputs = self.backbone(**inputs)\n",
    "        last_state = outputs[0]\n",
    "        feature1 = self.pool1(last_state, inputs['attention_mask'])\n",
    "        feature2 = self.pool2(last_state, inputs['attention_mask'])\n",
    "        return feature1, feature2\n",
    "\n",
    "    def forward(self, inputs, labels):\n",
    "        # batch, hidden_size\n",
    "        feature1, feature2 = self.feature(inputs)\n",
    "        # batch, 2\n",
    "        output1 = self.fc1(self.ln1(feature1))\n",
    "        output2 = self.fc2(self.ln2(feature2))\n",
    "        output = torch.cat((output1, output2), -1)\n",
    "        if labels is not None:\n",
    "            loss_fct = nn.SmoothL1Loss(reduction='mean')\n",
    "            loss = loss_fct(output, labels)\n",
    "            return loss, output\n",
    "        else:\n",
    "            return output"
   ]
  },
  {
   "cell_type": "markdown",
   "id": "9216ad9a-d7f4-40bd-af0d-4ff0ff7499aa",
   "metadata": {},
   "source": [
    "# optimizer, scheduler"
   ]
  },
  {
   "cell_type": "code",
   "execution_count": 21,
   "id": "975ed9d1-27e5-49d9-9f6b-cf4de08469cc",
   "metadata": {},
   "outputs": [],
   "source": [
    "def get_optimizer_grouped_parameters(cfg, model):\n",
    "    model_type = 'backbone'\n",
    "    no_decay = [\"bias\", \"LayerNorm.weight\", \"LayerNorm.bias\"]\n",
    "    optimizer_grouped_parameters = [\n",
    "            {'params': [p for n, p in model.named_parameters() if \"backbone\" not in n],\n",
    "             'lr': cfg.decoder_lr, 'weight_decay': 0.0},\n",
    "    ]\n",
    "    num_layers = model.config.num_hidden_layers\n",
    "    layers = [getattr(model, model_type).embeddings] + list(getattr(model, model_type).encoder.layer)\n",
    "    layers.reverse()\n",
    "    lr = cfg.encoder_lr\n",
    "    for layer in layers:\n",
    "        lr *= cfg.lr_weight_decay\n",
    "        optimizer_grouped_parameters += [\n",
    "            {\n",
    "                \"params\": [p for n, p in layer.named_parameters() if not any(nd in n for nd in no_decay)],\n",
    "                \"weight_decay\": cfg.weight_decay,\n",
    "                \"lr\": lr,\n",
    "            },\n",
    "            {\n",
    "                \"params\": [p for n, p in layer.named_parameters() if any(nd in n for nd in no_decay)],\n",
    "                \"weight_decay\": 0.0,\n",
    "                \"lr\": lr,\n",
    "            },\n",
    "        ]\n",
    "    return optimizer_grouped_parameters"
   ]
  },
  {
   "cell_type": "code",
   "execution_count": 22,
   "id": "b424bc0d-b830-4a5d-8982-2b74b8e4ed1a",
   "metadata": {},
   "outputs": [],
   "source": [
    "def get_scheduler(cfg, optimizer, num_train_steps):\n",
    "        if cfg.scheduler == 'linear':\n",
    "            scheduler = get_linear_schedule_with_warmup(\n",
    "                optimizer, num_warmup_steps=int(num_train_steps*cfg.num_warmup_steps_rate), num_training_steps=num_train_steps\n",
    "            )\n",
    "        elif cfg.scheduler == 'cosine':\n",
    "            scheduler = get_cosine_schedule_with_warmup(\n",
    "                optimizer, num_warmup_steps=int(num_train_steps*cfg.num_warmup_steps_rate), num_training_steps=num_train_steps, num_cycles=cfg.num_cycles\n",
    "            )\n",
    "        return scheduler"
   ]
  },
  {
   "cell_type": "markdown",
   "id": "870dffaa-01c5-40d5-a307-ce6d49478ebe",
   "metadata": {},
   "source": [
    "# eval,train"
   ]
  },
  {
   "cell_type": "code",
   "execution_count": 23,
   "id": "4dcde54a-4e69-4dd0-bd89-13585a68945f",
   "metadata": {},
   "outputs": [],
   "source": [
    "def evaluating(cfg, valid_loader, model, valid_df, fold, best_val_preds_c, best_val_preds_w, best_val_score_c, best_val_score_w):\n",
    "    val_preds = []\n",
    "    val_losses = []\n",
    "    val_nums = []\n",
    "    model.eval()\n",
    "    with torch.no_grad():\n",
    "        with tqdm(valid_loader, total=len(valid_loader)) as pbar:\n",
    "            for (inputs, labels) in pbar:\n",
    "                inputs = collate(inputs)\n",
    "                for k, v in inputs.items():\n",
    "                    inputs[k] = v.to(cfg.device)\n",
    "                labels = labels.to(cfg.device)\n",
    "                with autocast():\n",
    "                    loss, output = model(inputs, labels)\n",
    "                \n",
    "                output = output.detach().cpu().numpy()\n",
    "                val_preds.append(output)\n",
    "                val_losses.append(loss.item() * len(labels))\n",
    "                val_nums.append(len(labels))\n",
    "                pbar.set_postfix({\n",
    "                    'val_loss': loss.item()\n",
    "                })\n",
    "\n",
    "    val_preds = np.concatenate(val_preds)\n",
    "    val_loss = sum(val_losses) / sum(val_nums)\n",
    "    score_all, score_c, score_w = mcrmse(cfg, val_preds, valid_df)\n",
    "\n",
    "    val_log = {\n",
    "        'val_loss': val_loss,\n",
    "        'mcrmse': score_all\n",
    "    }\n",
    "    display(val_log)\n",
    "\n",
    "    if best_val_score_c > score_c:\n",
    "        print('\\033[31m'+'save content model weight'+'\\033[0m')\n",
    "        best_val_preds_c = val_preds[:, 0]\n",
    "        best_val_score_c = score_c\n",
    "        torch.save(\n",
    "            model.state_dict(), \n",
    "            cfg.EXP_MODEL / f\"fold{fold}_c.pth\"\n",
    "        )\n",
    "        \n",
    "    if best_val_score_w > score_w:\n",
    "        print('\\033[31m'+'save wording model weight'+'\\033[0m')\n",
    "        best_val_preds_w = val_preds[:, 1]\n",
    "        best_val_score_w = score_w\n",
    "        torch.save(\n",
    "            model.state_dict(), \n",
    "            cfg.EXP_MODEL / f\"fold{fold}_w.pth\"\n",
    "        )\n",
    "    \n",
    "    return best_val_preds_c, best_val_preds_w, best_val_score_c, best_val_score_w\n",
    "\n",
    "def training(cfg, train):\n",
    "    # =====================\n",
    "    # Training\n",
    "    # =====================\n",
    "    set_seed(cfg.seed)\n",
    "    oof_pred = np.zeros((len(train), 2), dtype=np.float32)\n",
    "    fold_score = []\n",
    "\n",
    "    for fold in cfg.trn_fold:\n",
    "        # dataset, dataloader\n",
    "        train_df = train.loc[cfg.folds!=fold]\n",
    "        valid_df = train.loc[cfg.folds==fold]\n",
    "        train_idx = list(train_df.index)\n",
    "        valid_idx = list(valid_df.index)\n",
    "\n",
    "        # Datasetの設定\n",
    "        train_dataset = TrainDataset(cfg, train_df)\n",
    "        valid_dataset = TrainDataset(cfg, valid_df)\n",
    "        train_loader = DataLoader(\n",
    "            dataset=train_dataset, \n",
    "            batch_size=cfg.batch_size,\n",
    "            shuffle=True,\n",
    "            pin_memory=True,\n",
    "            drop_last=True,\n",
    "        )\n",
    "        valid_loader = DataLoader(\n",
    "            dataset=valid_dataset,\n",
    "            batch_size=cfg.batch_size,\n",
    "            shuffle=False,\n",
    "            pin_memory=True,\n",
    "            drop_last=False,\n",
    "        )\n",
    "\n",
    "        # model\n",
    "        model = CustomModel(cfg)\n",
    "        model.backbone.resize_token_embeddings(len(cfg.tokenizer))\n",
    "        torch.save(model.config, cfg.EXP_MODEL / 'config.pth')\n",
    "        model = model.to(cfg.device)\n",
    "\n",
    "        # optimizer, scheduler\n",
    "        optimizer_grouped_parameters = get_optimizer_grouped_parameters(cfg, model)\n",
    "        optimizer = AdamW(optimizer_grouped_parameters, lr=cfg.encoder_lr, eps=cfg.eps, betas=cfg.betas, weight_decay=cfg.weight_decay)\n",
    "\n",
    "        num_train_steps = int(len(train_df) / cfg.batch_size * cfg.n_epochs)\n",
    "        scheduler = get_scheduler(cfg, optimizer, num_train_steps)\n",
    "\n",
    "        # model-training\n",
    "        best_val_preds_c = None\n",
    "        best_val_score_c = 9999\n",
    "        best_val_preds_w = None\n",
    "        best_val_score_w = 9999\n",
    "        \n",
    "        for epoch in range(cfg.n_epochs):\n",
    "            # training\n",
    "            print(f\"# ============ start epoch:{epoch} ============== #\")\n",
    "            train_losses = []\n",
    "            train_nums = []\n",
    "            model.train() \n",
    "            scaler = GradScaler(enabled=cfg.apex)\n",
    "            with tqdm(train_loader, total=len(train_loader)) as pbar:\n",
    "                for step, (inputs, labels) in enumerate(pbar):\n",
    "                    inputs = collate(inputs)\n",
    "                    for k, v in inputs.items():\n",
    "                        inputs[k] = v.to(cfg.device)\n",
    "                    labels = labels.to(cfg.device)\n",
    "                    with autocast(enabled=cfg.apex):\n",
    "                        loss, output = model(inputs, labels)\n",
    "\n",
    "                    pbar.set_postfix({\n",
    "                        'loss': loss.item(),\n",
    "                        'lr': scheduler.get_lr()[0]\n",
    "                    })\n",
    "                    train_losses.append(loss.item() * len(labels))\n",
    "                    train_nums.append(len(labels))\n",
    "\n",
    "                    if cfg.gradient_accumulation_steps > 1:\n",
    "                        loss = loss / cfg.gradient_accumulation_steps\n",
    "\n",
    "                    scaler.scale(loss).backward()\n",
    "                    \n",
    "                    # if cfg.clip_grad_norm is not None:\n",
    "                    #     scaler.unscale_(optimizer)\n",
    "                    #     torch.nn.utils.clip_grad_norm_(\n",
    "                    #         model.parameters(),\n",
    "                    #         cfg.clip_grad_norm\n",
    "                    #     )\n",
    "                        \n",
    "                    if (step+1) % cfg.gradient_accumulation_steps == 0:\n",
    "                        scaler.step(optimizer)\n",
    "                        scaler.update()\n",
    "                        optimizer.zero_grad()\n",
    "                        scheduler.step()\n",
    "\n",
    "                    if step % cfg.eval_step == 0 and step != 0:\n",
    "                        print(f'fold: {fold}, epoch: {epoch}, step: {step}')\n",
    "                        best_val_preds_c, best_val_preds_w, best_val_score_c, best_val_score_w = evaluating(\n",
    "                            cfg, valid_loader,\n",
    "                            model,\n",
    "                            valid_df,\n",
    "                            fold,\n",
    "                            best_val_preds_c,\n",
    "                            best_val_preds_w,\n",
    "                            best_val_score_c,\n",
    "                            best_val_score_w,\n",
    "                        )\n",
    "                        model.train()\n",
    "\n",
    "            train_loss = sum(train_losses)/sum(train_nums)\n",
    "            train_log = {\n",
    "                'train_loss':train_loss\n",
    "            }\n",
    "            display(train_log)\n",
    "\n",
    "            # evaluating(epoch)\n",
    "            print(f'fold: {fold}, epoch: {epoch}, complete')\n",
    "            best_val_preds_c, best_val_preds_w, best_val_score_c, best_val_score_w = evaluating(\n",
    "                cfg, valid_loader,\n",
    "                model,\n",
    "                valid_df,\n",
    "                fold,\n",
    "                best_val_preds_c,\n",
    "                best_val_preds_w,\n",
    "                best_val_score_c,\n",
    "                best_val_score_w,\n",
    "            )\n",
    "        \n",
    "        print(best_val_preds_c.shape)\n",
    "        print(best_val_preds_w.shape)\n",
    "        oof_pred[valid_idx, 0] = best_val_preds_c.astype(np.float32)\n",
    "        oof_pred[valid_idx, 1] = best_val_preds_w.astype(np.float32)\n",
    "        best_val_preds = np.concatenate([best_val_preds_c, best_val_preds_w], -1)\n",
    "        np.save(cfg.EXP_PREDS / f'oof_pred_fold{fold}.npy', best_val_preds)\n",
    "        fold_score.append((best_val_score_c + best_val_score_w)/2)\n",
    "        del model; gc.collect()\n",
    "\n",
    "    np.save(cfg.EXP_PREDS / 'oof_pred.npy', oof_pred)\n",
    "\n",
    "    # =====================\n",
    "    # scoring\n",
    "    # =====================\n",
    "    score, _, _ = mcrmse(cfg, oof_pred, train)\n",
    "    print('fold score：', fold_score)\n",
    "    print('CV:', round(score, 4))\n",
    "    return score"
   ]
  },
  {
   "cell_type": "markdown",
   "id": "0dba9659-8a32-4eae-abe5-3bb09fbd1fb4",
   "metadata": {},
   "source": [
    "# main"
   ]
  },
  {
   "cell_type": "code",
   "execution_count": 24,
   "id": "393a583a-01fa-47fe-ad15-d26a818e6486",
   "metadata": {},
   "outputs": [
    {
     "name": "stdout",
     "output_type": "stream",
     "text": [
      "env: TOKENIZERS_PARALLELISM=true\n",
      "tokenizers.__version__: 0.11.6\n",
      "transformers.__version__: 4.16.2\n"
     ]
    }
   ],
   "source": [
    "# setup\n",
    "cfg = setup(Config)\n",
    "\n",
    "import transformers\n",
    "from transformers import AutoConfig, AutoModel, AutoTokenizer\n",
    "from transformers import AdamW, get_linear_schedule_with_warmup, get_cosine_schedule_with_warmup\n",
    "import tokenizers\n",
    "import sentencepiece\n",
    "%env TOKENIZERS_PARALLELISM=true\n",
    "print(f\"tokenizers.__version__: {tokenizers.__version__}\")\n",
    "print(f\"transformers.__version__: {transformers.__version__}\")\n",
    "\n",
    "# main\n",
    "train_df = pd.read_csv(cfg.INPUT / \"summaries_train.csv\").reset_index()\n",
    "feedback3_pred = pd.read_csv(cfg.INPUT / \"pred_feedback3value.csv\")\n",
    "prompts_train_df = pd.read_csv(cfg.INPUT / \"prompts_train.csv\")\n",
    "\n",
    "train_df = train_df.merge(prompts_train_df, on=\"prompt_id\")\n",
    "train_df = processing_features(train_df)\n",
    "train_df = train_df.sort_values(\"index\").reset_index(drop = True)\n",
    "\n",
    "train_feat_df = feature_engineering(train_df)\n",
    "cfg.num_feat_dim = train_feat_df.shape[1]\n",
    "\n",
    "cfg.tokenizer = AutoTokenizer.from_pretrained(\"/notebooks/output/commonlit-mlm-deberta-v3-large/tokenizer\")\n",
    "cfg.tokenizer.add_tokens([\"[TITLE]\", \"[QUESTION]\", \"[ANSWER]\"], special_tokens=True)\n",
    "cfg.tokenizer.save_pretrained(cfg.EXP / 'tokenizer')\n",
    "cfg.folds = get_commonlit_fold(train_df)\n",
    "cfg.folds.to_csv(cfg.EXP_PREDS / 'folds.csv')"
   ]
  },
  {
   "cell_type": "code",
   "execution_count": 25,
   "id": "058642cc-fd3f-442d-a880-a3a8dd6601b9",
   "metadata": {},
   "outputs": [
    {
     "data": {
      "text/plain": [
       "'content wording [TITLE] The Third Wave [QUESTION] Summarize how the Third Wave developed over such a short period of time and why the experiment was ended. [ANSWER] The third wave was an experimentto see how people reacted to a new one leader government. It gained popularity as people wanted to try new things. The students follow anything that is said and start turning on eachother to gain higher power. They had to stop the experement as too many people got to radical with it blindly following there leader'"
      ]
     },
     "execution_count": 25,
     "metadata": {},
     "output_type": "execute_result"
    }
   ],
   "source": [
    "train_df.loc[0, \"full_text\"]"
   ]
  },
  {
   "cell_type": "code",
   "execution_count": 26,
   "id": "a57c069c-81db-4d5e-b4d6-36a7213ee92e",
   "metadata": {},
   "outputs": [
    {
     "name": "stderr",
     "output_type": "stream",
     "text": [
      "Some weights of the model checkpoint at /notebooks/output/commonlit-mlm-deberta-v3-large/model were not used when initializing DebertaV2Model: ['cls.predictions.bias', 'cls.predictions.transform.dense.bias', 'cls.predictions.transform.LayerNorm.bias', 'cls.predictions.transform.dense.weight', 'cls.predictions.decoder.weight', 'cls.predictions.transform.LayerNorm.weight', 'cls.predictions.decoder.bias']\n",
      "- This IS expected if you are initializing DebertaV2Model from the checkpoint of a model trained on another task or with another architecture (e.g. initializing a BertForSequenceClassification model from a BertForPreTraining model).\n",
      "- This IS NOT expected if you are initializing DebertaV2Model from the checkpoint of a model that you expect to be exactly identical (initializing a BertForSequenceClassification model from a BertForSequenceClassification model).\n"
     ]
    },
    {
     "name": "stdout",
     "output_type": "stream",
     "text": [
      "# ============ start epoch:0 ============== #\n"
     ]
    },
    {
     "data": {
      "application/vnd.jupyter.widget-view+json": {
       "model_id": "4f617e810a2a4e6fb4aad5ce8210ccdb",
       "version_major": 2,
       "version_minor": 0
      },
      "text/plain": [
       "  0%|          | 0/378 [00:00<?, ?it/s]"
      ]
     },
     "metadata": {},
     "output_type": "display_data"
    },
    {
     "name": "stdout",
     "output_type": "stream",
     "text": [
      "fold: 0, epoch: 0, step: 60\n"
     ]
    },
    {
     "data": {
      "application/vnd.jupyter.widget-view+json": {
       "model_id": "0a5782fd1f1e49d991d5ae43b882bf5c",
       "version_major": 2,
       "version_minor": 0
      },
      "text/plain": [
       "  0%|          | 0/69 [00:00<?, ?it/s]"
      ]
     },
     "metadata": {},
     "output_type": "display_data"
    },
    {
     "name": "stdout",
     "output_type": "stream",
     "text": [
      "content rmse: 0.6958863364938793\n",
      "wording rmse: 0.8138114031631255\n"
     ]
    },
    {
     "data": {
      "text/plain": [
       "{'val_loss': 0.25864788654816767, 'mcrmse': 0.7548488698285024}"
      ]
     },
     "metadata": {},
     "output_type": "display_data"
    },
    {
     "name": "stdout",
     "output_type": "stream",
     "text": [
      "\u001b[31msave content model weight\u001b[0m\n",
      "\u001b[31msave wording model weight\u001b[0m\n",
      "fold: 0, epoch: 0, step: 120\n"
     ]
    },
    {
     "data": {
      "application/vnd.jupyter.widget-view+json": {
       "model_id": "6747fb8276554cc6b9bbf5470a8d4f60",
       "version_major": 2,
       "version_minor": 0
      },
      "text/plain": [
       "  0%|          | 0/69 [00:00<?, ?it/s]"
      ]
     },
     "metadata": {},
     "output_type": "display_data"
    },
    {
     "name": "stdout",
     "output_type": "stream",
     "text": [
      "content rmse: 0.563775382695079\n",
      "wording rmse: 0.7481808927249072\n"
     ]
    },
    {
     "data": {
      "text/plain": [
       "{'val_loss': 0.19898821793138602, 'mcrmse': 0.6559781377099931}"
      ]
     },
     "metadata": {},
     "output_type": "display_data"
    },
    {
     "name": "stdout",
     "output_type": "stream",
     "text": [
      "\u001b[31msave content model weight\u001b[0m\n",
      "\u001b[31msave wording model weight\u001b[0m\n",
      "fold: 0, epoch: 0, step: 180\n"
     ]
    },
    {
     "data": {
      "application/vnd.jupyter.widget-view+json": {
       "model_id": "df83634f42b54955860e0f759f35c1e1",
       "version_major": 2,
       "version_minor": 0
      },
      "text/plain": [
       "  0%|          | 0/69 [00:00<?, ?it/s]"
      ]
     },
     "metadata": {},
     "output_type": "display_data"
    },
    {
     "name": "stdout",
     "output_type": "stream",
     "text": [
      "content rmse: 0.6821981370723121\n",
      "wording rmse: 0.8151596254987906\n"
     ]
    },
    {
     "data": {
      "text/plain": [
       "{'val_loss': 0.25078744352782517, 'mcrmse': 0.7486788812855514}"
      ]
     },
     "metadata": {},
     "output_type": "display_data"
    },
    {
     "name": "stdout",
     "output_type": "stream",
     "text": [
      "fold: 0, epoch: 0, step: 240\n"
     ]
    },
    {
     "data": {
      "application/vnd.jupyter.widget-view+json": {
       "model_id": "47e448c27c8a4652a1cb707e426bf084",
       "version_major": 2,
       "version_minor": 0
      },
      "text/plain": [
       "  0%|          | 0/69 [00:00<?, ?it/s]"
      ]
     },
     "metadata": {},
     "output_type": "display_data"
    },
    {
     "name": "stdout",
     "output_type": "stream",
     "text": [
      "content rmse: 0.5895145782528536\n",
      "wording rmse: 0.7596074259396542\n"
     ]
    },
    {
     "data": {
      "text/plain": [
       "{'val_loss': 0.2078571430089143, 'mcrmse': 0.6745610020962539}"
      ]
     },
     "metadata": {},
     "output_type": "display_data"
    },
    {
     "name": "stdout",
     "output_type": "stream",
     "text": [
      "fold: 0, epoch: 0, step: 300\n"
     ]
    },
    {
     "data": {
      "application/vnd.jupyter.widget-view+json": {
       "model_id": "ab276c92504448b5be61126c7c8f7cd5",
       "version_major": 2,
       "version_minor": 0
      },
      "text/plain": [
       "  0%|          | 0/69 [00:00<?, ?it/s]"
      ]
     },
     "metadata": {},
     "output_type": "display_data"
    },
    {
     "name": "stdout",
     "output_type": "stream",
     "text": [
      "content rmse: 0.5405921293722943\n",
      "wording rmse: 0.6828851132724864\n"
     ]
    },
    {
     "data": {
      "text/plain": [
       "{'val_loss': 0.17452266569150543, 'mcrmse': 0.6117386213223903}"
      ]
     },
     "metadata": {},
     "output_type": "display_data"
    },
    {
     "name": "stdout",
     "output_type": "stream",
     "text": [
      "\u001b[31msave content model weight\u001b[0m\n",
      "\u001b[31msave wording model weight\u001b[0m\n",
      "fold: 0, epoch: 0, step: 360\n"
     ]
    },
    {
     "data": {
      "application/vnd.jupyter.widget-view+json": {
       "model_id": "0e4c6872de6d45a19dd6596cbd432601",
       "version_major": 2,
       "version_minor": 0
      },
      "text/plain": [
       "  0%|          | 0/69 [00:00<?, ?it/s]"
      ]
     },
     "metadata": {},
     "output_type": "display_data"
    },
    {
     "name": "stdout",
     "output_type": "stream",
     "text": [
      "content rmse: 0.509077841914001\n",
      "wording rmse: 0.683058081762213\n"
     ]
    },
    {
     "data": {
      "text/plain": [
       "{'val_loss': 0.16627762669989551, 'mcrmse': 0.5960679618381071}"
      ]
     },
     "metadata": {},
     "output_type": "display_data"
    },
    {
     "name": "stdout",
     "output_type": "stream",
     "text": [
      "\u001b[31msave content model weight\u001b[0m\n"
     ]
    },
    {
     "data": {
      "text/plain": [
       "{'train_loss': 0.1712132893384449}"
      ]
     },
     "metadata": {},
     "output_type": "display_data"
    },
    {
     "name": "stdout",
     "output_type": "stream",
     "text": [
      "fold: 0, epoch: 0, complete\n"
     ]
    },
    {
     "data": {
      "application/vnd.jupyter.widget-view+json": {
       "model_id": "b61aa7b21ee24c3fa7143211dd8d7817",
       "version_major": 2,
       "version_minor": 0
      },
      "text/plain": [
       "  0%|          | 0/69 [00:00<?, ?it/s]"
      ]
     },
     "metadata": {},
     "output_type": "display_data"
    },
    {
     "name": "stdout",
     "output_type": "stream",
     "text": [
      "content rmse: 0.5175069754404639\n",
      "wording rmse: 0.6941150876386347\n"
     ]
    },
    {
     "data": {
      "text/plain": [
       "{'val_loss': 0.17156921817514967, 'mcrmse': 0.6058110315395493}"
      ]
     },
     "metadata": {},
     "output_type": "display_data"
    },
    {
     "name": "stdout",
     "output_type": "stream",
     "text": [
      "# ============ start epoch:1 ============== #\n"
     ]
    },
    {
     "data": {
      "application/vnd.jupyter.widget-view+json": {
       "model_id": "6e84a2990d23487087c032517fb8eb5e",
       "version_major": 2,
       "version_minor": 0
      },
      "text/plain": [
       "  0%|          | 0/378 [00:00<?, ?it/s]"
      ]
     },
     "metadata": {},
     "output_type": "display_data"
    },
    {
     "name": "stdout",
     "output_type": "stream",
     "text": [
      "fold: 0, epoch: 1, step: 60\n"
     ]
    },
    {
     "data": {
      "application/vnd.jupyter.widget-view+json": {
       "model_id": "3cadf64be7534ffda2845146db6277fe",
       "version_major": 2,
       "version_minor": 0
      },
      "text/plain": [
       "  0%|          | 0/69 [00:00<?, ?it/s]"
      ]
     },
     "metadata": {},
     "output_type": "display_data"
    },
    {
     "name": "stdout",
     "output_type": "stream",
     "text": [
      "content rmse: 0.5082152029700064\n",
      "wording rmse: 0.6779098061560778\n"
     ]
    },
    {
     "data": {
      "text/plain": [
       "{'val_loss': 0.16551060905698636, 'mcrmse': 0.5930625045630421}"
      ]
     },
     "metadata": {},
     "output_type": "display_data"
    },
    {
     "name": "stdout",
     "output_type": "stream",
     "text": [
      "\u001b[31msave content model weight\u001b[0m\n",
      "\u001b[31msave wording model weight\u001b[0m\n",
      "fold: 0, epoch: 1, step: 120\n"
     ]
    },
    {
     "data": {
      "application/vnd.jupyter.widget-view+json": {
       "model_id": "ebdb2c7c0c794536b2dc960a4d29c073",
       "version_major": 2,
       "version_minor": 0
      },
      "text/plain": [
       "  0%|          | 0/69 [00:00<?, ?it/s]"
      ]
     },
     "metadata": {},
     "output_type": "display_data"
    },
    {
     "name": "stdout",
     "output_type": "stream",
     "text": [
      "content rmse: 0.5435585478699028\n",
      "wording rmse: 0.7195799565347971\n"
     ]
    },
    {
     "data": {
      "text/plain": [
       "{'val_loss': 0.18542188230364948, 'mcrmse': 0.6315692522023499}"
      ]
     },
     "metadata": {},
     "output_type": "display_data"
    },
    {
     "name": "stdout",
     "output_type": "stream",
     "text": [
      "fold: 0, epoch: 1, step: 180\n"
     ]
    },
    {
     "data": {
      "application/vnd.jupyter.widget-view+json": {
       "model_id": "bf05ebc9439742369a795268a523e299",
       "version_major": 2,
       "version_minor": 0
      },
      "text/plain": [
       "  0%|          | 0/69 [00:00<?, ?it/s]"
      ]
     },
     "metadata": {},
     "output_type": "display_data"
    },
    {
     "name": "stdout",
     "output_type": "stream",
     "text": [
      "content rmse: 0.5380341911371052\n",
      "wording rmse: 0.6823528790150709\n"
     ]
    },
    {
     "data": {
      "text/plain": [
       "{'val_loss': 0.17275939702123053, 'mcrmse': 0.6101935350760881}"
      ]
     },
     "metadata": {},
     "output_type": "display_data"
    },
    {
     "name": "stdout",
     "output_type": "stream",
     "text": [
      "fold: 0, epoch: 1, step: 240\n"
     ]
    },
    {
     "data": {
      "application/vnd.jupyter.widget-view+json": {
       "model_id": "50c22af21c614744a79620db0ad62c60",
       "version_major": 2,
       "version_minor": 0
      },
      "text/plain": [
       "  0%|          | 0/69 [00:00<?, ?it/s]"
      ]
     },
     "metadata": {},
     "output_type": "display_data"
    },
    {
     "name": "stdout",
     "output_type": "stream",
     "text": [
      "content rmse: 0.549692424104659\n",
      "wording rmse: 0.6795658117175389\n"
     ]
    },
    {
     "data": {
      "text/plain": [
       "{'val_loss': 0.1755644022229576, 'mcrmse': 0.614629117911099}"
      ]
     },
     "metadata": {},
     "output_type": "display_data"
    },
    {
     "name": "stdout",
     "output_type": "stream",
     "text": [
      "fold: 0, epoch: 1, step: 300\n"
     ]
    },
    {
     "data": {
      "application/vnd.jupyter.widget-view+json": {
       "model_id": "b87303f553ea443498c1a0d2ee1c9e02",
       "version_major": 2,
       "version_minor": 0
      },
      "text/plain": [
       "  0%|          | 0/69 [00:00<?, ?it/s]"
      ]
     },
     "metadata": {},
     "output_type": "display_data"
    },
    {
     "name": "stdout",
     "output_type": "stream",
     "text": [
      "content rmse: 0.5138719661343831\n",
      "wording rmse: 0.6874830171612222\n"
     ]
    },
    {
     "data": {
      "text/plain": [
       "{'val_loss': 0.16783508561139526, 'mcrmse': 0.6006774916478026}"
      ]
     },
     "metadata": {},
     "output_type": "display_data"
    },
    {
     "name": "stdout",
     "output_type": "stream",
     "text": [
      "fold: 0, epoch: 1, step: 360\n"
     ]
    },
    {
     "data": {
      "application/vnd.jupyter.widget-view+json": {
       "model_id": "123179d3df22461ab547635990920284",
       "version_major": 2,
       "version_minor": 0
      },
      "text/plain": [
       "  0%|          | 0/69 [00:00<?, ?it/s]"
      ]
     },
     "metadata": {},
     "output_type": "display_data"
    },
    {
     "name": "stdout",
     "output_type": "stream",
     "text": [
      "content rmse: 0.5068759713484804\n",
      "wording rmse: 0.6654258771190865\n"
     ]
    },
    {
     "data": {
      "text/plain": [
       "{'val_loss': 0.15885183550181003, 'mcrmse': 0.5861509242337835}"
      ]
     },
     "metadata": {},
     "output_type": "display_data"
    },
    {
     "name": "stdout",
     "output_type": "stream",
     "text": [
      "\u001b[31msave content model weight\u001b[0m\n",
      "\u001b[31msave wording model weight\u001b[0m\n"
     ]
    },
    {
     "data": {
      "text/plain": [
       "{'train_loss': 0.09285134613198578}"
      ]
     },
     "metadata": {},
     "output_type": "display_data"
    },
    {
     "name": "stdout",
     "output_type": "stream",
     "text": [
      "fold: 0, epoch: 1, complete\n"
     ]
    },
    {
     "data": {
      "application/vnd.jupyter.widget-view+json": {
       "model_id": "e06c639bbacb4fbeb591b6df8295a192",
       "version_major": 2,
       "version_minor": 0
      },
      "text/plain": [
       "  0%|          | 0/69 [00:00<?, ?it/s]"
      ]
     },
     "metadata": {},
     "output_type": "display_data"
    },
    {
     "name": "stdout",
     "output_type": "stream",
     "text": [
      "content rmse: 0.497143088933185\n",
      "wording rmse: 0.6754755829361574\n"
     ]
    },
    {
     "data": {
      "text/plain": [
       "{'val_loss': 0.16022355795068732, 'mcrmse': 0.5863093359346712}"
      ]
     },
     "metadata": {},
     "output_type": "display_data"
    },
    {
     "name": "stdout",
     "output_type": "stream",
     "text": [
      "\u001b[31msave content model weight\u001b[0m\n",
      "# ============ start epoch:2 ============== #\n"
     ]
    },
    {
     "data": {
      "application/vnd.jupyter.widget-view+json": {
       "model_id": "93301da2b5d943b688d94c3b2413ff3c",
       "version_major": 2,
       "version_minor": 0
      },
      "text/plain": [
       "  0%|          | 0/378 [00:00<?, ?it/s]"
      ]
     },
     "metadata": {},
     "output_type": "display_data"
    },
    {
     "name": "stdout",
     "output_type": "stream",
     "text": [
      "fold: 0, epoch: 2, step: 60\n"
     ]
    },
    {
     "data": {
      "application/vnd.jupyter.widget-view+json": {
       "model_id": "5ed31e7d986a4da89d17ac3e16f73188",
       "version_major": 2,
       "version_minor": 0
      },
      "text/plain": [
       "  0%|          | 0/69 [00:00<?, ?it/s]"
      ]
     },
     "metadata": {},
     "output_type": "display_data"
    },
    {
     "name": "stdout",
     "output_type": "stream",
     "text": [
      "content rmse: 0.5515382455642869\n",
      "wording rmse: 0.6722678261053625\n"
     ]
    },
    {
     "data": {
      "text/plain": [
       "{'val_loss': 0.17295051845008422, 'mcrmse': 0.6119030358348247}"
      ]
     },
     "metadata": {},
     "output_type": "display_data"
    },
    {
     "name": "stdout",
     "output_type": "stream",
     "text": [
      "fold: 0, epoch: 2, step: 120\n"
     ]
    },
    {
     "data": {
      "application/vnd.jupyter.widget-view+json": {
       "model_id": "cbed93a41f644081a7ed6c10ca1eda35",
       "version_major": 2,
       "version_minor": 0
      },
      "text/plain": [
       "  0%|          | 0/69 [00:00<?, ?it/s]"
      ]
     },
     "metadata": {},
     "output_type": "display_data"
    },
    {
     "name": "stdout",
     "output_type": "stream",
     "text": [
      "content rmse: 0.5566627740644258\n",
      "wording rmse: 0.6621137841881146\n"
     ]
    },
    {
     "data": {
      "text/plain": [
       "{'val_loss': 0.17153918024419335, 'mcrmse': 0.6093882791262701}"
      ]
     },
     "metadata": {},
     "output_type": "display_data"
    },
    {
     "name": "stdout",
     "output_type": "stream",
     "text": [
      "\u001b[31msave wording model weight\u001b[0m\n",
      "fold: 0, epoch: 2, step: 180\n"
     ]
    },
    {
     "data": {
      "application/vnd.jupyter.widget-view+json": {
       "model_id": "c848342c0ebe4f1a913dc0dd5da25044",
       "version_major": 2,
       "version_minor": 0
      },
      "text/plain": [
       "  0%|          | 0/69 [00:00<?, ?it/s]"
      ]
     },
     "metadata": {},
     "output_type": "display_data"
    },
    {
     "name": "stdout",
     "output_type": "stream",
     "text": [
      "content rmse: 0.522500587490992\n",
      "wording rmse: 0.6599047797979686\n"
     ]
    },
    {
     "data": {
      "text/plain": [
       "{'val_loss': 0.16262349525529043, 'mcrmse': 0.5912026836444804}"
      ]
     },
     "metadata": {},
     "output_type": "display_data"
    },
    {
     "name": "stdout",
     "output_type": "stream",
     "text": [
      "\u001b[31msave wording model weight\u001b[0m\n",
      "fold: 0, epoch: 2, step: 240\n"
     ]
    },
    {
     "data": {
      "application/vnd.jupyter.widget-view+json": {
       "model_id": "ce2b867c2ace4f66a8dc9cf5359084dd",
       "version_major": 2,
       "version_minor": 0
      },
      "text/plain": [
       "  0%|          | 0/69 [00:00<?, ?it/s]"
      ]
     },
     "metadata": {},
     "output_type": "display_data"
    },
    {
     "name": "stdout",
     "output_type": "stream",
     "text": [
      "content rmse: 0.5170623089083877\n",
      "wording rmse: 0.665499981816086\n"
     ]
    },
    {
     "data": {
      "text/plain": [
       "{'val_loss': 0.16225800967875764, 'mcrmse': 0.5912811453622369}"
      ]
     },
     "metadata": {},
     "output_type": "display_data"
    },
    {
     "name": "stdout",
     "output_type": "stream",
     "text": [
      "fold: 0, epoch: 2, step: 300\n"
     ]
    },
    {
     "data": {
      "application/vnd.jupyter.widget-view+json": {
       "model_id": "60b7abc8ceed4d629092b8f23c591f3f",
       "version_major": 2,
       "version_minor": 0
      },
      "text/plain": [
       "  0%|          | 0/69 [00:00<?, ?it/s]"
      ]
     },
     "metadata": {},
     "output_type": "display_data"
    },
    {
     "name": "stdout",
     "output_type": "stream",
     "text": [
      "content rmse: 0.530208576853945\n",
      "wording rmse: 0.6652581505961557\n"
     ]
    },
    {
     "data": {
      "text/plain": [
       "{'val_loss': 0.16481467863968688, 'mcrmse': 0.5977333637250504}"
      ]
     },
     "metadata": {},
     "output_type": "display_data"
    },
    {
     "name": "stdout",
     "output_type": "stream",
     "text": [
      "fold: 0, epoch: 2, step: 360\n"
     ]
    },
    {
     "data": {
      "application/vnd.jupyter.widget-view+json": {
       "model_id": "d13838863ce24e0cbd9f609789f4de84",
       "version_major": 2,
       "version_minor": 0
      },
      "text/plain": [
       "  0%|          | 0/69 [00:00<?, ?it/s]"
      ]
     },
     "metadata": {},
     "output_type": "display_data"
    },
    {
     "name": "stdout",
     "output_type": "stream",
     "text": [
      "content rmse: 0.5274745824666269\n",
      "wording rmse: 0.6666838514337537\n"
     ]
    },
    {
     "data": {
      "text/plain": [
       "{'val_loss': 0.1643076527961686, 'mcrmse': 0.5970792169501904}"
      ]
     },
     "metadata": {},
     "output_type": "display_data"
    },
    {
     "data": {
      "text/plain": [
       "{'train_loss': 0.06177026952404982}"
      ]
     },
     "metadata": {},
     "output_type": "display_data"
    },
    {
     "name": "stdout",
     "output_type": "stream",
     "text": [
      "fold: 0, epoch: 2, complete\n"
     ]
    },
    {
     "data": {
      "application/vnd.jupyter.widget-view+json": {
       "model_id": "bd2853f84d534f0aafd042871ef80e11",
       "version_major": 2,
       "version_minor": 0
      },
      "text/plain": [
       "  0%|          | 0/69 [00:00<?, ?it/s]"
      ]
     },
     "metadata": {},
     "output_type": "display_data"
    },
    {
     "name": "stdout",
     "output_type": "stream",
     "text": [
      "content rmse: 0.5276881896794132\n",
      "wording rmse: 0.6665975403010048\n"
     ]
    },
    {
     "data": {
      "text/plain": [
       "{'val_loss': 0.16434810589576784, 'mcrmse': 0.5971428649902091}"
      ]
     },
     "metadata": {},
     "output_type": "display_data"
    },
    {
     "name": "stdout",
     "output_type": "stream",
     "text": [
      "(1103,)\n",
      "(1103,)\n"
     ]
    },
    {
     "name": "stderr",
     "output_type": "stream",
     "text": [
      "Some weights of the model checkpoint at /notebooks/output/commonlit-mlm-deberta-v3-large/model were not used when initializing DebertaV2Model: ['cls.predictions.bias', 'cls.predictions.transform.dense.bias', 'cls.predictions.transform.LayerNorm.bias', 'cls.predictions.transform.dense.weight', 'cls.predictions.decoder.weight', 'cls.predictions.transform.LayerNorm.weight', 'cls.predictions.decoder.bias']\n",
      "- This IS expected if you are initializing DebertaV2Model from the checkpoint of a model trained on another task or with another architecture (e.g. initializing a BertForSequenceClassification model from a BertForPreTraining model).\n",
      "- This IS NOT expected if you are initializing DebertaV2Model from the checkpoint of a model that you expect to be exactly identical (initializing a BertForSequenceClassification model from a BertForSequenceClassification model).\n"
     ]
    },
    {
     "name": "stdout",
     "output_type": "stream",
     "text": [
      "# ============ start epoch:0 ============== #\n"
     ]
    },
    {
     "data": {
      "application/vnd.jupyter.widget-view+json": {
       "model_id": "19148260a04441ef9382cfe77fbc8531",
       "version_major": 2,
       "version_minor": 0
      },
      "text/plain": [
       "  0%|          | 0/319 [00:00<?, ?it/s]"
      ]
     },
     "metadata": {},
     "output_type": "display_data"
    },
    {
     "name": "stdout",
     "output_type": "stream",
     "text": [
      "fold: 1, epoch: 0, step: 60\n"
     ]
    },
    {
     "data": {
      "application/vnd.jupyter.widget-view+json": {
       "model_id": "dc8bb7d0fb37416fadcf00739f0dbcff",
       "version_major": 2,
       "version_minor": 0
      },
      "text/plain": [
       "  0%|          | 0/129 [00:00<?, ?it/s]"
      ]
     },
     "metadata": {},
     "output_type": "display_data"
    },
    {
     "name": "stdout",
     "output_type": "stream",
     "text": [
      "content rmse: 0.5863255221157311\n",
      "wording rmse: 0.6845682451543909\n"
     ]
    },
    {
     "data": {
      "text/plain": [
       "{'val_loss': 0.19235279467219454, 'mcrmse': 0.635446883635061}"
      ]
     },
     "metadata": {},
     "output_type": "display_data"
    },
    {
     "name": "stdout",
     "output_type": "stream",
     "text": [
      "\u001b[31msave content model weight\u001b[0m\n",
      "\u001b[31msave wording model weight\u001b[0m\n",
      "fold: 1, epoch: 0, step: 120\n"
     ]
    },
    {
     "data": {
      "application/vnd.jupyter.widget-view+json": {
       "model_id": "6e3b4c4bf2864683bad9b63b82092867",
       "version_major": 2,
       "version_minor": 0
      },
      "text/plain": [
       "  0%|          | 0/129 [00:00<?, ?it/s]"
      ]
     },
     "metadata": {},
     "output_type": "display_data"
    },
    {
     "name": "stdout",
     "output_type": "stream",
     "text": [
      "content rmse: 0.4473268280008817\n",
      "wording rmse: 0.6654052551049641\n"
     ]
    },
    {
     "data": {
      "text/plain": [
       "{'val_loss': 0.15639748712245505, 'mcrmse': 0.5563660415529229}"
      ]
     },
     "metadata": {},
     "output_type": "display_data"
    },
    {
     "name": "stdout",
     "output_type": "stream",
     "text": [
      "\u001b[31msave content model weight\u001b[0m\n",
      "\u001b[31msave wording model weight\u001b[0m\n",
      "fold: 1, epoch: 0, step: 180\n"
     ]
    },
    {
     "data": {
      "application/vnd.jupyter.widget-view+json": {
       "model_id": "f13d58efc5504887b003e06dcd74abff",
       "version_major": 2,
       "version_minor": 0
      },
      "text/plain": [
       "  0%|          | 0/129 [00:00<?, ?it/s]"
      ]
     },
     "metadata": {},
     "output_type": "display_data"
    },
    {
     "name": "stdout",
     "output_type": "stream",
     "text": [
      "content rmse: 0.5251035441757034\n",
      "wording rmse: 0.6389315849934438\n"
     ]
    },
    {
     "data": {
      "text/plain": [
       "{'val_loss': 0.16659563244490236, 'mcrmse': 0.5820175645845735}"
      ]
     },
     "metadata": {},
     "output_type": "display_data"
    },
    {
     "name": "stdout",
     "output_type": "stream",
     "text": [
      "\u001b[31msave wording model weight\u001b[0m\n",
      "fold: 1, epoch: 0, step: 240\n"
     ]
    },
    {
     "data": {
      "application/vnd.jupyter.widget-view+json": {
       "model_id": "a1b22f27fe2f43c4b71a2cbbc402f903",
       "version_major": 2,
       "version_minor": 0
      },
      "text/plain": [
       "  0%|          | 0/129 [00:00<?, ?it/s]"
      ]
     },
     "metadata": {},
     "output_type": "display_data"
    },
    {
     "name": "stdout",
     "output_type": "stream",
     "text": [
      "content rmse: 0.44305537647526805\n",
      "wording rmse: 0.6096874632253676\n"
     ]
    },
    {
     "data": {
      "text/plain": [
       "{'val_loss': 0.1352341110135782, 'mcrmse': 0.5263714198503178}"
      ]
     },
     "metadata": {},
     "output_type": "display_data"
    },
    {
     "name": "stdout",
     "output_type": "stream",
     "text": [
      "\u001b[31msave content model weight\u001b[0m\n",
      "\u001b[31msave wording model weight\u001b[0m\n",
      "fold: 1, epoch: 0, step: 300\n"
     ]
    },
    {
     "data": {
      "application/vnd.jupyter.widget-view+json": {
       "model_id": "336319a09a3340648916d37a62ee21da",
       "version_major": 2,
       "version_minor": 0
      },
      "text/plain": [
       "  0%|          | 0/129 [00:00<?, ?it/s]"
      ]
     },
     "metadata": {},
     "output_type": "display_data"
    },
    {
     "name": "stdout",
     "output_type": "stream",
     "text": [
      "content rmse: 0.40767663501979884\n",
      "wording rmse: 0.649967030006819\n"
     ]
    },
    {
     "data": {
      "text/plain": [
       "{'val_loss': 0.14388238970058082, 'mcrmse': 0.5288218325133089}"
      ]
     },
     "metadata": {},
     "output_type": "display_data"
    },
    {
     "name": "stdout",
     "output_type": "stream",
     "text": [
      "\u001b[31msave content model weight\u001b[0m\n"
     ]
    },
    {
     "data": {
      "text/plain": [
       "{'train_loss': 0.18468171960694663}"
      ]
     },
     "metadata": {},
     "output_type": "display_data"
    },
    {
     "name": "stdout",
     "output_type": "stream",
     "text": [
      "fold: 1, epoch: 0, complete\n"
     ]
    },
    {
     "data": {
      "application/vnd.jupyter.widget-view+json": {
       "model_id": "71cccbe18c244692acf4b564b614892b",
       "version_major": 2,
       "version_minor": 0
      },
      "text/plain": [
       "  0%|          | 0/129 [00:00<?, ?it/s]"
      ]
     },
     "metadata": {},
     "output_type": "display_data"
    },
    {
     "name": "stdout",
     "output_type": "stream",
     "text": [
      "content rmse: 0.39647427784787076\n",
      "wording rmse: 0.6991055694762044\n"
     ]
    },
    {
     "data": {
      "text/plain": [
       "{'val_loss': 0.1575939192187166, 'mcrmse': 0.5477899236620376}"
      ]
     },
     "metadata": {},
     "output_type": "display_data"
    },
    {
     "name": "stdout",
     "output_type": "stream",
     "text": [
      "\u001b[31msave content model weight\u001b[0m\n",
      "# ============ start epoch:1 ============== #\n"
     ]
    },
    {
     "data": {
      "application/vnd.jupyter.widget-view+json": {
       "model_id": "7c7e99fa49694a1e950634d0c8c9de1a",
       "version_major": 2,
       "version_minor": 0
      },
      "text/plain": [
       "  0%|          | 0/319 [00:00<?, ?it/s]"
      ]
     },
     "metadata": {},
     "output_type": "display_data"
    },
    {
     "name": "stdout",
     "output_type": "stream",
     "text": [
      "fold: 1, epoch: 1, step: 60\n"
     ]
    },
    {
     "data": {
      "application/vnd.jupyter.widget-view+json": {
       "model_id": "2a4160d5df4341339b056677da87aaa2",
       "version_major": 2,
       "version_minor": 0
      },
      "text/plain": [
       "  0%|          | 0/129 [00:00<?, ?it/s]"
      ]
     },
     "metadata": {},
     "output_type": "display_data"
    },
    {
     "name": "stdout",
     "output_type": "stream",
     "text": [
      "content rmse: 0.3960022201945699\n",
      "wording rmse: 0.5344440665925976\n"
     ]
    },
    {
     "data": {
      "text/plain": [
       "{'val_loss': 0.1085542581566167, 'mcrmse': 0.4652231433935837}"
      ]
     },
     "metadata": {},
     "output_type": "display_data"
    },
    {
     "name": "stdout",
     "output_type": "stream",
     "text": [
      "\u001b[31msave content model weight\u001b[0m\n",
      "\u001b[31msave wording model weight\u001b[0m\n",
      "fold: 1, epoch: 1, step: 120\n"
     ]
    },
    {
     "data": {
      "application/vnd.jupyter.widget-view+json": {
       "model_id": "5b0f45d8a87f4ee4a7a833231a8003dc",
       "version_major": 2,
       "version_minor": 0
      },
      "text/plain": [
       "  0%|          | 0/129 [00:00<?, ?it/s]"
      ]
     },
     "metadata": {},
     "output_type": "display_data"
    },
    {
     "name": "stdout",
     "output_type": "stream",
     "text": [
      "content rmse: 0.407878547176324\n",
      "wording rmse: 0.5252775251942182\n"
     ]
    },
    {
     "data": {
      "text/plain": [
       "{'val_loss': 0.10842055602811411, 'mcrmse': 0.4665780361852711}"
      ]
     },
     "metadata": {},
     "output_type": "display_data"
    },
    {
     "name": "stdout",
     "output_type": "stream",
     "text": [
      "\u001b[31msave wording model weight\u001b[0m\n",
      "fold: 1, epoch: 1, step: 180\n"
     ]
    },
    {
     "data": {
      "application/vnd.jupyter.widget-view+json": {
       "model_id": "c2cc8b2c682c49b5ae8239b482202a8b",
       "version_major": 2,
       "version_minor": 0
      },
      "text/plain": [
       "  0%|          | 0/129 [00:00<?, ?it/s]"
      ]
     },
     "metadata": {},
     "output_type": "display_data"
    },
    {
     "name": "stdout",
     "output_type": "stream",
     "text": [
      "content rmse: 0.41934938039719777\n",
      "wording rmse: 0.6673425039423309\n"
     ]
    },
    {
     "data": {
      "text/plain": [
       "{'val_loss': 0.15141286345639737, 'mcrmse': 0.5433459421697643}"
      ]
     },
     "metadata": {},
     "output_type": "display_data"
    },
    {
     "name": "stdout",
     "output_type": "stream",
     "text": [
      "fold: 1, epoch: 1, step: 240\n"
     ]
    },
    {
     "data": {
      "application/vnd.jupyter.widget-view+json": {
       "model_id": "8c192a57efb440a88fd665070a30a9c4",
       "version_major": 2,
       "version_minor": 0
      },
      "text/plain": [
       "  0%|          | 0/129 [00:00<?, ?it/s]"
      ]
     },
     "metadata": {},
     "output_type": "display_data"
    },
    {
     "name": "stdout",
     "output_type": "stream",
     "text": [
      "content rmse: 0.39184889373993764\n",
      "wording rmse: 0.6605317255171534\n"
     ]
    },
    {
     "data": {
      "text/plain": [
       "{'val_loss': 0.143893837812866, 'mcrmse': 0.5261903096285455}"
      ]
     },
     "metadata": {},
     "output_type": "display_data"
    },
    {
     "name": "stdout",
     "output_type": "stream",
     "text": [
      "\u001b[31msave content model weight\u001b[0m\n",
      "fold: 1, epoch: 1, step: 300\n"
     ]
    },
    {
     "data": {
      "application/vnd.jupyter.widget-view+json": {
       "model_id": "d89cba8686ed48eb8818af868e02b6cb",
       "version_major": 2,
       "version_minor": 0
      },
      "text/plain": [
       "  0%|          | 0/129 [00:00<?, ?it/s]"
      ]
     },
     "metadata": {},
     "output_type": "display_data"
    },
    {
     "name": "stdout",
     "output_type": "stream",
     "text": [
      "content rmse: 0.422239715910041\n",
      "wording rmse: 0.5471508421498226\n"
     ]
    },
    {
     "data": {
      "text/plain": [
       "{'val_loss': 0.11686510518808996, 'mcrmse': 0.4846952790299318}"
      ]
     },
     "metadata": {},
     "output_type": "display_data"
    },
    {
     "data": {
      "text/plain": [
       "{'train_loss': 0.10057101773571071}"
      ]
     },
     "metadata": {},
     "output_type": "display_data"
    },
    {
     "name": "stdout",
     "output_type": "stream",
     "text": [
      "fold: 1, epoch: 1, complete\n"
     ]
    },
    {
     "data": {
      "application/vnd.jupyter.widget-view+json": {
       "model_id": "e0717a41de91408e98df5ec1a974cfae",
       "version_major": 2,
       "version_minor": 0
      },
      "text/plain": [
       "  0%|          | 0/129 [00:00<?, ?it/s]"
      ]
     },
     "metadata": {},
     "output_type": "display_data"
    },
    {
     "name": "stdout",
     "output_type": "stream",
     "text": [
      "content rmse: 0.4474444985293181\n",
      "wording rmse: 0.5415930964522147\n"
     ]
    },
    {
     "data": {
      "text/plain": [
       "{'val_loss': 0.12122688505130308, 'mcrmse': 0.4945187974907664}"
      ]
     },
     "metadata": {},
     "output_type": "display_data"
    },
    {
     "name": "stdout",
     "output_type": "stream",
     "text": [
      "# ============ start epoch:2 ============== #\n"
     ]
    },
    {
     "data": {
      "application/vnd.jupyter.widget-view+json": {
       "model_id": "36a02cf594f0479195c71b21efb4cdb3",
       "version_major": 2,
       "version_minor": 0
      },
      "text/plain": [
       "  0%|          | 0/319 [00:00<?, ?it/s]"
      ]
     },
     "metadata": {},
     "output_type": "display_data"
    },
    {
     "name": "stdout",
     "output_type": "stream",
     "text": [
      "fold: 1, epoch: 2, step: 60\n"
     ]
    },
    {
     "data": {
      "application/vnd.jupyter.widget-view+json": {
       "model_id": "a830c107b0ec47e58748e29154fdd185",
       "version_major": 2,
       "version_minor": 0
      },
      "text/plain": [
       "  0%|          | 0/129 [00:00<?, ?it/s]"
      ]
     },
     "metadata": {},
     "output_type": "display_data"
    },
    {
     "name": "stdout",
     "output_type": "stream",
     "text": [
      "content rmse: 0.3941361342854709\n",
      "wording rmse: 0.5642139225477679\n"
     ]
    },
    {
     "data": {
      "text/plain": [
       "{'val_loss': 0.11644623898364527, 'mcrmse': 0.4791750284166194}"
      ]
     },
     "metadata": {},
     "output_type": "display_data"
    },
    {
     "name": "stdout",
     "output_type": "stream",
     "text": [
      "fold: 1, epoch: 2, step: 120\n"
     ]
    },
    {
     "data": {
      "application/vnd.jupyter.widget-view+json": {
       "model_id": "89e5db7b159346408225494eb9ba87f0",
       "version_major": 2,
       "version_minor": 0
      },
      "text/plain": [
       "  0%|          | 0/129 [00:00<?, ?it/s]"
      ]
     },
     "metadata": {},
     "output_type": "display_data"
    },
    {
     "name": "stdout",
     "output_type": "stream",
     "text": [
      "content rmse: 0.3954699270311055\n",
      "wording rmse: 0.5853811049848505\n"
     ]
    },
    {
     "data": {
      "text/plain": [
       "{'val_loss': 0.12237956566490707, 'mcrmse': 0.490425516007978}"
      ]
     },
     "metadata": {},
     "output_type": "display_data"
    },
    {
     "name": "stdout",
     "output_type": "stream",
     "text": [
      "fold: 1, epoch: 2, step: 180\n"
     ]
    },
    {
     "data": {
      "application/vnd.jupyter.widget-view+json": {
       "model_id": "4d2e707e363547a0bb7dcc6fa3b83e0d",
       "version_major": 2,
       "version_minor": 0
      },
      "text/plain": [
       "  0%|          | 0/129 [00:00<?, ?it/s]"
      ]
     },
     "metadata": {},
     "output_type": "display_data"
    },
    {
     "name": "stdout",
     "output_type": "stream",
     "text": [
      "content rmse: 0.39764091294005055\n",
      "wording rmse: 0.6104251633588053\n"
     ]
    },
    {
     "data": {
      "text/plain": [
       "{'val_loss': 0.13003726423829867, 'mcrmse': 0.5040330381494279}"
      ]
     },
     "metadata": {},
     "output_type": "display_data"
    },
    {
     "name": "stdout",
     "output_type": "stream",
     "text": [
      "fold: 1, epoch: 2, step: 240\n"
     ]
    },
    {
     "data": {
      "application/vnd.jupyter.widget-view+json": {
       "model_id": "3d3804ae264140828814269ac23049bc",
       "version_major": 2,
       "version_minor": 0
      },
      "text/plain": [
       "  0%|          | 0/129 [00:00<?, ?it/s]"
      ]
     },
     "metadata": {},
     "output_type": "display_data"
    },
    {
     "name": "stdout",
     "output_type": "stream",
     "text": [
      "content rmse: 0.39736756178139243\n",
      "wording rmse: 0.5655709861876402\n"
     ]
    },
    {
     "data": {
      "text/plain": [
       "{'val_loss': 0.11730078398804672, 'mcrmse': 0.48146927398451633}"
      ]
     },
     "metadata": {},
     "output_type": "display_data"
    },
    {
     "name": "stdout",
     "output_type": "stream",
     "text": [
      "fold: 1, epoch: 2, step: 300\n"
     ]
    },
    {
     "data": {
      "application/vnd.jupyter.widget-view+json": {
       "model_id": "628d994e74c242a080b15ece95a28b64",
       "version_major": 2,
       "version_minor": 0
      },
      "text/plain": [
       "  0%|          | 0/129 [00:00<?, ?it/s]"
      ]
     },
     "metadata": {},
     "output_type": "display_data"
    },
    {
     "name": "stdout",
     "output_type": "stream",
     "text": [
      "content rmse: 0.3994246704017958\n",
      "wording rmse: 0.5708611585581\n"
     ]
    },
    {
     "data": {
      "text/plain": [
       "{'val_loss': 0.1191709371999913, 'mcrmse': 0.48514291447994795}"
      ]
     },
     "metadata": {},
     "output_type": "display_data"
    },
    {
     "data": {
      "text/plain": [
       "{'train_loss': 0.0673812435922391}"
      ]
     },
     "metadata": {},
     "output_type": "display_data"
    },
    {
     "name": "stdout",
     "output_type": "stream",
     "text": [
      "fold: 1, epoch: 2, complete\n"
     ]
    },
    {
     "data": {
      "application/vnd.jupyter.widget-view+json": {
       "model_id": "96214540d3124607838ccb354ad72764",
       "version_major": 2,
       "version_minor": 0
      },
      "text/plain": [
       "  0%|          | 0/129 [00:00<?, ?it/s]"
      ]
     },
     "metadata": {},
     "output_type": "display_data"
    },
    {
     "name": "stdout",
     "output_type": "stream",
     "text": [
      "content rmse: 0.39947165847510596\n",
      "wording rmse: 0.5711667362035884\n"
     ]
    },
    {
     "data": {
      "text/plain": [
       "{'val_loss': 0.11926435543370004, 'mcrmse': 0.48531919733934714}"
      ]
     },
     "metadata": {},
     "output_type": "display_data"
    },
    {
     "name": "stdout",
     "output_type": "stream",
     "text": [
      "(2057,)\n",
      "(2057,)\n"
     ]
    },
    {
     "name": "stderr",
     "output_type": "stream",
     "text": [
      "Some weights of the model checkpoint at /notebooks/output/commonlit-mlm-deberta-v3-large/model were not used when initializing DebertaV2Model: ['cls.predictions.bias', 'cls.predictions.transform.dense.bias', 'cls.predictions.transform.LayerNorm.bias', 'cls.predictions.transform.dense.weight', 'cls.predictions.decoder.weight', 'cls.predictions.transform.LayerNorm.weight', 'cls.predictions.decoder.bias']\n",
      "- This IS expected if you are initializing DebertaV2Model from the checkpoint of a model trained on another task or with another architecture (e.g. initializing a BertForSequenceClassification model from a BertForPreTraining model).\n",
      "- This IS NOT expected if you are initializing DebertaV2Model from the checkpoint of a model that you expect to be exactly identical (initializing a BertForSequenceClassification model from a BertForSequenceClassification model).\n"
     ]
    },
    {
     "name": "stdout",
     "output_type": "stream",
     "text": [
      "# ============ start epoch:0 ============== #\n"
     ]
    },
    {
     "data": {
      "application/vnd.jupyter.widget-view+json": {
       "model_id": "a63b15d63cb94b2c93df960890be8df0",
       "version_major": 2,
       "version_minor": 0
      },
      "text/plain": [
       "  0%|          | 0/322 [00:00<?, ?it/s]"
      ]
     },
     "metadata": {},
     "output_type": "display_data"
    },
    {
     "name": "stdout",
     "output_type": "stream",
     "text": [
      "fold: 2, epoch: 0, step: 60\n"
     ]
    },
    {
     "data": {
      "application/vnd.jupyter.widget-view+json": {
       "model_id": "ddcaf2dec0564193a208d48b1cfa6abd",
       "version_major": 2,
       "version_minor": 0
      },
      "text/plain": [
       "  0%|          | 0/126 [00:00<?, ?it/s]"
      ]
     },
     "metadata": {},
     "output_type": "display_data"
    },
    {
     "name": "stdout",
     "output_type": "stream",
     "text": [
      "content rmse: 0.6920820365977174\n",
      "wording rmse: 0.808429162703609\n"
     ]
    },
    {
     "data": {
      "text/plain": [
       "{'val_loss': 0.2600460944668519, 'mcrmse': 0.7502555996506632}"
      ]
     },
     "metadata": {},
     "output_type": "display_data"
    },
    {
     "name": "stdout",
     "output_type": "stream",
     "text": [
      "\u001b[31msave content model weight\u001b[0m\n",
      "\u001b[31msave wording model weight\u001b[0m\n",
      "fold: 2, epoch: 0, step: 120\n"
     ]
    },
    {
     "data": {
      "application/vnd.jupyter.widget-view+json": {
       "model_id": "9114a02a1cd041e19f4ce15c53b6f0b8",
       "version_major": 2,
       "version_minor": 0
      },
      "text/plain": [
       "  0%|          | 0/126 [00:00<?, ?it/s]"
      ]
     },
     "metadata": {},
     "output_type": "display_data"
    },
    {
     "name": "stdout",
     "output_type": "stream",
     "text": [
      "content rmse: 1.0619667322303998\n",
      "wording rmse: 1.231236819982766\n"
     ]
    },
    {
     "data": {
      "text/plain": [
       "{'val_loss': 0.5571434261669502, 'mcrmse': 1.146601776106583}"
      ]
     },
     "metadata": {},
     "output_type": "display_data"
    },
    {
     "name": "stdout",
     "output_type": "stream",
     "text": [
      "fold: 2, epoch: 0, step: 180\n"
     ]
    },
    {
     "data": {
      "application/vnd.jupyter.widget-view+json": {
       "model_id": "53856fd49c174541ac82a04c7a2f8ca6",
       "version_major": 2,
       "version_minor": 0
      },
      "text/plain": [
       "  0%|          | 0/126 [00:00<?, ?it/s]"
      ]
     },
     "metadata": {},
     "output_type": "display_data"
    },
    {
     "name": "stdout",
     "output_type": "stream",
     "text": [
      "content rmse: 0.8889749126031964\n",
      "wording rmse: 1.0808413028337245\n"
     ]
    },
    {
     "data": {
      "text/plain": [
       "{'val_loss': 0.42117365515309224, 'mcrmse': 0.9849081077184605}"
      ]
     },
     "metadata": {},
     "output_type": "display_data"
    },
    {
     "name": "stdout",
     "output_type": "stream",
     "text": [
      "fold: 2, epoch: 0, step: 240\n"
     ]
    },
    {
     "data": {
      "application/vnd.jupyter.widget-view+json": {
       "model_id": "0845eede391f4c94a7c82e990f8965af",
       "version_major": 2,
       "version_minor": 0
      },
      "text/plain": [
       "  0%|          | 0/126 [00:00<?, ?it/s]"
      ]
     },
     "metadata": {},
     "output_type": "display_data"
    },
    {
     "name": "stdout",
     "output_type": "stream",
     "text": [
      "content rmse: 0.6174028722741977\n",
      "wording rmse: 1.0088484849720272\n"
     ]
    },
    {
     "data": {
      "text/plain": [
       "{'val_loss': 0.30309445041590155, 'mcrmse': 0.8131256786231125}"
      ]
     },
     "metadata": {},
     "output_type": "display_data"
    },
    {
     "name": "stdout",
     "output_type": "stream",
     "text": [
      "\u001b[31msave content model weight\u001b[0m\n",
      "fold: 2, epoch: 0, step: 300\n"
     ]
    },
    {
     "data": {
      "application/vnd.jupyter.widget-view+json": {
       "model_id": "9cd22a2607ce4fb6b877038be3be8082",
       "version_major": 2,
       "version_minor": 0
      },
      "text/plain": [
       "  0%|          | 0/126 [00:00<?, ?it/s]"
      ]
     },
     "metadata": {},
     "output_type": "display_data"
    },
    {
     "name": "stdout",
     "output_type": "stream",
     "text": [
      "content rmse: 0.6916601726804057\n",
      "wording rmse: 0.9013022170442962\n"
     ]
    },
    {
     "data": {
      "text/plain": [
       "{'val_loss': 0.28311228245170394, 'mcrmse': 0.7964811948623509}"
      ]
     },
     "metadata": {},
     "output_type": "display_data"
    },
    {
     "data": {
      "text/plain": [
       "{'train_loss': 0.15950823911922687}"
      ]
     },
     "metadata": {},
     "output_type": "display_data"
    },
    {
     "name": "stdout",
     "output_type": "stream",
     "text": [
      "fold: 2, epoch: 0, complete\n"
     ]
    },
    {
     "data": {
      "application/vnd.jupyter.widget-view+json": {
       "model_id": "737e80bce0414906bfcfd7c5d2c83538",
       "version_major": 2,
       "version_minor": 0
      },
      "text/plain": [
       "  0%|          | 0/126 [00:00<?, ?it/s]"
      ]
     },
     "metadata": {},
     "output_type": "display_data"
    },
    {
     "name": "stdout",
     "output_type": "stream",
     "text": [
      "content rmse: 0.8976573501971448\n",
      "wording rmse: 1.2098436624115665\n"
     ]
    },
    {
     "data": {
      "text/plain": [
       "{'val_loss': 0.46992160288655027, 'mcrmse': 1.0537505063043557}"
      ]
     },
     "metadata": {},
     "output_type": "display_data"
    },
    {
     "name": "stdout",
     "output_type": "stream",
     "text": [
      "# ============ start epoch:1 ============== #\n"
     ]
    },
    {
     "data": {
      "application/vnd.jupyter.widget-view+json": {
       "model_id": "16a1a33e48db4155a51302ad87b25a95",
       "version_major": 2,
       "version_minor": 0
      },
      "text/plain": [
       "  0%|          | 0/322 [00:00<?, ?it/s]"
      ]
     },
     "metadata": {},
     "output_type": "display_data"
    },
    {
     "name": "stdout",
     "output_type": "stream",
     "text": [
      "fold: 2, epoch: 1, step: 60\n"
     ]
    },
    {
     "data": {
      "application/vnd.jupyter.widget-view+json": {
       "model_id": "fafac036f8c445a98151cf6328870216",
       "version_major": 2,
       "version_minor": 0
      },
      "text/plain": [
       "  0%|          | 0/126 [00:00<?, ?it/s]"
      ]
     },
     "metadata": {},
     "output_type": "display_data"
    },
    {
     "name": "stdout",
     "output_type": "stream",
     "text": [
      "content rmse: 0.7202608952334559\n",
      "wording rmse: 0.8481173190464858\n"
     ]
    },
    {
     "data": {
      "text/plain": [
       "{'val_loss': 0.26924656897471755, 'mcrmse': 0.7841891071399709}"
      ]
     },
     "metadata": {},
     "output_type": "display_data"
    },
    {
     "name": "stdout",
     "output_type": "stream",
     "text": [
      "fold: 2, epoch: 1, step: 120\n"
     ]
    },
    {
     "data": {
      "application/vnd.jupyter.widget-view+json": {
       "model_id": "c190b61b7477489aa2b8a57c36efcf66",
       "version_major": 2,
       "version_minor": 0
      },
      "text/plain": [
       "  0%|          | 0/126 [00:00<?, ?it/s]"
      ]
     },
     "metadata": {},
     "output_type": "display_data"
    },
    {
     "name": "stdout",
     "output_type": "stream",
     "text": [
      "content rmse: 0.5553362843158607\n",
      "wording rmse: 0.7438599090236783\n"
     ]
    },
    {
     "data": {
      "text/plain": [
       "{'val_loss': 0.1939567661292076, 'mcrmse': 0.6495980966697694}"
      ]
     },
     "metadata": {},
     "output_type": "display_data"
    },
    {
     "name": "stdout",
     "output_type": "stream",
     "text": [
      "\u001b[31msave content model weight\u001b[0m\n",
      "\u001b[31msave wording model weight\u001b[0m\n",
      "fold: 2, epoch: 1, step: 180\n"
     ]
    },
    {
     "data": {
      "application/vnd.jupyter.widget-view+json": {
       "model_id": "aa74fec3b483484690f6549fb5629ca8",
       "version_major": 2,
       "version_minor": 0
      },
      "text/plain": [
       "  0%|          | 0/126 [00:00<?, ?it/s]"
      ]
     },
     "metadata": {},
     "output_type": "display_data"
    },
    {
     "name": "stdout",
     "output_type": "stream",
     "text": [
      "content rmse: 0.7033232298299327\n",
      "wording rmse: 0.9325356147354475\n"
     ]
    },
    {
     "data": {
      "text/plain": [
       "{'val_loss': 0.2924851425448243, 'mcrmse': 0.81792942228269}"
      ]
     },
     "metadata": {},
     "output_type": "display_data"
    },
    {
     "name": "stdout",
     "output_type": "stream",
     "text": [
      "fold: 2, epoch: 1, step: 240\n"
     ]
    },
    {
     "data": {
      "application/vnd.jupyter.widget-view+json": {
       "model_id": "c27b5526594a4af59ff06d4fb7daa6ab",
       "version_major": 2,
       "version_minor": 0
      },
      "text/plain": [
       "  0%|          | 0/126 [00:00<?, ?it/s]"
      ]
     },
     "metadata": {},
     "output_type": "display_data"
    },
    {
     "name": "stdout",
     "output_type": "stream",
     "text": [
      "content rmse: 0.608416652612518\n",
      "wording rmse: 0.9254599599125823\n"
     ]
    },
    {
     "data": {
      "text/plain": [
       "{'val_loss': 0.2640706874011108, 'mcrmse': 0.7669383062625501}"
      ]
     },
     "metadata": {},
     "output_type": "display_data"
    },
    {
     "name": "stdout",
     "output_type": "stream",
     "text": [
      "fold: 2, epoch: 1, step: 300\n"
     ]
    },
    {
     "data": {
      "application/vnd.jupyter.widget-view+json": {
       "model_id": "00bf77501d064c27a92bab404fdce5ff",
       "version_major": 2,
       "version_minor": 0
      },
      "text/plain": [
       "  0%|          | 0/126 [00:00<?, ?it/s]"
      ]
     },
     "metadata": {},
     "output_type": "display_data"
    },
    {
     "name": "stdout",
     "output_type": "stream",
     "text": [
      "content rmse: 0.6679580072062368\n",
      "wording rmse: 0.9287734579949024\n"
     ]
    },
    {
     "data": {
      "text/plain": [
       "{'val_loss': 0.2826600792790421, 'mcrmse': 0.7983657326005695}"
      ]
     },
     "metadata": {},
     "output_type": "display_data"
    },
    {
     "data": {
      "text/plain": [
       "{'train_loss': 0.09166330722687037}"
      ]
     },
     "metadata": {},
     "output_type": "display_data"
    },
    {
     "name": "stdout",
     "output_type": "stream",
     "text": [
      "fold: 2, epoch: 1, complete\n"
     ]
    },
    {
     "data": {
      "application/vnd.jupyter.widget-view+json": {
       "model_id": "ede4e6d688af4dce899cf8af5015f8e5",
       "version_major": 2,
       "version_minor": 0
      },
      "text/plain": [
       "  0%|          | 0/126 [00:00<?, ?it/s]"
      ]
     },
     "metadata": {},
     "output_type": "display_data"
    },
    {
     "name": "stdout",
     "output_type": "stream",
     "text": [
      "content rmse: 0.5770851472331876\n",
      "wording rmse: 0.8715377687117702\n"
     ]
    },
    {
     "data": {
      "text/plain": [
       "{'val_loss': 0.2359083804467414, 'mcrmse': 0.724311457972479}"
      ]
     },
     "metadata": {},
     "output_type": "display_data"
    },
    {
     "name": "stdout",
     "output_type": "stream",
     "text": [
      "# ============ start epoch:2 ============== #\n"
     ]
    },
    {
     "data": {
      "application/vnd.jupyter.widget-view+json": {
       "model_id": "05c56bfd9eb448a7823fc92420a0c3a8",
       "version_major": 2,
       "version_minor": 0
      },
      "text/plain": [
       "  0%|          | 0/322 [00:00<?, ?it/s]"
      ]
     },
     "metadata": {},
     "output_type": "display_data"
    },
    {
     "name": "stdout",
     "output_type": "stream",
     "text": [
      "fold: 2, epoch: 2, step: 60\n"
     ]
    },
    {
     "data": {
      "application/vnd.jupyter.widget-view+json": {
       "model_id": "56647898d3c8492d83d228e461a4858c",
       "version_major": 2,
       "version_minor": 0
      },
      "text/plain": [
       "  0%|          | 0/126 [00:00<?, ?it/s]"
      ]
     },
     "metadata": {},
     "output_type": "display_data"
    },
    {
     "name": "stdout",
     "output_type": "stream",
     "text": [
      "content rmse: 0.6004648511254704\n",
      "wording rmse: 0.9170486853511635\n"
     ]
    },
    {
     "data": {
      "text/plain": [
       "{'val_loss': 0.25704899881611776, 'mcrmse': 0.758756768238317}"
      ]
     },
     "metadata": {},
     "output_type": "display_data"
    },
    {
     "name": "stdout",
     "output_type": "stream",
     "text": [
      "fold: 2, epoch: 2, step: 120\n"
     ]
    },
    {
     "data": {
      "application/vnd.jupyter.widget-view+json": {
       "model_id": "0e95f2e85fd14ed598735fe0f949432b",
       "version_major": 2,
       "version_minor": 0
      },
      "text/plain": [
       "  0%|          | 0/126 [00:00<?, ?it/s]"
      ]
     },
     "metadata": {},
     "output_type": "display_data"
    },
    {
     "name": "stdout",
     "output_type": "stream",
     "text": [
      "content rmse: 0.5682218629288713\n",
      "wording rmse: 0.9273682109772564\n"
     ]
    },
    {
     "data": {
      "text/plain": [
       "{'val_loss': 0.2494480444972286, 'mcrmse': 0.7477950369530639}"
      ]
     },
     "metadata": {},
     "output_type": "display_data"
    },
    {
     "name": "stdout",
     "output_type": "stream",
     "text": [
      "fold: 2, epoch: 2, step: 180\n"
     ]
    },
    {
     "data": {
      "application/vnd.jupyter.widget-view+json": {
       "model_id": "7382c67f9745459bb965e52528e46897",
       "version_major": 2,
       "version_minor": 0
      },
      "text/plain": [
       "  0%|          | 0/126 [00:00<?, ?it/s]"
      ]
     },
     "metadata": {},
     "output_type": "display_data"
    },
    {
     "name": "stdout",
     "output_type": "stream",
     "text": [
      "content rmse: 0.6448774353604255\n",
      "wording rmse: 0.9182215342835234\n"
     ]
    },
    {
     "data": {
      "text/plain": [
       "{'val_loss': 0.2677305337206649, 'mcrmse': 0.7815494848219744}"
      ]
     },
     "metadata": {},
     "output_type": "display_data"
    },
    {
     "name": "stdout",
     "output_type": "stream",
     "text": [
      "fold: 2, epoch: 2, step: 240\n"
     ]
    },
    {
     "data": {
      "application/vnd.jupyter.widget-view+json": {
       "model_id": "678e2d54718a48eeaad182fd5c29673c",
       "version_major": 2,
       "version_minor": 0
      },
      "text/plain": [
       "  0%|          | 0/126 [00:00<?, ?it/s]"
      ]
     },
     "metadata": {},
     "output_type": "display_data"
    },
    {
     "name": "stdout",
     "output_type": "stream",
     "text": [
      "content rmse: 0.5944142723178375\n",
      "wording rmse: 0.8997943774183053\n"
     ]
    },
    {
     "data": {
      "text/plain": [
       "{'val_loss': 0.24915008340726272, 'mcrmse': 0.7471043248680713}"
      ]
     },
     "metadata": {},
     "output_type": "display_data"
    },
    {
     "name": "stdout",
     "output_type": "stream",
     "text": [
      "fold: 2, epoch: 2, step: 300\n"
     ]
    },
    {
     "data": {
      "application/vnd.jupyter.widget-view+json": {
       "model_id": "00b0ed8c032646b99c969ca7901ecffc",
       "version_major": 2,
       "version_minor": 0
      },
      "text/plain": [
       "  0%|          | 0/126 [00:00<?, ?it/s]"
      ]
     },
     "metadata": {},
     "output_type": "display_data"
    },
    {
     "name": "stdout",
     "output_type": "stream",
     "text": [
      "content rmse: 0.6003032957581165\n",
      "wording rmse: 0.9152596109286771\n"
     ]
    },
    {
     "data": {
      "text/plain": [
       "{'val_loss': 0.2559213703169106, 'mcrmse': 0.7577814533433969}"
      ]
     },
     "metadata": {},
     "output_type": "display_data"
    },
    {
     "data": {
      "text/plain": [
       "{'train_loss': 0.060545151347514266}"
      ]
     },
     "metadata": {},
     "output_type": "display_data"
    },
    {
     "name": "stdout",
     "output_type": "stream",
     "text": [
      "fold: 2, epoch: 2, complete\n"
     ]
    },
    {
     "data": {
      "application/vnd.jupyter.widget-view+json": {
       "model_id": "d448a96322ce407eb11c4574afe45dd1",
       "version_major": 2,
       "version_minor": 0
      },
      "text/plain": [
       "  0%|          | 0/126 [00:00<?, ?it/s]"
      ]
     },
     "metadata": {},
     "output_type": "display_data"
    },
    {
     "name": "stdout",
     "output_type": "stream",
     "text": [
      "content rmse: 0.5996164956557509\n",
      "wording rmse: 0.914750556504487\n"
     ]
    },
    {
     "data": {
      "text/plain": [
       "{'val_loss': 0.2555544358089885, 'mcrmse': 0.757183526080119}"
      ]
     },
     "metadata": {},
     "output_type": "display_data"
    },
    {
     "name": "stdout",
     "output_type": "stream",
     "text": [
      "(2009,)\n",
      "(2009,)\n"
     ]
    },
    {
     "name": "stderr",
     "output_type": "stream",
     "text": [
      "Some weights of the model checkpoint at /notebooks/output/commonlit-mlm-deberta-v3-large/model were not used when initializing DebertaV2Model: ['cls.predictions.bias', 'cls.predictions.transform.dense.bias', 'cls.predictions.transform.LayerNorm.bias', 'cls.predictions.transform.dense.weight', 'cls.predictions.decoder.weight', 'cls.predictions.transform.LayerNorm.weight', 'cls.predictions.decoder.bias']\n",
      "- This IS expected if you are initializing DebertaV2Model from the checkpoint of a model trained on another task or with another architecture (e.g. initializing a BertForSequenceClassification model from a BertForPreTraining model).\n",
      "- This IS NOT expected if you are initializing DebertaV2Model from the checkpoint of a model that you expect to be exactly identical (initializing a BertForSequenceClassification model from a BertForSequenceClassification model).\n"
     ]
    },
    {
     "name": "stdout",
     "output_type": "stream",
     "text": [
      "# ============ start epoch:0 ============== #\n"
     ]
    },
    {
     "data": {
      "application/vnd.jupyter.widget-view+json": {
       "model_id": "9a71d4195b0a41d0ba20a5581ca81fb9",
       "version_major": 2,
       "version_minor": 0
      },
      "text/plain": [
       "  0%|          | 0/323 [00:00<?, ?it/s]"
      ]
     },
     "metadata": {},
     "output_type": "display_data"
    },
    {
     "name": "stdout",
     "output_type": "stream",
     "text": [
      "fold: 3, epoch: 0, step: 60\n"
     ]
    },
    {
     "data": {
      "application/vnd.jupyter.widget-view+json": {
       "model_id": "ba707203b570427bae4dee8974313503",
       "version_major": 2,
       "version_minor": 0
      },
      "text/plain": [
       "  0%|          | 0/125 [00:00<?, ?it/s]"
      ]
     },
     "metadata": {},
     "output_type": "display_data"
    },
    {
     "name": "stdout",
     "output_type": "stream",
     "text": [
      "content rmse: 0.7960094111517896\n",
      "wording rmse: 0.9412934018755222\n"
     ]
    },
    {
     "data": {
      "text/plain": [
       "{'val_loss': 0.3461763744124908, 'mcrmse': 0.8686514065136559}"
      ]
     },
     "metadata": {},
     "output_type": "display_data"
    },
    {
     "name": "stdout",
     "output_type": "stream",
     "text": [
      "\u001b[31msave content model weight\u001b[0m\n",
      "\u001b[31msave wording model weight\u001b[0m\n",
      "fold: 3, epoch: 0, step: 120\n"
     ]
    },
    {
     "data": {
      "application/vnd.jupyter.widget-view+json": {
       "model_id": "38ac7696e545467f9c59846a65ba6b42",
       "version_major": 2,
       "version_minor": 0
      },
      "text/plain": [
       "  0%|          | 0/125 [00:00<?, ?it/s]"
      ]
     },
     "metadata": {},
     "output_type": "display_data"
    },
    {
     "name": "stdout",
     "output_type": "stream",
     "text": [
      "content rmse: 0.44966313124305973\n",
      "wording rmse: 0.661933584697344\n"
     ]
    },
    {
     "data": {
      "text/plain": [
       "{'val_loss': 0.15159484857547736, 'mcrmse': 0.5557983579702018}"
      ]
     },
     "metadata": {},
     "output_type": "display_data"
    },
    {
     "name": "stdout",
     "output_type": "stream",
     "text": [
      "\u001b[31msave content model weight\u001b[0m\n",
      "\u001b[31msave wording model weight\u001b[0m\n",
      "fold: 3, epoch: 0, step: 180\n"
     ]
    },
    {
     "data": {
      "application/vnd.jupyter.widget-view+json": {
       "model_id": "1370793eccf44750b5847df297df328b",
       "version_major": 2,
       "version_minor": 0
      },
      "text/plain": [
       "  0%|          | 0/125 [00:00<?, ?it/s]"
      ]
     },
     "metadata": {},
     "output_type": "display_data"
    },
    {
     "name": "stdout",
     "output_type": "stream",
     "text": [
      "content rmse: 0.49520398335241317\n",
      "wording rmse: 0.7566117009927572\n"
     ]
    },
    {
     "data": {
      "text/plain": [
       "{'val_loss': 0.19196081585540084, 'mcrmse': 0.6259078421725852}"
      ]
     },
     "metadata": {},
     "output_type": "display_data"
    },
    {
     "name": "stdout",
     "output_type": "stream",
     "text": [
      "fold: 3, epoch: 0, step: 240\n"
     ]
    },
    {
     "data": {
      "application/vnd.jupyter.widget-view+json": {
       "model_id": "b061dedbb28143d197c73e0d2796b5e5",
       "version_major": 2,
       "version_minor": 0
      },
      "text/plain": [
       "  0%|          | 0/125 [00:00<?, ?it/s]"
      ]
     },
     "metadata": {},
     "output_type": "display_data"
    },
    {
     "name": "stdout",
     "output_type": "stream",
     "text": [
      "content rmse: 0.4796389461759745\n",
      "wording rmse: 0.5926426346111398\n"
     ]
    },
    {
     "data": {
      "text/plain": [
       "{'val_loss': 0.1411749390896432, 'mcrmse': 0.5361407903935571}"
      ]
     },
     "metadata": {},
     "output_type": "display_data"
    },
    {
     "name": "stdout",
     "output_type": "stream",
     "text": [
      "\u001b[31msave wording model weight\u001b[0m\n",
      "fold: 3, epoch: 0, step: 300\n"
     ]
    },
    {
     "data": {
      "application/vnd.jupyter.widget-view+json": {
       "model_id": "5998fdab82044ae39cd12946f8571c1d",
       "version_major": 2,
       "version_minor": 0
      },
      "text/plain": [
       "  0%|          | 0/125 [00:00<?, ?it/s]"
      ]
     },
     "metadata": {},
     "output_type": "display_data"
    },
    {
     "name": "stdout",
     "output_type": "stream",
     "text": [
      "content rmse: 0.5038516519555989\n",
      "wording rmse: 0.6315961744488702\n"
     ]
    },
    {
     "data": {
      "text/plain": [
       "{'val_loss': 0.1574432665336586, 'mcrmse': 0.5677239132022345}"
      ]
     },
     "metadata": {},
     "output_type": "display_data"
    },
    {
     "data": {
      "text/plain": [
       "{'train_loss': 0.17949633895428188}"
      ]
     },
     "metadata": {},
     "output_type": "display_data"
    },
    {
     "name": "stdout",
     "output_type": "stream",
     "text": [
      "fold: 3, epoch: 0, complete\n"
     ]
    },
    {
     "data": {
      "application/vnd.jupyter.widget-view+json": {
       "model_id": "30b2d4ad8c09486eb9c75489fd943d17",
       "version_major": 2,
       "version_minor": 0
      },
      "text/plain": [
       "  0%|          | 0/125 [00:00<?, ?it/s]"
      ]
     },
     "metadata": {},
     "output_type": "display_data"
    },
    {
     "name": "stdout",
     "output_type": "stream",
     "text": [
      "content rmse: 0.47052953331425484\n",
      "wording rmse: 0.5798651356226808\n"
     ]
    },
    {
     "data": {
      "text/plain": [
       "{'val_loss': 0.13609091343287236, 'mcrmse': 0.5251973344684678}"
      ]
     },
     "metadata": {},
     "output_type": "display_data"
    },
    {
     "name": "stdout",
     "output_type": "stream",
     "text": [
      "\u001b[31msave wording model weight\u001b[0m\n",
      "# ============ start epoch:1 ============== #\n"
     ]
    },
    {
     "data": {
      "application/vnd.jupyter.widget-view+json": {
       "model_id": "aa685a2393c84fdba757cb3d5e512cb4",
       "version_major": 2,
       "version_minor": 0
      },
      "text/plain": [
       "  0%|          | 0/323 [00:00<?, ?it/s]"
      ]
     },
     "metadata": {},
     "output_type": "display_data"
    },
    {
     "name": "stdout",
     "output_type": "stream",
     "text": [
      "fold: 3, epoch: 1, step: 60\n"
     ]
    },
    {
     "data": {
      "application/vnd.jupyter.widget-view+json": {
       "model_id": "ba2ddbe080104e1aa5d3758db98999c0",
       "version_major": 2,
       "version_minor": 0
      },
      "text/plain": [
       "  0%|          | 0/125 [00:00<?, ?it/s]"
      ]
     },
     "metadata": {},
     "output_type": "display_data"
    },
    {
     "name": "stdout",
     "output_type": "stream",
     "text": [
      "content rmse: 0.4480253699448863\n",
      "wording rmse: 0.5604867788581741\n"
     ]
    },
    {
     "data": {
      "text/plain": [
       "{'val_loss': 0.12421704916832203, 'mcrmse': 0.5042560744015302}"
      ]
     },
     "metadata": {},
     "output_type": "display_data"
    },
    {
     "name": "stdout",
     "output_type": "stream",
     "text": [
      "\u001b[31msave content model weight\u001b[0m\n",
      "\u001b[31msave wording model weight\u001b[0m\n",
      "fold: 3, epoch: 1, step: 120\n"
     ]
    },
    {
     "data": {
      "application/vnd.jupyter.widget-view+json": {
       "model_id": "ba43964484c449e3af0ad0279744c8a3",
       "version_major": 2,
       "version_minor": 0
      },
      "text/plain": [
       "  0%|          | 0/125 [00:00<?, ?it/s]"
      ]
     },
     "metadata": {},
     "output_type": "display_data"
    },
    {
     "name": "stdout",
     "output_type": "stream",
     "text": [
      "content rmse: 0.5023084742704798\n",
      "wording rmse: 0.7105725202760605\n"
     ]
    },
    {
     "data": {
      "text/plain": [
       "{'val_loss': 0.18305068240614836, 'mcrmse': 0.6064404972732702}"
      ]
     },
     "metadata": {},
     "output_type": "display_data"
    },
    {
     "name": "stdout",
     "output_type": "stream",
     "text": [
      "fold: 3, epoch: 1, step: 180\n"
     ]
    },
    {
     "data": {
      "application/vnd.jupyter.widget-view+json": {
       "model_id": "16e6a0df6dc144349db80e5e9dff882b",
       "version_major": 2,
       "version_minor": 0
      },
      "text/plain": [
       "  0%|          | 0/125 [00:00<?, ?it/s]"
      ]
     },
     "metadata": {},
     "output_type": "display_data"
    },
    {
     "name": "stdout",
     "output_type": "stream",
     "text": [
      "content rmse: 0.4407060862049242\n",
      "wording rmse: 0.5471229543211421\n"
     ]
    },
    {
     "data": {
      "text/plain": [
       "{'val_loss': 0.12102277768040468, 'mcrmse': 0.4939145202630332}"
      ]
     },
     "metadata": {},
     "output_type": "display_data"
    },
    {
     "name": "stdout",
     "output_type": "stream",
     "text": [
      "\u001b[31msave content model weight\u001b[0m\n",
      "\u001b[31msave wording model weight\u001b[0m\n",
      "fold: 3, epoch: 1, step: 240\n"
     ]
    },
    {
     "data": {
      "application/vnd.jupyter.widget-view+json": {
       "model_id": "2d09a4d847a34f979d34dc417b6e7869",
       "version_major": 2,
       "version_minor": 0
      },
      "text/plain": [
       "  0%|          | 0/125 [00:00<?, ?it/s]"
      ]
     },
     "metadata": {},
     "output_type": "display_data"
    },
    {
     "name": "stdout",
     "output_type": "stream",
     "text": [
      "content rmse: 0.444195586034744\n",
      "wording rmse: 0.5545337733950098\n"
     ]
    },
    {
     "data": {
      "text/plain": [
       "{'val_loss': 0.12378724134398367, 'mcrmse': 0.49936467971487686}"
      ]
     },
     "metadata": {},
     "output_type": "display_data"
    },
    {
     "name": "stdout",
     "output_type": "stream",
     "text": [
      "fold: 3, epoch: 1, step: 300\n"
     ]
    },
    {
     "data": {
      "application/vnd.jupyter.widget-view+json": {
       "model_id": "d09c5986a5a94ee2a59f7e3a4d56e0eb",
       "version_major": 2,
       "version_minor": 0
      },
      "text/plain": [
       "  0%|          | 0/125 [00:00<?, ?it/s]"
      ]
     },
     "metadata": {},
     "output_type": "display_data"
    },
    {
     "name": "stdout",
     "output_type": "stream",
     "text": [
      "content rmse: 0.4342148168375555\n",
      "wording rmse: 0.5255251661024817\n"
     ]
    },
    {
     "data": {
      "text/plain": [
       "{'val_loss': 0.11433217687931711, 'mcrmse': 0.4798699914700186}"
      ]
     },
     "metadata": {},
     "output_type": "display_data"
    },
    {
     "name": "stdout",
     "output_type": "stream",
     "text": [
      "\u001b[31msave content model weight\u001b[0m\n",
      "\u001b[31msave wording model weight\u001b[0m\n"
     ]
    },
    {
     "data": {
      "text/plain": [
       "{'train_loss': 0.10273970940349272}"
      ]
     },
     "metadata": {},
     "output_type": "display_data"
    },
    {
     "name": "stdout",
     "output_type": "stream",
     "text": [
      "fold: 3, epoch: 1, complete\n"
     ]
    },
    {
     "data": {
      "application/vnd.jupyter.widget-view+json": {
       "model_id": "4b065adc897e41e69c0eadbc60130c74",
       "version_major": 2,
       "version_minor": 0
      },
      "text/plain": [
       "  0%|          | 0/125 [00:00<?, ?it/s]"
      ]
     },
     "metadata": {},
     "output_type": "display_data"
    },
    {
     "name": "stdout",
     "output_type": "stream",
     "text": [
      "content rmse: 0.46745840005016026\n",
      "wording rmse: 0.6419047629472662\n"
     ]
    },
    {
     "data": {
      "text/plain": [
       "{'val_loss': 0.15123825472497748, 'mcrmse': 0.5546815814987132}"
      ]
     },
     "metadata": {},
     "output_type": "display_data"
    },
    {
     "name": "stdout",
     "output_type": "stream",
     "text": [
      "# ============ start epoch:2 ============== #\n"
     ]
    },
    {
     "data": {
      "application/vnd.jupyter.widget-view+json": {
       "model_id": "b2e33e88f8264cfcbd07a912ad63b5a7",
       "version_major": 2,
       "version_minor": 0
      },
      "text/plain": [
       "  0%|          | 0/323 [00:00<?, ?it/s]"
      ]
     },
     "metadata": {},
     "output_type": "display_data"
    },
    {
     "name": "stdout",
     "output_type": "stream",
     "text": [
      "fold: 3, epoch: 2, step: 60\n"
     ]
    },
    {
     "data": {
      "application/vnd.jupyter.widget-view+json": {
       "model_id": "7991cf214f4c46cd8909f871739a28fa",
       "version_major": 2,
       "version_minor": 0
      },
      "text/plain": [
       "  0%|          | 0/125 [00:00<?, ?it/s]"
      ]
     },
     "metadata": {},
     "output_type": "display_data"
    },
    {
     "name": "stdout",
     "output_type": "stream",
     "text": [
      "content rmse: 0.43629976128050224\n",
      "wording rmse: 0.5492126771046183\n"
     ]
    },
    {
     "data": {
      "text/plain": [
       "{'val_loss': 0.1207500552247187, 'mcrmse': 0.4927562191925603}"
      ]
     },
     "metadata": {},
     "output_type": "display_data"
    },
    {
     "name": "stdout",
     "output_type": "stream",
     "text": [
      "fold: 3, epoch: 2, step: 120\n"
     ]
    },
    {
     "data": {
      "application/vnd.jupyter.widget-view+json": {
       "model_id": "31ce94c4356f4832946734b01e01a7eb",
       "version_major": 2,
       "version_minor": 0
      },
      "text/plain": [
       "  0%|          | 0/125 [00:00<?, ?it/s]"
      ]
     },
     "metadata": {},
     "output_type": "display_data"
    },
    {
     "name": "stdout",
     "output_type": "stream",
     "text": [
      "content rmse: 0.4380280773507908\n",
      "wording rmse: 0.5442794097979288\n"
     ]
    },
    {
     "data": {
      "text/plain": [
       "{'val_loss': 0.11972266605836834, 'mcrmse': 0.4911537435743598}"
      ]
     },
     "metadata": {},
     "output_type": "display_data"
    },
    {
     "name": "stdout",
     "output_type": "stream",
     "text": [
      "fold: 3, epoch: 2, step: 180\n"
     ]
    },
    {
     "data": {
      "application/vnd.jupyter.widget-view+json": {
       "model_id": "522a6c5e850341c7a1fce336f90b4d13",
       "version_major": 2,
       "version_minor": 0
      },
      "text/plain": [
       "  0%|          | 0/125 [00:00<?, ?it/s]"
      ]
     },
     "metadata": {},
     "output_type": "display_data"
    },
    {
     "name": "stdout",
     "output_type": "stream",
     "text": [
      "content rmse: 0.4388557292646228\n",
      "wording rmse: 0.56621433568751\n"
     ]
    },
    {
     "data": {
      "text/plain": [
       "{'val_loss': 0.12556145331245624, 'mcrmse': 0.5025350324760665}"
      ]
     },
     "metadata": {},
     "output_type": "display_data"
    },
    {
     "name": "stdout",
     "output_type": "stream",
     "text": [
      "fold: 3, epoch: 2, step: 240\n"
     ]
    },
    {
     "data": {
      "application/vnd.jupyter.widget-view+json": {
       "model_id": "0c18798651f34f28919da2bc359b75bc",
       "version_major": 2,
       "version_minor": 0
      },
      "text/plain": [
       "  0%|          | 0/125 [00:00<?, ?it/s]"
      ]
     },
     "metadata": {},
     "output_type": "display_data"
    },
    {
     "name": "stdout",
     "output_type": "stream",
     "text": [
      "content rmse: 0.4415286642690994\n",
      "wording rmse: 0.5548888399557445\n"
     ]
    },
    {
     "data": {
      "text/plain": [
       "{'val_loss': 0.1229909860299441, 'mcrmse': 0.49820875211242194}"
      ]
     },
     "metadata": {},
     "output_type": "display_data"
    },
    {
     "name": "stdout",
     "output_type": "stream",
     "text": [
      "fold: 3, epoch: 2, step: 300\n"
     ]
    },
    {
     "data": {
      "application/vnd.jupyter.widget-view+json": {
       "model_id": "6dbda55fdf5d4380b378de1e9d09dc45",
       "version_major": 2,
       "version_minor": 0
      },
      "text/plain": [
       "  0%|          | 0/125 [00:00<?, ?it/s]"
      ]
     },
     "metadata": {},
     "output_type": "display_data"
    },
    {
     "name": "stdout",
     "output_type": "stream",
     "text": [
      "content rmse: 0.4401725814058982\n",
      "wording rmse: 0.5538248533089507\n"
     ]
    },
    {
     "data": {
      "text/plain": [
       "{'val_loss': 0.12250086529281191, 'mcrmse': 0.49699871735742446}"
      ]
     },
     "metadata": {},
     "output_type": "display_data"
    },
    {
     "data": {
      "text/plain": [
       "{'train_loss': 0.06587520144856751}"
      ]
     },
     "metadata": {},
     "output_type": "display_data"
    },
    {
     "name": "stdout",
     "output_type": "stream",
     "text": [
      "fold: 3, epoch: 2, complete\n"
     ]
    },
    {
     "data": {
      "application/vnd.jupyter.widget-view+json": {
       "model_id": "cface570a7714a0eaa9a841a2680ea19",
       "version_major": 2,
       "version_minor": 0
      },
      "text/plain": [
       "  0%|          | 0/125 [00:00<?, ?it/s]"
      ]
     },
     "metadata": {},
     "output_type": "display_data"
    },
    {
     "name": "stdout",
     "output_type": "stream",
     "text": [
      "content rmse: 0.4402033636563977\n",
      "wording rmse: 0.5537817770383614\n"
     ]
    },
    {
     "data": {
      "text/plain": [
       "{'val_loss': 0.12249540767533507, 'mcrmse': 0.49699257034737954}"
      ]
     },
     "metadata": {},
     "output_type": "display_data"
    },
    {
     "name": "stdout",
     "output_type": "stream",
     "text": [
      "(1996,)\n",
      "(1996,)\n",
      "content rmse: 0.47023835392417007\n",
      "wording rmse: 0.615089635938683\n",
      "fold score： [0.5785239343655768, 0.45856320946707796, 0.6495980966697694, 0.4798699914700186]\n",
      "CV: 0.5427\n"
     ]
    }
   ],
   "source": [
    "score = training(cfg, train_df)"
   ]
  },
  {
   "cell_type": "code",
   "execution_count": 27,
   "id": "25d092b7-3eb3-4eaf-96a3-98bca99cae03",
   "metadata": {},
   "outputs": [],
   "source": [
    "oof = np.load(cfg.EXP_PREDS / \"oof_pred.npy\")"
   ]
  },
  {
   "cell_type": "code",
   "execution_count": 28,
   "id": "18765c01-3336-4ad9-8ab2-719c9e302510",
   "metadata": {},
   "outputs": [
    {
     "data": {
      "text/html": [
       "<div>\n",
       "<style scoped>\n",
       "    .dataframe tbody tr th:only-of-type {\n",
       "        vertical-align: middle;\n",
       "    }\n",
       "\n",
       "    .dataframe tbody tr th {\n",
       "        vertical-align: top;\n",
       "    }\n",
       "\n",
       "    .dataframe thead th {\n",
       "        text-align: right;\n",
       "    }\n",
       "</style>\n",
       "<table border=\"1\" class=\"dataframe\">\n",
       "  <thead>\n",
       "    <tr style=\"text-align: right;\">\n",
       "      <th></th>\n",
       "      <th>student_id</th>\n",
       "      <th>cohesion</th>\n",
       "      <th>syntax</th>\n",
       "      <th>vocabulary</th>\n",
       "      <th>phraseology</th>\n",
       "      <th>grammar</th>\n",
       "      <th>conventions</th>\n",
       "    </tr>\n",
       "  </thead>\n",
       "  <tbody>\n",
       "    <tr>\n",
       "      <th>0</th>\n",
       "      <td>000e8c3c7ddb</td>\n",
       "      <td>2.396729</td>\n",
       "      <td>2.672852</td>\n",
       "      <td>2.837891</td>\n",
       "      <td>2.824707</td>\n",
       "      <td>3.123535</td>\n",
       "      <td>2.683594</td>\n",
       "    </tr>\n",
       "    <tr>\n",
       "      <th>1</th>\n",
       "      <td>0020ae56ffbf</td>\n",
       "      <td>2.030029</td>\n",
       "      <td>2.591553</td>\n",
       "      <td>2.833984</td>\n",
       "      <td>2.641113</td>\n",
       "      <td>3.173828</td>\n",
       "      <td>3.090332</td>\n",
       "    </tr>\n",
       "    <tr>\n",
       "      <th>2</th>\n",
       "      <td>004e978e639e</td>\n",
       "      <td>3.397461</td>\n",
       "      <td>3.453125</td>\n",
       "      <td>3.900391</td>\n",
       "      <td>3.691406</td>\n",
       "      <td>3.817871</td>\n",
       "      <td>3.704102</td>\n",
       "    </tr>\n",
       "    <tr>\n",
       "      <th>3</th>\n",
       "      <td>005ab0199905</td>\n",
       "      <td>1.791992</td>\n",
       "      <td>2.041748</td>\n",
       "      <td>2.305664</td>\n",
       "      <td>1.999512</td>\n",
       "      <td>2.478516</td>\n",
       "      <td>2.051514</td>\n",
       "    </tr>\n",
       "    <tr>\n",
       "      <th>4</th>\n",
       "      <td>0070c9e7af47</td>\n",
       "      <td>3.356934</td>\n",
       "      <td>3.525879</td>\n",
       "      <td>3.588379</td>\n",
       "      <td>3.570801</td>\n",
       "      <td>3.838867</td>\n",
       "      <td>3.120117</td>\n",
       "    </tr>\n",
       "  </tbody>\n",
       "</table>\n",
       "</div>"
      ],
      "text/plain": [
       "     student_id  cohesion    syntax  vocabulary  phraseology   grammar  \\\n",
       "0  000e8c3c7ddb  2.396729  2.672852    2.837891     2.824707  3.123535   \n",
       "1  0020ae56ffbf  2.030029  2.591553    2.833984     2.641113  3.173828   \n",
       "2  004e978e639e  3.397461  3.453125    3.900391     3.691406  3.817871   \n",
       "3  005ab0199905  1.791992  2.041748    2.305664     1.999512  2.478516   \n",
       "4  0070c9e7af47  3.356934  3.525879    3.588379     3.570801  3.838867   \n",
       "\n",
       "   conventions  \n",
       "0     2.683594  \n",
       "1     3.090332  \n",
       "2     3.704102  \n",
       "3     2.051514  \n",
       "4     3.120117  "
      ]
     },
     "execution_count": 28,
     "metadata": {},
     "output_type": "execute_result"
    }
   ],
   "source": [
    "feedback3_pred = feedback3_pred.drop('prompt_id', axis = 1)\n",
    "feedback3_pred.head()"
   ]
  },
  {
   "cell_type": "code",
   "execution_count": 29,
   "id": "f0f53e87-a142-42d5-b22b-975bf0f45791",
   "metadata": {},
   "outputs": [
    {
     "data": {
      "text/html": [
       "<div>\n",
       "<style scoped>\n",
       "    .dataframe tbody tr th:only-of-type {\n",
       "        vertical-align: middle;\n",
       "    }\n",
       "\n",
       "    .dataframe tbody tr th {\n",
       "        vertical-align: top;\n",
       "    }\n",
       "\n",
       "    .dataframe thead th {\n",
       "        text-align: right;\n",
       "    }\n",
       "</style>\n",
       "<table border=\"1\" class=\"dataframe\">\n",
       "  <thead>\n",
       "    <tr style=\"text-align: right;\">\n",
       "      <th></th>\n",
       "      <th>index</th>\n",
       "      <th>student_id</th>\n",
       "      <th>prompt_id</th>\n",
       "      <th>text</th>\n",
       "      <th>content</th>\n",
       "      <th>wording</th>\n",
       "      <th>prompt_question</th>\n",
       "      <th>prompt_title</th>\n",
       "      <th>prompt_text</th>\n",
       "      <th>processed_text</th>\n",
       "      <th>full_text</th>\n",
       "      <th>fold</th>\n",
       "      <th>cohesion</th>\n",
       "      <th>syntax</th>\n",
       "      <th>vocabulary</th>\n",
       "      <th>phraseology</th>\n",
       "      <th>grammar</th>\n",
       "      <th>conventions</th>\n",
       "    </tr>\n",
       "  </thead>\n",
       "  <tbody>\n",
       "    <tr>\n",
       "      <th>0</th>\n",
       "      <td>0</td>\n",
       "      <td>000e8c3c7ddb</td>\n",
       "      <td>814d6b</td>\n",
       "      <td>The third wave was an experimentto see how peo...</td>\n",
       "      <td>0.205683</td>\n",
       "      <td>0.380538</td>\n",
       "      <td>Summarize how the Third Wave developed over su...</td>\n",
       "      <td>The Third Wave</td>\n",
       "      <td>Background \\r\\nThe Third Wave experiment took ...</td>\n",
       "      <td>The third wave was an experimentto see how peo...</td>\n",
       "      <td>content wording [TITLE] The Third Wave [QUESTI...</td>\n",
       "      <td>0</td>\n",
       "      <td>2.396729</td>\n",
       "      <td>2.672852</td>\n",
       "      <td>2.837891</td>\n",
       "      <td>2.824707</td>\n",
       "      <td>3.123535</td>\n",
       "      <td>2.683594</td>\n",
       "    </tr>\n",
       "    <tr>\n",
       "      <th>1</th>\n",
       "      <td>1</td>\n",
       "      <td>0020ae56ffbf</td>\n",
       "      <td>ebad26</td>\n",
       "      <td>They would rub it up with soda to make the sme...</td>\n",
       "      <td>-0.548304</td>\n",
       "      <td>0.506755</td>\n",
       "      <td>Summarize the various ways the factory would u...</td>\n",
       "      <td>Excerpt from The Jungle</td>\n",
       "      <td>With one member trimming beef in a cannery, an...</td>\n",
       "      <td>They would rub it up with soda to make the sme...</td>\n",
       "      <td>content wording [TITLE] Excerpt from The Jungl...</td>\n",
       "      <td>3</td>\n",
       "      <td>2.030029</td>\n",
       "      <td>2.591553</td>\n",
       "      <td>2.833984</td>\n",
       "      <td>2.641113</td>\n",
       "      <td>3.173828</td>\n",
       "      <td>3.090332</td>\n",
       "    </tr>\n",
       "    <tr>\n",
       "      <th>2</th>\n",
       "      <td>2</td>\n",
       "      <td>004e978e639e</td>\n",
       "      <td>3b9047</td>\n",
       "      <td>In Egypt, there were many occupations and soci...</td>\n",
       "      <td>3.128928</td>\n",
       "      <td>4.231226</td>\n",
       "      <td>In complete sentences, summarize the structure...</td>\n",
       "      <td>Egyptian Social Structure</td>\n",
       "      <td>Egyptian society was structured like a pyramid...</td>\n",
       "      <td>In Egypt, there were many occupations and soci...</td>\n",
       "      <td>content wording [TITLE] Egyptian Social Struct...</td>\n",
       "      <td>2</td>\n",
       "      <td>3.397461</td>\n",
       "      <td>3.453125</td>\n",
       "      <td>3.900391</td>\n",
       "      <td>3.691406</td>\n",
       "      <td>3.817871</td>\n",
       "      <td>3.704102</td>\n",
       "    </tr>\n",
       "    <tr>\n",
       "      <th>3</th>\n",
       "      <td>3</td>\n",
       "      <td>005ab0199905</td>\n",
       "      <td>3b9047</td>\n",
       "      <td>The highest class was Pharaohs these people we...</td>\n",
       "      <td>-0.210614</td>\n",
       "      <td>-0.471415</td>\n",
       "      <td>In complete sentences, summarize the structure...</td>\n",
       "      <td>Egyptian Social Structure</td>\n",
       "      <td>Egyptian society was structured like a pyramid...</td>\n",
       "      <td>The highest class was Pharaohs these people we...</td>\n",
       "      <td>content wording [TITLE] Egyptian Social Struct...</td>\n",
       "      <td>2</td>\n",
       "      <td>1.791992</td>\n",
       "      <td>2.041748</td>\n",
       "      <td>2.305664</td>\n",
       "      <td>1.999512</td>\n",
       "      <td>2.478516</td>\n",
       "      <td>2.051514</td>\n",
       "    </tr>\n",
       "    <tr>\n",
       "      <th>4</th>\n",
       "      <td>4</td>\n",
       "      <td>0070c9e7af47</td>\n",
       "      <td>814d6b</td>\n",
       "      <td>The Third Wave developed  rapidly because the ...</td>\n",
       "      <td>3.272894</td>\n",
       "      <td>3.219757</td>\n",
       "      <td>Summarize how the Third Wave developed over su...</td>\n",
       "      <td>The Third Wave</td>\n",
       "      <td>Background \\r\\nThe Third Wave experiment took ...</td>\n",
       "      <td>The Third Wave developed  rapidly because the ...</td>\n",
       "      <td>content wording [TITLE] The Third Wave [QUESTI...</td>\n",
       "      <td>0</td>\n",
       "      <td>3.356934</td>\n",
       "      <td>3.525879</td>\n",
       "      <td>3.588379</td>\n",
       "      <td>3.570801</td>\n",
       "      <td>3.838867</td>\n",
       "      <td>3.120117</td>\n",
       "    </tr>\n",
       "  </tbody>\n",
       "</table>\n",
       "</div>"
      ],
      "text/plain": [
       "   index    student_id prompt_id  \\\n",
       "0      0  000e8c3c7ddb    814d6b   \n",
       "1      1  0020ae56ffbf    ebad26   \n",
       "2      2  004e978e639e    3b9047   \n",
       "3      3  005ab0199905    3b9047   \n",
       "4      4  0070c9e7af47    814d6b   \n",
       "\n",
       "                                                text   content   wording  \\\n",
       "0  The third wave was an experimentto see how peo...  0.205683  0.380538   \n",
       "1  They would rub it up with soda to make the sme... -0.548304  0.506755   \n",
       "2  In Egypt, there were many occupations and soci...  3.128928  4.231226   \n",
       "3  The highest class was Pharaohs these people we... -0.210614 -0.471415   \n",
       "4  The Third Wave developed  rapidly because the ...  3.272894  3.219757   \n",
       "\n",
       "                                     prompt_question  \\\n",
       "0  Summarize how the Third Wave developed over su...   \n",
       "1  Summarize the various ways the factory would u...   \n",
       "2  In complete sentences, summarize the structure...   \n",
       "3  In complete sentences, summarize the structure...   \n",
       "4  Summarize how the Third Wave developed over su...   \n",
       "\n",
       "                prompt_title  \\\n",
       "0             The Third Wave   \n",
       "1    Excerpt from The Jungle   \n",
       "2  Egyptian Social Structure   \n",
       "3  Egyptian Social Structure   \n",
       "4             The Third Wave   \n",
       "\n",
       "                                         prompt_text  \\\n",
       "0  Background \\r\\nThe Third Wave experiment took ...   \n",
       "1  With one member trimming beef in a cannery, an...   \n",
       "2  Egyptian society was structured like a pyramid...   \n",
       "3  Egyptian society was structured like a pyramid...   \n",
       "4  Background \\r\\nThe Third Wave experiment took ...   \n",
       "\n",
       "                                      processed_text  \\\n",
       "0  The third wave was an experimentto see how peo...   \n",
       "1  They would rub it up with soda to make the sme...   \n",
       "2  In Egypt, there were many occupations and soci...   \n",
       "3  The highest class was Pharaohs these people we...   \n",
       "4  The Third Wave developed  rapidly because the ...   \n",
       "\n",
       "                                           full_text  fold  cohesion  \\\n",
       "0  content wording [TITLE] The Third Wave [QUESTI...     0  2.396729   \n",
       "1  content wording [TITLE] Excerpt from The Jungl...     3  2.030029   \n",
       "2  content wording [TITLE] Egyptian Social Struct...     2  3.397461   \n",
       "3  content wording [TITLE] Egyptian Social Struct...     2  1.791992   \n",
       "4  content wording [TITLE] The Third Wave [QUESTI...     0  3.356934   \n",
       "\n",
       "     syntax  vocabulary  phraseology   grammar  conventions  \n",
       "0  2.672852    2.837891     2.824707  3.123535     2.683594  \n",
       "1  2.591553    2.833984     2.641113  3.173828     3.090332  \n",
       "2  3.453125    3.900391     3.691406  3.817871     3.704102  \n",
       "3  2.041748    2.305664     1.999512  2.478516     2.051514  \n",
       "4  3.525879    3.588379     3.570801  3.838867     3.120117  "
      ]
     },
     "execution_count": 29,
     "metadata": {},
     "output_type": "execute_result"
    }
   ],
   "source": [
    "train_df = train_df.merge(feedback3_pred, on=\"student_id\")\n",
    "train_df.head()"
   ]
  },
  {
   "cell_type": "markdown",
   "id": "d6eb0d3b-88b1-4589-93d7-4fedb2161cac",
   "metadata": {},
   "source": [
    "# lightgbm"
   ]
  },
  {
   "cell_type": "code",
   "execution_count": 30,
   "id": "8f0b60d7-6752-4bae-a42b-1550f7b35eb3",
   "metadata": {},
   "outputs": [
    {
     "data": {
      "text/html": [
       "<div>\n",
       "<style scoped>\n",
       "    .dataframe tbody tr th:only-of-type {\n",
       "        vertical-align: middle;\n",
       "    }\n",
       "\n",
       "    .dataframe tbody tr th {\n",
       "        vertical-align: top;\n",
       "    }\n",
       "\n",
       "    .dataframe thead th {\n",
       "        text-align: right;\n",
       "    }\n",
       "</style>\n",
       "<table border=\"1\" class=\"dataframe\">\n",
       "  <thead>\n",
       "    <tr style=\"text-align: right;\">\n",
       "      <th></th>\n",
       "      <th>n_words</th>\n",
       "      <th>n_unique_words</th>\n",
       "      <th>num_sentences</th>\n",
       "      <th>is_upper</th>\n",
       "      <th>mean_num_words</th>\n",
       "      <th>mean_num_unique_words</th>\n",
       "      <th>num_slash</th>\n",
       "      <th>paragraph_count</th>\n",
       "      <th>upper_count</th>\n",
       "      <th>syntax_count</th>\n",
       "      <th>...</th>\n",
       "      <th>rix</th>\n",
       "      <th>lix</th>\n",
       "      <th>pred_content</th>\n",
       "      <th>pred_wording</th>\n",
       "      <th>cohesion</th>\n",
       "      <th>syntax</th>\n",
       "      <th>vocabulary</th>\n",
       "      <th>phraseology</th>\n",
       "      <th>grammar</th>\n",
       "      <th>conventions</th>\n",
       "    </tr>\n",
       "  </thead>\n",
       "  <tbody>\n",
       "    <tr>\n",
       "      <th>0</th>\n",
       "      <td>61</td>\n",
       "      <td>51</td>\n",
       "      <td>4</td>\n",
       "      <td>True</td>\n",
       "      <td>15.25</td>\n",
       "      <td>15.0</td>\n",
       "      <td>0</td>\n",
       "      <td>0</td>\n",
       "      <td>0.0</td>\n",
       "      <td>0</td>\n",
       "      <td>...</td>\n",
       "      <td>3.0</td>\n",
       "      <td>36.61</td>\n",
       "      <td>-0.040558</td>\n",
       "      <td>0.873535</td>\n",
       "      <td>2.396729</td>\n",
       "      <td>2.672852</td>\n",
       "      <td>2.837891</td>\n",
       "      <td>2.824707</td>\n",
       "      <td>3.123535</td>\n",
       "      <td>2.683594</td>\n",
       "    </tr>\n",
       "  </tbody>\n",
       "</table>\n",
       "<p>1 rows × 40 columns</p>\n",
       "</div>"
      ],
      "text/plain": [
       "   n_words  n_unique_words  num_sentences  is_upper  mean_num_words  \\\n",
       "0       61              51              4      True           15.25   \n",
       "\n",
       "   mean_num_unique_words  num_slash  paragraph_count  upper_count  \\\n",
       "0                   15.0          0                0          0.0   \n",
       "\n",
       "   syntax_count  ...  rix    lix  pred_content  pred_wording  cohesion  \\\n",
       "0             0  ...  3.0  36.61     -0.040558      0.873535  2.396729   \n",
       "\n",
       "     syntax  vocabulary  phraseology   grammar  conventions  \n",
       "0  2.672852    2.837891     2.824707  3.123535     2.683594  \n",
       "\n",
       "[1 rows x 40 columns]"
      ]
     },
     "metadata": {},
     "output_type": "display_data"
    }
   ],
   "source": [
    "bert_cols = [f\"pred_{i}\" for i in cfg.target_list]\n",
    "train_feat_df[bert_cols] = oof\n",
    "\n",
    "feedback3_cols = [\"cohesion\", \"syntax\", \"vocabulary\", \"phraseology\", \"grammar\", \"conventions\"]\n",
    "train_feat_df[feedback3_cols] = train_df[[\"cohesion\", \"syntax\", \"vocabulary\", \"phraseology\", \"grammar\", \"conventions\"]]\n",
    "\n",
    "display(train_feat_df.head(1))"
   ]
  },
  {
   "cell_type": "code",
   "execution_count": 31,
   "id": "71cd69aa-e2f8-49b0-8003-0981189a2bfa",
   "metadata": {},
   "outputs": [],
   "source": [
    "import pickle\n",
    "oof_pred_lgbm = np.zeros((len(train_feat_df), 2), dtype=np.float32)\n",
    "models = []\n",
    "\n",
    "def training_lgbm(cfg, train_feat_df, target_df):\n",
    "    for fold in range(cfg.num_fold):\n",
    "        print(\"=\"*30, f\"Fold {fold}\", \"=\"*30)\n",
    "        X_train = train_feat_df.loc[cfg.folds!=fold]\n",
    "        X_valid = train_feat_df.loc[cfg.folds==fold]\n",
    "        train_idx = list(X_train.index)\n",
    "        valid_idx = list(X_valid.index)\n",
    "        \n",
    "        print(f\"Train: {X_train.shape}, Valid: {X_valid.shape}\")\n",
    "        for i, target in enumerate(cfg.target_list):\n",
    "            y_train = target_df.iloc[train_idx][target].reset_index(drop=True)\n",
    "            y_valid = target_df.iloc[valid_idx][target].reset_index(drop=True)\n",
    "\n",
    "            train_dataset = lgb.Dataset(X_train, y_train)\n",
    "            valid_dataset = lgb.Dataset(X_valid, y_valid)\n",
    "\n",
    "            model = lgb.train(\n",
    "                params=cfg.lgb_model_params,\n",
    "                train_set=train_dataset,\n",
    "                valid_sets=[train_dataset, valid_dataset],\n",
    "                callbacks=[\n",
    "                    lgb.early_stopping(100),\n",
    "                    lgb.log_evaluation(1000)\n",
    "                    ],\n",
    "                **cfg.lgb_train_params\n",
    "            )\n",
    "            models.append(model)\n",
    "            pickle.dump(model, open(cfg.EXP_MODEL /  f\"lgbm_fold{fold}_{target}.pkl\", \"wb\"))\n",
    "\n",
    "            oof_pred_lgbm[valid_idx, i] = model.predict(X_valid)\n",
    "\n",
    "            score = np.sqrt(mean_squared_error(y_valid, oof_pred_lgbm[valid_idx, i]))\n",
    "\n",
    "            print(f\"Fold {fold} Target {target} RMSE: {score:.4f}\")\n",
    "\n",
    "    pickle.dump(oof_pred_lgbm, open(cfg.EXP_PREDS /  f\"oof_lgbm.pkl\", \"wb\"))\n",
    "    score, _, _ = mcrmse(cfg, oof_pred_lgbm, target_df, verbose = True)\n",
    "    print(f\"Overall RMSE: {score:.5f}\")"
   ]
  },
  {
   "cell_type": "code",
   "execution_count": 32,
   "id": "d64a9362-341a-4865-ae93-226558f4b354",
   "metadata": {},
   "outputs": [
    {
     "name": "stdout",
     "output_type": "stream",
     "text": [
      "============================== Fold 0 ==============================\n",
      "Train: (6062, 40), Valid: (1103, 40)\n",
      "Training until validation scores don't improve for 100 rounds\n",
      "Early stopping, best iteration is:\n",
      "[613]\ttraining's l2: 0.0954332\tvalid_1's l2: 0.214504\n",
      "Fold 0 Target content RMSE: 0.4631\n",
      "Training until validation scores don't improve for 100 rounds\n",
      "Early stopping, best iteration is:\n",
      "[573]\ttraining's l2: 0.161155\tvalid_1's l2: 0.373786\n",
      "Fold 0 Target wording RMSE: 0.6114\n",
      "============================== Fold 1 ==============================\n",
      "Train: (5108, 40), Valid: (2057, 40)\n",
      "Training until validation scores don't improve for 100 rounds\n",
      "Early stopping, best iteration is:\n",
      "[247]\ttraining's l2: 0.145273\tvalid_1's l2: 0.144919\n",
      "Fold 1 Target content RMSE: 0.3807\n",
      "Training until validation scores don't improve for 100 rounds\n",
      "Early stopping, best iteration is:\n",
      "[283]\ttraining's l2: 0.213274\tvalid_1's l2: 0.251614\n",
      "Fold 1 Target wording RMSE: 0.5016\n",
      "============================== Fold 2 ==============================\n",
      "Train: (5156, 40), Valid: (2009, 40)\n",
      "Training until validation scores don't improve for 100 rounds\n",
      "Early stopping, best iteration is:\n",
      "[835]\ttraining's l2: 0.074785\tvalid_1's l2: 0.23633\n",
      "Fold 2 Target content RMSE: 0.4861\n",
      "Training until validation scores don't improve for 100 rounds\n",
      "Early stopping, best iteration is:\n",
      "[422]\ttraining's l2: 0.16583\tvalid_1's l2: 0.362338\n",
      "Fold 2 Target wording RMSE: 0.6019\n",
      "============================== Fold 3 ==============================\n",
      "Train: (5169, 40), Valid: (1996, 40)\n",
      "Training until validation scores don't improve for 100 rounds\n",
      "Early stopping, best iteration is:\n",
      "[304]\ttraining's l2: 0.123468\tvalid_1's l2: 0.18164\n",
      "Fold 3 Target content RMSE: 0.4262\n",
      "Training until validation scores don't improve for 100 rounds\n",
      "Early stopping, best iteration is:\n",
      "[501]\ttraining's l2: 0.177469\tvalid_1's l2: 0.23341\n",
      "Fold 3 Target wording RMSE: 0.4831\n",
      "content rmse: 0.4375972952702613\n",
      "wording rmse: 0.5444228379536171\n",
      "Overall RMSE: 0.49101\n"
     ]
    }
   ],
   "source": [
    "training_lgbm(cfg, train_feat_df, train_df[cfg.target_list])"
   ]
  },
  {
   "cell_type": "code",
   "execution_count": 33,
   "id": "e33aa98e-96ef-4193-8295-759b0b9821f4",
   "metadata": {},
   "outputs": [
    {
     "data": {
      "text/plain": [
       "<AxesSubplot: xlabel='importance', ylabel='feature'>"
      ]
     },
     "execution_count": 33,
     "metadata": {},
     "output_type": "execute_result"
    },
    {
     "data": {
      "image/png": "[encoded data removed]",
      "text/plain": [
       "<Figure size 1200x3000 with 1 Axes>"
      ]
     },
     "metadata": {},
     "output_type": "display_data"
    }
   ],
   "source": [
    "importance_df = pd.DataFrame()\n",
    "for fold in range(cfg.num_fold):\n",
    "    model = pickle.load(open(cfg.EXP_MODEL / f\"lgbm_fold{fold}_wording.pkl\", \"rb\"))\n",
    "    _df = pd.DataFrame()\n",
    "    _df[\"feature\"] = model.feature_name()\n",
    "    _df[\"importance\"] = model.feature_importance()\n",
    "    _df[\"fold\"] = fold\n",
    "    importance_df = pd.concat([importance_df, _df], axis=0)\n",
    "\n",
    "importance_df.groupby(\"feature\").agg({\"importance\": [\"mean\", \"std\"]}).sort_values((\"importance\", \"mean\"), ascending=False)\n",
    "\n",
    "fig, ax = plt.subplots(figsize=(12, 30))\n",
    "sns.barplot(x=\"importance\", y=\"feature\", data=importance_df.groupby(\"feature\").agg({\"importance\": \"mean\"}).reset_index().sort_values(\"importance\", ascending=False), ax=ax)"
   ]
  },
  {
   "cell_type": "markdown",
   "id": "5540cda9-3577-479c-9c79-990efa84afaf",
   "metadata": {},
   "source": [
    "# xgboost"
   ]
  },
  {
   "cell_type": "code",
   "execution_count": 34,
   "id": "b51d351e-ed85-477d-8307-52878e353022",
   "metadata": {},
   "outputs": [],
   "source": [
    "import xgboost as xgb\n",
    "oof_pred_xgb = np.zeros((len(train_feat_df), 2), dtype=np.float32)\n",
    "models = []\n",
    "\n",
    "def training_xgb(cfg, train_feat_df, target_df):\n",
    "    for fold in range(cfg.num_fold):\n",
    "        print(\"=\"*30, f\"Fold {fold}\", \"=\"*30)\n",
    "        X_train = train_feat_df.loc[cfg.folds!=fold]\n",
    "        X_valid = train_feat_df.loc[cfg.folds==fold]\n",
    "        train_idx = list(X_train.index)\n",
    "        valid_idx = list(X_valid.index)\n",
    "        \n",
    "        print(f\"Train: {X_train.shape}, Valid: {X_valid.shape}\")\n",
    "        for i, target in enumerate(cfg.target_list):\n",
    "            y_train = target_df.iloc[train_idx][target].reset_index(drop=True)\n",
    "            y_valid = target_df.iloc[valid_idx][target].reset_index(drop=True)\n",
    "\n",
    "            train_dataset = xgb.DMatrix(X_train, label=y_train)\n",
    "            valid_dataset = xgb.DMatrix(X_valid, label=y_valid)\n",
    "\n",
    "            model = xgb.train(\n",
    "                cfg.xgb_model_params,\n",
    "                train_dataset,\n",
    "                evals=[(train_dataset, \"train\"), (valid_dataset, \"valid\")],\n",
    "                callbacks=[\n",
    "                    xgb.callback.EarlyStopping(\n",
    "                        cfg.xgb_stopping_rounds,\n",
    "                        save_best=True,\n",
    "                        maximize=False,\n",
    "                    )\n",
    "                ],\n",
    "                **cfg.xgb_train_params,\n",
    "            )\n",
    "            models.append(model)\n",
    "            pickle.dump(model, open(cfg.EXP_MODEL /  f\"xgb_fold{fold}_{target}.pkl\", \"wb\"))\n",
    "\n",
    "            oof_pred_xgb[valid_idx, i] = model.predict(valid_dataset)\n",
    "\n",
    "            score = np.sqrt(mean_squared_error(y_valid, oof_pred_xgb[valid_idx, i]))\n",
    "\n",
    "            print(f\"Fold {fold} Target {target} RMSE: {score:.4f}\")\n",
    "\n",
    "    pickle.dump(oof_pred_xgb, open(cfg.EXP_PREDS /  f\"oof_xgb.pkl\", \"wb\"))\n",
    "    score, _, _ = mcrmse(cfg, oof_pred_xgb, target_df, verbose = True)\n",
    "    print(f\"Overall RMSE: {score:.5f}\")"
   ]
  },
  {
   "cell_type": "code",
   "execution_count": 35,
   "id": "6e445df6-4323-44d6-aea2-d26c4cf5e613",
   "metadata": {},
   "outputs": [
    {
     "name": "stdout",
     "output_type": "stream",
     "text": [
      "============================== Fold 0 ==============================\n",
      "Train: (6062, 40), Valid: (1103, 40)\n",
      "[0]\ttrain-rmse:1.15118\tvalid-rmse:1.16779\n",
      "[701]\ttrain-rmse:0.34787\tvalid-rmse:0.45655\n",
      "Fold 0 Target content RMSE: 0.4555\n",
      "[0]\ttrain-rmse:1.18254\tvalid-rmse:1.10119\n",
      "[1000]\ttrain-rmse:0.43538\tvalid-rmse:0.64349\n",
      "[1260]\ttrain-rmse:0.42205\tvalid-rmse:0.64152\n",
      "Fold 0 Target wording RMSE: 0.6412\n",
      "============================== Fold 1 ==============================\n",
      "Train: (5108, 40), Valid: (2057, 40)\n",
      "[0]\ttrain-rmse:1.16383\tvalid-rmse:1.12717\n",
      "[324]\ttrain-rmse:0.38947\tvalid-rmse:0.38155\n",
      "Fold 1 Target content RMSE: 0.3809\n",
      "[0]\ttrain-rmse:1.14774\tvalid-rmse:1.22572\n",
      "[416]\ttrain-rmse:0.48996\tvalid-rmse:0.51658\n",
      "Fold 1 Target wording RMSE: 0.5161\n",
      "============================== Fold 2 ==============================\n",
      "Train: (5156, 40), Valid: (2009, 40)\n",
      "[0]\ttrain-rmse:1.14153\tvalid-rmse:1.18483\n",
      "[827]\ttrain-rmse:0.33130\tvalid-rmse:0.45472\n",
      "Fold 2 Target content RMSE: 0.4545\n",
      "[0]\ttrain-rmse:1.19614\tvalid-rmse:1.10129\n",
      "[549]\ttrain-rmse:0.44748\tvalid-rmse:0.61301\n",
      "Fold 2 Target wording RMSE: 0.6127\n",
      "============================== Fold 3 ==============================\n",
      "Train: (5169, 40), Valid: (1996, 40)\n",
      "[0]\ttrain-rmse:1.15827\tvalid-rmse:1.14114\n",
      "[515]\ttrain-rmse:0.36180\tvalid-rmse:0.40474\n",
      "Fold 3 Target content RMSE: 0.4046\n",
      "[0]\ttrain-rmse:1.15217\tvalid-rmse:1.21711\n",
      "[750]\ttrain-rmse:0.46695\tvalid-rmse:0.48171\n",
      "Fold 3 Target wording RMSE: 0.4813\n",
      "content rmse: 0.4208588868457768\n",
      "wording rmse: 0.5563811212342855\n",
      "Overall RMSE: 0.48862\n"
     ]
    }
   ],
   "source": [
    "training_xgb(cfg, train_feat_df, train_df[cfg.target_list])"
   ]
  },
  {
   "cell_type": "markdown",
   "id": "a765ad25-c07a-4956-a305-7f42b049a9cb",
   "metadata": {},
   "source": [
    "# catboost"
   ]
  },
  {
   "cell_type": "code",
   "execution_count": 38,
   "id": "df42b1d5-4642-4b83-aecb-33a44f3141cc",
   "metadata": {},
   "outputs": [],
   "source": [
    "import catboost as cbt\n",
    "oof_pred_cbt = np.zeros((len(train_feat_df), 2), dtype=np.float32)\n",
    "models = []\n",
    "\n",
    "def training_cbt(cfg, train_feat_df, target_df):\n",
    "    for fold in range(cfg.num_fold):\n",
    "        print(\"=\"*30, f\"Fold {fold}\", \"=\"*30)\n",
    "        X_train = train_feat_df.loc[cfg.folds!=fold]\n",
    "        X_valid = train_feat_df.loc[cfg.folds==fold]\n",
    "        train_idx = list(X_train.index)\n",
    "        valid_idx = list(X_valid.index)\n",
    "        \n",
    "        print(f\"Train: {X_train.shape}, Valid: {X_valid.shape}\")\n",
    "        for i, target in enumerate(cfg.target_list):\n",
    "            y_train = target_df.iloc[train_idx][target].reset_index(drop=True)\n",
    "            y_valid = target_df.iloc[valid_idx][target].reset_index(drop=True)\n",
    "            \n",
    "            train_dataset = cbt.Pool(X_train, label=y_train)\n",
    "            valid_dataset = cbt.Pool(X_valid, label=y_valid)\n",
    "\n",
    "            model = cbt.train(\n",
    "                params=cfg.cbt_model_params,\n",
    "                dtrain=train_dataset,\n",
    "                evals=valid_dataset,\n",
    "                # **self.train_params,\n",
    "            )\n",
    "            models.append(model)\n",
    "            pickle.dump(model, open(cfg.EXP_MODEL /  f\"cbt_fold{fold}_{target}.pkl\", \"wb\"))\n",
    "\n",
    "            oof_pred_cbt[valid_idx, i] = model.predict(valid_dataset)\n",
    "\n",
    "            score = np.sqrt(mean_squared_error(y_valid, oof_pred_cbt[valid_idx, i]))\n",
    "\n",
    "            print(f\"Fold {fold} Target {target} RMSE: {score:.4f}\")\n",
    "\n",
    "    pickle.dump(oof_pred_cbt, open(cfg.EXP_PREDS /  f\"oof_cbt.pkl\", \"wb\"))\n",
    "    score, _, _ = mcrmse(cfg, oof_pred_cbt, target_df, verbose = True)\n",
    "    print(f\"Overall RMSE: {score:.5f}\")"
   ]
  },
  {
   "cell_type": "code",
   "execution_count": 39,
   "id": "e096ab66-3cf3-4210-8080-1c505c1e9753",
   "metadata": {},
   "outputs": [
    {
     "name": "stdout",
     "output_type": "stream",
     "text": [
      "============================== Fold 0 ==============================\n",
      "Train: (6062, 40), Valid: (1103, 40)\n",
      "0:\tlearn: 1.0176969\ttest: 1.1328129\tbest: 1.1328129 (0)\ttotal: 47.5ms\tremaining: 1h 19m 8s\n",
      "100:\tlearn: 0.5776241\ttest: 0.6782117\tbest: 0.6782117 (100)\ttotal: 159ms\tremaining: 2m 37s\n",
      "200:\tlearn: 0.4489695\ttest: 0.5290273\tbest: 0.5290273 (200)\ttotal: 265ms\tremaining: 2m 11s\n",
      "300:\tlearn: 0.4122611\ttest: 0.4819507\tbest: 0.4819507 (300)\ttotal: 373ms\tremaining: 2m 3s\n",
      "400:\tlearn: 0.3992049\ttest: 0.4654209\tbest: 0.4654209 (400)\ttotal: 477ms\tremaining: 1m 58s\n",
      "500:\tlearn: 0.3935360\ttest: 0.4584702\tbest: 0.4584702 (500)\ttotal: 581ms\tremaining: 1m 55s\n",
      "600:\tlearn: 0.3899358\ttest: 0.4556596\tbest: 0.4556596 (600)\ttotal: 684ms\tremaining: 1m 53s\n",
      "700:\tlearn: 0.3874250\ttest: 0.4543961\tbest: 0.4543961 (700)\ttotal: 783ms\tremaining: 1m 50s\n",
      "800:\tlearn: 0.3853846\ttest: 0.4534783\tbest: 0.4534783 (800)\ttotal: 894ms\tremaining: 1m 50s\n",
      "900:\tlearn: 0.3836064\ttest: 0.4527644\tbest: 0.4527636 (899)\ttotal: 1s\tremaining: 1m 50s\n",
      "1000:\tlearn: 0.3823740\ttest: 0.4523018\tbest: 0.4523018 (1000)\ttotal: 1.1s\tremaining: 1m 49s\n",
      "1100:\tlearn: 0.3815491\ttest: 0.4521127\tbest: 0.4520764 (1092)\ttotal: 1.2s\tremaining: 1m 47s\n",
      "1200:\tlearn: 0.3806189\ttest: 0.4518849\tbest: 0.4518411 (1173)\ttotal: 1.3s\tremaining: 1m 46s\n",
      "1300:\tlearn: 0.3797929\ttest: 0.4518490\tbest: 0.4517576 (1250)\ttotal: 1.4s\tremaining: 1m 45s\n",
      "Stopped by overfitting detector  (100 iterations wait)\n",
      "\n",
      "bestTest = 0.451757609\n",
      "bestIteration = 1250\n",
      "\n",
      "Shrink model to first 1251 iterations.\n",
      "Fold 0 Target content RMSE: 0.4518\n",
      "0:\tlearn: 0.9802244\ttest: 1.2960655\tbest: 1.2960655 (0)\ttotal: 1.32ms\tremaining: 2m 11s\n",
      "100:\tlearn: 0.6461846\ttest: 0.8686411\tbest: 0.8686411 (100)\ttotal: 105ms\tremaining: 1m 43s\n",
      "200:\tlearn: 0.5504981\ttest: 0.7196376\tbest: 0.7196376 (200)\ttotal: 211ms\tremaining: 1m 44s\n",
      "300:\tlearn: 0.5217712\ttest: 0.6691633\tbest: 0.6691633 (300)\ttotal: 326ms\tremaining: 1m 48s\n",
      "400:\tlearn: 0.5113049\ttest: 0.6500902\tbest: 0.6500902 (400)\ttotal: 429ms\tremaining: 1m 46s\n",
      "500:\tlearn: 0.5059710\ttest: 0.6406579\tbest: 0.6406579 (500)\ttotal: 526ms\tremaining: 1m 44s\n",
      "600:\tlearn: 0.5025384\ttest: 0.6362852\tbest: 0.6362852 (600)\ttotal: 621ms\tremaining: 1m 42s\n",
      "700:\tlearn: 0.4997608\ttest: 0.6334433\tbest: 0.6334433 (700)\ttotal: 716ms\tremaining: 1m 41s\n",
      "800:\tlearn: 0.4974475\ttest: 0.6313888\tbest: 0.6313845 (799)\ttotal: 812ms\tremaining: 1m 40s\n",
      "900:\tlearn: 0.4950614\ttest: 0.6297162\tbest: 0.6297162 (900)\ttotal: 905ms\tremaining: 1m 39s\n",
      "1000:\tlearn: 0.4929241\ttest: 0.6284416\tbest: 0.6284366 (999)\ttotal: 998ms\tremaining: 1m 38s\n",
      "1100:\tlearn: 0.4908535\ttest: 0.6276590\tbest: 0.6276575 (1099)\ttotal: 1.09s\tremaining: 1m 38s\n",
      "1200:\tlearn: 0.4893546\ttest: 0.6271931\tbest: 0.6271823 (1199)\ttotal: 1.19s\tremaining: 1m 37s\n",
      "1300:\tlearn: 0.4877929\ttest: 0.6263279\tbest: 0.6263275 (1299)\ttotal: 1.28s\tremaining: 1m 36s\n",
      "1400:\tlearn: 0.4863803\ttest: 0.6259074\tbest: 0.6259074 (1400)\ttotal: 1.38s\tremaining: 1m 36s\n",
      "1500:\tlearn: 0.4848214\ttest: 0.6253467\tbest: 0.6253316 (1493)\ttotal: 1.47s\tremaining: 1m 36s\n",
      "1600:\tlearn: 0.4832376\ttest: 0.6249865\tbest: 0.6249736 (1587)\ttotal: 1.57s\tremaining: 1m 36s\n",
      "1700:\tlearn: 0.4818267\ttest: 0.6246152\tbest: 0.6245817 (1696)\ttotal: 1.68s\tremaining: 1m 37s\n",
      "1800:\tlearn: 0.4805497\ttest: 0.6244010\tbest: 0.6243505 (1773)\ttotal: 1.78s\tremaining: 1m 37s\n",
      "1900:\tlearn: 0.4789967\ttest: 0.6240109\tbest: 0.6240069 (1898)\ttotal: 1.89s\tremaining: 1m 37s\n",
      "2000:\tlearn: 0.4772986\ttest: 0.6236499\tbest: 0.6236499 (2000)\ttotal: 1.99s\tremaining: 1m 37s\n",
      "2100:\tlearn: 0.4758266\ttest: 0.6231584\tbest: 0.6231442 (2095)\ttotal: 2.1s\tremaining: 1m 37s\n",
      "2200:\tlearn: 0.4740871\ttest: 0.6229216\tbest: 0.6229216 (2200)\ttotal: 2.21s\tremaining: 1m 38s\n",
      "2300:\tlearn: 0.4724199\ttest: 0.6224692\tbest: 0.6224692 (2300)\ttotal: 2.32s\tremaining: 1m 38s\n",
      "2400:\tlearn: 0.4707833\ttest: 0.6220510\tbest: 0.6220510 (2400)\ttotal: 2.42s\tremaining: 1m 38s\n",
      "2500:\tlearn: 0.4692114\ttest: 0.6219919\tbest: 0.6219455 (2460)\ttotal: 2.52s\tremaining: 1m 38s\n",
      "2600:\tlearn: 0.4677450\ttest: 0.6217952\tbest: 0.6217830 (2597)\ttotal: 2.63s\tremaining: 1m 38s\n",
      "2700:\tlearn: 0.4660595\ttest: 0.6215765\tbest: 0.6215512 (2699)\ttotal: 2.74s\tremaining: 1m 38s\n",
      "2800:\tlearn: 0.4645347\ttest: 0.6215396\tbest: 0.6215125 (2788)\ttotal: 2.85s\tremaining: 1m 38s\n",
      "2900:\tlearn: 0.4629682\ttest: 0.6214798\tbest: 0.6214377 (2871)\ttotal: 2.96s\tremaining: 1m 38s\n",
      "3000:\tlearn: 0.4615042\ttest: 0.6211578\tbest: 0.6211565 (2982)\ttotal: 3.06s\tremaining: 1m 38s\n",
      "3100:\tlearn: 0.4601447\ttest: 0.6212106\tbest: 0.6211099 (3078)\ttotal: 3.16s\tremaining: 1m 38s\n",
      "3200:\tlearn: 0.4587888\ttest: 0.6210759\tbest: 0.6210313 (3192)\ttotal: 3.27s\tremaining: 1m 38s\n",
      "3300:\tlearn: 0.4574187\ttest: 0.6208994\tbest: 0.6208405 (3291)\ttotal: 3.38s\tremaining: 1m 38s\n",
      "3400:\tlearn: 0.4558368\ttest: 0.6206860\tbest: 0.6206860 (3400)\ttotal: 3.48s\tremaining: 1m 38s\n",
      "3500:\tlearn: 0.4543290\ttest: 0.6206633\tbest: 0.6206519 (3499)\ttotal: 3.58s\tremaining: 1m 38s\n",
      "3600:\tlearn: 0.4527994\ttest: 0.6202622\tbest: 0.6202622 (3600)\ttotal: 3.69s\tremaining: 1m 38s\n",
      "3700:\tlearn: 0.4513483\ttest: 0.6200591\tbest: 0.6200450 (3696)\ttotal: 3.8s\tremaining: 1m 38s\n",
      "3800:\tlearn: 0.4498402\ttest: 0.6200752\tbest: 0.6199518 (3734)\ttotal: 3.9s\tremaining: 1m 38s\n",
      "Stopped by overfitting detector  (100 iterations wait)\n",
      "\n",
      "bestTest = 0.6199517994\n",
      "bestIteration = 3734\n",
      "\n",
      "Shrink model to first 3735 iterations.\n",
      "Fold 0 Target wording RMSE: 0.6200\n",
      "============================== Fold 1 ==============================\n",
      "Train: (5108, 40), Valid: (2057, 40)\n",
      "0:\tlearn: 1.0623411\ttest: 0.9686478\tbest: 0.9686478 (0)\ttotal: 1.27ms\tremaining: 2m 6s\n",
      "100:\tlearn: 0.6004725\ttest: 0.5301919\tbest: 0.5301919 (100)\ttotal: 104ms\tremaining: 1m 42s\n",
      "200:\tlearn: 0.4661136\ttest: 0.4220261\tbest: 0.4220261 (200)\ttotal: 220ms\tremaining: 1m 49s\n",
      "300:\tlearn: 0.4290673\ttest: 0.3999100\tbest: 0.3999100 (300)\ttotal: 327ms\tremaining: 1m 48s\n",
      "400:\tlearn: 0.4165399\ttest: 0.3941619\tbest: 0.3941584 (399)\ttotal: 440ms\tremaining: 1m 49s\n",
      "500:\tlearn: 0.4108641\ttest: 0.3925439\tbest: 0.3924358 (490)\ttotal: 552ms\tremaining: 1m 49s\n",
      "600:\tlearn: 0.4074419\ttest: 0.3916761\tbest: 0.3916761 (600)\ttotal: 653ms\tremaining: 1m 48s\n",
      "700:\tlearn: 0.4048803\ttest: 0.3913267\tbest: 0.3913202 (667)\ttotal: 751ms\tremaining: 1m 46s\n",
      "800:\tlearn: 0.4027426\ttest: 0.3909946\tbest: 0.3909866 (799)\ttotal: 846ms\tremaining: 1m 44s\n",
      "900:\tlearn: 0.4011782\ttest: 0.3908380\tbest: 0.3908215 (895)\ttotal: 942ms\tremaining: 1m 43s\n",
      "1000:\tlearn: 0.3998787\ttest: 0.3905670\tbest: 0.3905565 (998)\ttotal: 1.04s\tremaining: 1m 42s\n",
      "1100:\tlearn: 0.3990215\ttest: 0.3905863\tbest: 0.3904937 (1016)\ttotal: 1.13s\tremaining: 1m 41s\n",
      "Stopped by overfitting detector  (100 iterations wait)\n",
      "\n",
      "bestTest = 0.3904937119\n",
      "bestIteration = 1016\n",
      "\n",
      "Shrink model to first 1017 iterations.\n",
      "Fold 1 Target content RMSE: 0.3905\n",
      "0:\tlearn: 1.0202686\ttest: 1.0546656\tbest: 1.0546656 (0)\ttotal: 1.42ms\tremaining: 2m 21s\n",
      "100:\tlearn: 0.6752446\ttest: 0.6704282\tbest: 0.6704282 (100)\ttotal: 103ms\tremaining: 1m 42s\n",
      "200:\tlearn: 0.5762447\ttest: 0.5549893\tbest: 0.5549893 (200)\ttotal: 203ms\tremaining: 1m 40s\n",
      "300:\tlearn: 0.5464232\ttest: 0.5203156\tbest: 0.5203156 (300)\ttotal: 309ms\tremaining: 1m 42s\n",
      "400:\tlearn: 0.5351111\ttest: 0.5105143\tbest: 0.5105143 (400)\ttotal: 412ms\tremaining: 1m 42s\n",
      "500:\tlearn: 0.5291259\ttest: 0.5082599\tbest: 0.5082599 (500)\ttotal: 514ms\tremaining: 1m 42s\n",
      "600:\tlearn: 0.5250095\ttest: 0.5076943\tbest: 0.5076538 (597)\ttotal: 616ms\tremaining: 1m 41s\n",
      "700:\tlearn: 0.5214837\ttest: 0.5079678\tbest: 0.5076080 (606)\ttotal: 713ms\tremaining: 1m 40s\n",
      "Stopped by overfitting detector  (100 iterations wait)\n",
      "\n",
      "bestTest = 0.5076080216\n",
      "bestIteration = 606\n",
      "\n",
      "Shrink model to first 607 iterations.\n",
      "Fold 1 Target wording RMSE: 0.5076\n",
      "============================== Fold 2 ==============================\n",
      "Train: (5156, 40), Valid: (2009, 40)\n",
      "0:\tlearn: 1.0096078\ttest: 1.1014358\tbest: 1.1014358 (0)\ttotal: 1.63ms\tremaining: 2m 43s\n",
      "100:\tlearn: 0.5691494\ttest: 0.6584337\tbest: 0.6584337 (100)\ttotal: 111ms\tremaining: 1m 49s\n",
      "200:\tlearn: 0.4412144\ttest: 0.5266728\tbest: 0.5266728 (200)\ttotal: 221ms\tremaining: 1m 49s\n",
      "300:\tlearn: 0.4054050\ttest: 0.4828224\tbest: 0.4828224 (300)\ttotal: 321ms\tremaining: 1m 46s\n",
      "400:\tlearn: 0.3932469\ttest: 0.4673091\tbest: 0.4673091 (400)\ttotal: 421ms\tremaining: 1m 44s\n",
      "500:\tlearn: 0.3876481\ttest: 0.4603416\tbest: 0.4603416 (500)\ttotal: 519ms\tremaining: 1m 43s\n",
      "600:\tlearn: 0.3842065\ttest: 0.4569142\tbest: 0.4569142 (600)\ttotal: 624ms\tremaining: 1m 43s\n",
      "700:\tlearn: 0.3817118\ttest: 0.4545846\tbest: 0.4545846 (700)\ttotal: 721ms\tremaining: 1m 42s\n",
      "800:\tlearn: 0.3796246\ttest: 0.4532853\tbest: 0.4532629 (795)\ttotal: 823ms\tremaining: 1m 41s\n",
      "900:\tlearn: 0.3778331\ttest: 0.4518692\tbest: 0.4518692 (900)\ttotal: 922ms\tremaining: 1m 41s\n",
      "1000:\tlearn: 0.3760090\ttest: 0.4508253\tbest: 0.4508253 (1000)\ttotal: 1.02s\tremaining: 1m 41s\n",
      "1100:\tlearn: 0.3743114\ttest: 0.4499794\tbest: 0.4499727 (1097)\ttotal: 1.12s\tremaining: 1m 40s\n",
      "1200:\tlearn: 0.3726574\ttest: 0.4492874\tbest: 0.4492874 (1200)\ttotal: 1.22s\tremaining: 1m 40s\n",
      "1300:\tlearn: 0.3711723\ttest: 0.4487371\tbest: 0.4487358 (1299)\ttotal: 1.32s\tremaining: 1m 40s\n",
      "1400:\tlearn: 0.3696411\ttest: 0.4482714\tbest: 0.4482567 (1398)\ttotal: 1.43s\tremaining: 1m 40s\n",
      "1500:\tlearn: 0.3681239\ttest: 0.4479233\tbest: 0.4478784 (1489)\ttotal: 1.52s\tremaining: 1m 39s\n",
      "1600:\tlearn: 0.3665732\ttest: 0.4477666\tbest: 0.4477543 (1576)\ttotal: 1.62s\tremaining: 1m 39s\n",
      "1700:\tlearn: 0.3650844\ttest: 0.4474945\tbest: 0.4474911 (1699)\ttotal: 1.72s\tremaining: 1m 39s\n",
      "1800:\tlearn: 0.3633758\ttest: 0.4472303\tbest: 0.4472223 (1728)\ttotal: 1.8s\tremaining: 1m 38s\n",
      "1900:\tlearn: 0.3617858\ttest: 0.4469883\tbest: 0.4469611 (1890)\ttotal: 1.9s\tremaining: 1m 38s\n",
      "2000:\tlearn: 0.3602640\ttest: 0.4467270\tbest: 0.4466634 (1979)\ttotal: 2s\tremaining: 1m 37s\n",
      "2100:\tlearn: 0.3587162\ttest: 0.4465433\tbest: 0.4465282 (2097)\ttotal: 2.1s\tremaining: 1m 37s\n",
      "2200:\tlearn: 0.3572167\ttest: 0.4461730\tbest: 0.4461730 (2200)\ttotal: 2.2s\tremaining: 1m 37s\n",
      "2300:\tlearn: 0.3557190\ttest: 0.4459466\tbest: 0.4459381 (2295)\ttotal: 2.3s\tremaining: 1m 37s\n",
      "2400:\tlearn: 0.3541530\ttest: 0.4458517\tbest: 0.4457980 (2373)\ttotal: 2.4s\tremaining: 1m 37s\n",
      "2500:\tlearn: 0.3526702\ttest: 0.4458216\tbest: 0.4457387 (2442)\ttotal: 2.5s\tremaining: 1m 37s\n",
      "Stopped by overfitting detector  (100 iterations wait)\n",
      "\n",
      "bestTest = 0.4457386771\n",
      "bestIteration = 2442\n",
      "\n",
      "Shrink model to first 2443 iterations.\n",
      "Fold 2 Target content RMSE: 0.4457\n",
      "0:\tlearn: 1.0595877\ttest: 0.9484789\tbest: 0.9484789 (0)\ttotal: 1.29ms\tremaining: 2m 8s\n",
      "100:\tlearn: 0.6557301\ttest: 0.7288085\tbest: 0.7288085 (100)\ttotal: 97.9ms\tremaining: 1m 36s\n",
      "200:\tlearn: 0.5430342\ttest: 0.6749004\tbest: 0.6749004 (200)\ttotal: 194ms\tremaining: 1m 36s\n",
      "300:\tlearn: 0.5119295\ttest: 0.6533269\tbest: 0.6533269 (300)\ttotal: 294ms\tremaining: 1m 37s\n",
      "400:\tlearn: 0.5011102\ttest: 0.6455783\tbest: 0.6455783 (400)\ttotal: 393ms\tremaining: 1m 37s\n",
      "500:\tlearn: 0.4956722\ttest: 0.6422046\tbest: 0.6422046 (500)\ttotal: 489ms\tremaining: 1m 37s\n",
      "600:\tlearn: 0.4922194\ttest: 0.6408680\tbest: 0.6408200 (599)\ttotal: 593ms\tremaining: 1m 38s\n",
      "700:\tlearn: 0.4895541\ttest: 0.6396602\tbest: 0.6396263 (698)\ttotal: 691ms\tremaining: 1m 37s\n",
      "800:\tlearn: 0.4873293\ttest: 0.6380440\tbest: 0.6380440 (800)\ttotal: 795ms\tremaining: 1m 38s\n",
      "900:\tlearn: 0.4852565\ttest: 0.6369108\tbest: 0.6368881 (899)\ttotal: 956ms\tremaining: 1m 45s\n",
      "1000:\tlearn: 0.4834758\ttest: 0.6359083\tbest: 0.6359083 (1000)\ttotal: 1.15s\tremaining: 1m 53s\n",
      "1100:\tlearn: 0.4818472\ttest: 0.6355012\tbest: 0.6351699 (1087)\ttotal: 1.36s\tremaining: 2m 1s\n",
      "Stopped by overfitting detector  (100 iterations wait)\n",
      "\n",
      "bestTest = 0.6351698814\n",
      "bestIteration = 1087\n",
      "\n",
      "Shrink model to first 1088 iterations.\n",
      "Fold 2 Target wording RMSE: 0.6352\n",
      "============================== Fold 3 ==============================\n",
      "Train: (5169, 40), Valid: (1996, 40)\n",
      "0:\tlearn: 1.0541390\ttest: 0.9873889\tbest: 0.9873889 (0)\ttotal: 1.66ms\tremaining: 2m 45s\n",
      "100:\tlearn: 0.5989252\ttest: 0.5536148\tbest: 0.5536148 (100)\ttotal: 109ms\tremaining: 1m 47s\n",
      "200:\tlearn: 0.4627940\ttest: 0.4371828\tbest: 0.4371828 (200)\ttotal: 210ms\tremaining: 1m 44s\n",
      "300:\tlearn: 0.4231520\ttest: 0.4117838\tbest: 0.4117838 (300)\ttotal: 311ms\tremaining: 1m 43s\n",
      "400:\tlearn: 0.4089508\ttest: 0.4062053\tbest: 0.4061772 (399)\ttotal: 408ms\tremaining: 1m 41s\n",
      "500:\tlearn: 0.4024920\ttest: 0.4043452\tbest: 0.4043253 (493)\ttotal: 507ms\tremaining: 1m 40s\n",
      "600:\tlearn: 0.3982365\ttest: 0.4034042\tbest: 0.4033736 (594)\ttotal: 604ms\tremaining: 1m 39s\n",
      "700:\tlearn: 0.3950893\ttest: 0.4027586\tbest: 0.4027541 (684)\ttotal: 689ms\tremaining: 1m 37s\n",
      "800:\tlearn: 0.3924579\ttest: 0.4024182\tbest: 0.4023978 (796)\ttotal: 775ms\tremaining: 1m 36s\n",
      "900:\tlearn: 0.3904563\ttest: 0.4024530\tbest: 0.4023900 (866)\ttotal: 865ms\tremaining: 1m 35s\n",
      "Stopped by overfitting detector  (100 iterations wait)\n",
      "\n",
      "bestTest = 0.402389978\n",
      "bestIteration = 866\n",
      "\n",
      "Shrink model to first 867 iterations.\n",
      "Fold 3 Target content RMSE: 0.4024\n",
      "0:\tlearn: 1.0537386\ttest: 0.9795807\tbest: 0.9795807 (0)\ttotal: 1.32ms\tremaining: 2m 11s\n",
      "100:\tlearn: 0.6897457\ttest: 0.6079410\tbest: 0.6079410 (100)\ttotal: 105ms\tremaining: 1m 44s\n",
      "200:\tlearn: 0.5847684\ttest: 0.5078738\tbest: 0.5078738 (200)\ttotal: 206ms\tremaining: 1m 42s\n",
      "300:\tlearn: 0.5539786\ttest: 0.4848651\tbest: 0.4848651 (300)\ttotal: 313ms\tremaining: 1m 43s\n",
      "400:\tlearn: 0.5423784\ttest: 0.4789916\tbest: 0.4789916 (400)\ttotal: 416ms\tremaining: 1m 43s\n",
      "500:\tlearn: 0.5365590\ttest: 0.4770141\tbest: 0.4770141 (500)\ttotal: 515ms\tremaining: 1m 42s\n",
      "600:\tlearn: 0.5326560\ttest: 0.4758965\tbest: 0.4758965 (600)\ttotal: 614ms\tremaining: 1m 41s\n",
      "700:\tlearn: 0.5293046\ttest: 0.4752862\tbest: 0.4752862 (700)\ttotal: 714ms\tremaining: 1m 41s\n",
      "800:\tlearn: 0.5265003\ttest: 0.4749907\tbest: 0.4749694 (794)\ttotal: 819ms\tremaining: 1m 41s\n",
      "900:\tlearn: 0.5238439\ttest: 0.4747888\tbest: 0.4747830 (899)\ttotal: 920ms\tremaining: 1m 41s\n",
      "1000:\tlearn: 0.5212112\ttest: 0.4745591\tbest: 0.4745063 (980)\ttotal: 1.02s\tremaining: 1m 41s\n",
      "1100:\tlearn: 0.5184305\ttest: 0.4744043\tbest: 0.4743567 (1058)\ttotal: 1.13s\tremaining: 1m 41s\n",
      "1200:\tlearn: 0.5160797\ttest: 0.4743250\tbest: 0.4743043 (1194)\ttotal: 1.23s\tremaining: 1m 41s\n",
      "1300:\tlearn: 0.5140142\ttest: 0.4743338\tbest: 0.4742361 (1278)\ttotal: 1.34s\tremaining: 1m 41s\n",
      "Stopped by overfitting detector  (100 iterations wait)\n",
      "\n",
      "bestTest = 0.4742361362\n",
      "bestIteration = 1278\n",
      "\n",
      "Shrink model to first 1279 iterations.\n",
      "Fold 3 Target wording RMSE: 0.4742\n",
      "content rmse: 0.41953515335241\n",
      "wording rmse: 0.5557990642032117\n",
      "Overall RMSE: 0.48767\n"
     ]
    }
   ],
   "source": [
    "training_cbt(cfg, train_feat_df, train_df[cfg.target_list])"
   ]
  },
  {
   "cell_type": "markdown",
   "id": "d615f6ec-42e6-4151-b489-b0161d44a118",
   "metadata": {},
   "source": [
    "# nelder-mead"
   ]
  },
  {
   "cell_type": "code",
   "execution_count": 40,
   "id": "0ed741f6-a8a9-4485-b6f2-166224731c57",
   "metadata": {},
   "outputs": [],
   "source": [
    "from scipy.optimize import minimize"
   ]
  },
  {
   "cell_type": "code",
   "execution_count": 43,
   "id": "fc01daf8-5a08-4878-90ea-54792fba0b18",
   "metadata": {},
   "outputs": [],
   "source": [
    "lgb_oof = pickle.load(open(cfg.EXP_PREDS / \"oof_lgbm.pkl\", \"rb\"))\n",
    "xgb_oof = pickle.load(open(cfg.EXP_PREDS / \"oof_xgb.pkl\", \"rb\"))\n",
    "cbt_oof = pickle.load(open(cfg.EXP_PREDS / \"oof_cbt.pkl\", \"rb\"))"
   ]
  },
  {
   "cell_type": "code",
   "execution_count": 47,
   "id": "45a6d48a-7b36-4b1d-be7d-874152b9b064",
   "metadata": {},
   "outputs": [],
   "source": [
    "oof_preds = np.stack([lgb_oof, xgb_oof, cbt_oof], axis=1)"
   ]
  },
  {
   "cell_type": "code",
   "execution_count": 50,
   "id": "21fcca22-5c20-4cda-a0b8-4d7f066ce9e3",
   "metadata": {},
   "outputs": [],
   "source": [
    "content_pred = oof_val_preds[:, :, 0]\n",
    "wording_pred = oof_val_preds[:, :, 1]"
   ]
  },
  {
   "cell_type": "code",
   "execution_count": 53,
   "id": "7d7665a9-f1d9-400f-a990-68d3860efd66",
   "metadata": {},
   "outputs": [
    {
     "name": "stdout",
     "output_type": "stream",
     "text": [
      "0.4185881623878993 [-0.03560153  0.37704621  0.5571297 ]\n"
     ]
    }
   ],
   "source": [
    "# def metric\n",
    "target_col = ['content']\n",
    "\n",
    "def loss(y_true,y_pred):\n",
    "    return np.sqrt(mean_squared_error(y_true,y_pred))\n",
    "    \n",
    "def func(weights):\n",
    "    pred = np.average(content_pred, axis=1, weights=weights)\n",
    "    score = loss(train_df[target_col].values, pred)\n",
    "    return score\n",
    "\n",
    "model_num = content_pred.shape[1]\n",
    "# 初期値\n",
    "initial_weights = np.ones(model_num)/model_num\n",
    "res = minimize(func, initial_weights, method='Nelder-Mead')\n",
    "\n",
    "# CV, weight\n",
    "print(res['fun'], res['x'])\n",
    "\n",
    "np.save(cfg.EXP_PREDS / \"content_weight.npy\", res['x'])"
   ]
  },
  {
   "cell_type": "code",
   "execution_count": 55,
   "id": "d320e7e3-0b09-404d-8618-02881261f5f6",
   "metadata": {},
   "outputs": [
    {
     "name": "stdout",
     "output_type": "stream",
     "text": [
      "0.5533710325603608 [0.2393748  0.31763175 0.41734212]\n"
     ]
    }
   ],
   "source": [
    "# def metric\n",
    "target_col = ['wording']\n",
    "\n",
    "def loss(y_true,y_pred):\n",
    "    return np.sqrt(mean_squared_error(y_true,y_pred))\n",
    "    \n",
    "def func(weights):\n",
    "    pred = np.average(wording_pred, axis=1, weights=weights)\n",
    "    score = loss(train_df[target_col].values, pred)\n",
    "    return score\n",
    "\n",
    "model_num = wording_pred.shape[1]\n",
    "# 初期値\n",
    "initial_weights = np.ones(model_num)/model_num\n",
    "res = minimize(func, initial_weights, method='Nelder-Mead')\n",
    "\n",
    "# CV, weight\n",
    "print(res['fun'], res['x'])\n",
    "\n",
    "np.save(cfg.EXP_PREDS / \"wording_weight.npy\", res['x'])"
   ]
  },
  {
   "cell_type": "code",
   "execution_count": 56,
   "id": "21e0bcf2-0b65-42ed-ad64-cc41de871f88",
   "metadata": {},
   "outputs": [
    {
     "data": {
      "text/plain": [
       "0.48597959747413005"
      ]
     },
     "execution_count": 56,
     "metadata": {},
     "output_type": "execute_result"
    }
   ],
   "source": [
    "(0.4185881623878993 + 0.5533710325603608)/2"
   ]
  },
  {
   "cell_type": "code",
   "execution_count": 34,
   "id": "4e5ed5af-354d-41bd-b024-58f8f74930b7",
   "metadata": {},
   "outputs": [
    {
     "name": "stdout",
     "output_type": "stream",
     "text": [
      "Starting upload for file tokenizer.tar\n"
     ]
    },
    {
     "name": "stderr",
     "output_type": "stream",
     "text": [
      "100%|██████████| 2.36M/2.36M [00:00<00:00, 4.98MB/s]\n"
     ]
    },
    {
     "name": "stdout",
     "output_type": "stream",
     "text": [
      "Upload successful: tokenizer.tar (2MB)\n",
      "Starting upload for file model.tar\n"
     ]
    },
    {
     "name": "stderr",
     "output_type": "stream",
     "text": [
      "100%|██████████| 1.62G/1.62G [00:12<00:00, 141MB/s] \n"
     ]
    },
    {
     "name": "stdout",
     "output_type": "stream",
     "text": [
      "Upload successful: model.tar (2GB)\n",
      "Starting upload for file corpus.txt\n"
     ]
    },
    {
     "name": "stderr",
     "output_type": "stream",
     "text": [
      "100%|██████████| 16.5M/16.5M [00:00<00:00, 30.6MB/s]\n"
     ]
    },
    {
     "name": "stdout",
     "output_type": "stream",
     "text": [
      "Upload successful: corpus.txt (16MB)\n",
      "Starting upload for file .ipynb_checkpoints.tar\n"
     ]
    },
    {
     "name": "stderr",
     "output_type": "stream",
     "text": [
      "100%|██████████| 10.0k/10.0k [00:00<00:00, 16.1kB/s]\n"
     ]
    },
    {
     "name": "stdout",
     "output_type": "stream",
     "text": [
      "Upload successful: .ipynb_checkpoints.tar (10KB)\n"
     ]
    }
   ],
   "source": [
    "!pip install -qq kaggle\n",
    "from pathlib import PosixPath\n",
    "from kaggle.api.kaggle_api_extended import KaggleApi\n",
    "dataset_create_new(dataset_name=\"commonlit2-pretrained-debertav3large\", upload_dir=\"/notebooks/output/commonlit-mlm-deberta-v3-large\")"
   ]
  },
  {
   "cell_type": "code",
   "execution_count": null,
   "id": "465e4627-27d8-4638-b5b5-13ee9f85d88e",
   "metadata": {},
   "outputs": [],
   "source": []
  }
 ],
 "metadata": {
  "kernelspec": {
   "display_name": "Python 3 (ipykernel)",
   "language": "python",
   "name": "python3"
  },
  "language_info": {
   "codemirror_mode": {
    "name": "ipython",
    "version": 3
   },
   "file_extension": ".py",
   "mimetype": "text/x-python",
   "name": "python",
   "nbconvert_exporter": "python",
   "pygments_lexer": "ipython3",
   "version": "3.9.16"
  }
 },
 "nbformat": 4,
 "nbformat_minor": 5
}
